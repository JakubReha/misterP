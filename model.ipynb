{
 "cells": [
  {
   "cell_type": "markdown",
   "metadata": {},
   "source": [
    "# MULTILEVEL REGRESSION AND POSTSTRATIFICATION "
   ]
  },
  {
   "cell_type": "markdown",
   "metadata": {},
   "source": [
    "We will explore the opinion on the question: \"Should employers be allowed to decline coverage of abortions in insurance plans? (YES / NO)\" in the US society. The survey was answered by approximately 60 000 US citizens and the result was 43/57 for YES/NO. We will look at:\n",
    "-  how our model predicts the opinion of the whole US population (data for over 200 000 000 citizens)\n",
    "-  how would the model behave if the survey was much smaller (5000 participants) or imbalanced and mostly answered by a specific group of the society (old white males)\n",
    "-  what if we had another feature in the survey (partisanship) but we don't have this type of data for the whole population"
   ]
  },
  {
   "cell_type": "code",
   "execution_count": 30,
   "metadata": {
    "colab": {
     "base_uri": "https://localhost:8080/"
    },
    "id": "6YhI2BwI8-8l",
    "outputId": "cef7b9c8-dd76-41d8-e7c5-36d1f692699d"
   },
   "outputs": [],
   "source": [
    "#!pip install pyro-ppl==1.5.2\n",
    "import pandas as pd\n",
    "import numpy as np\n",
    "from matplotlib import pyplot as plt\n",
    "from sklearn import linear_model\n",
    "import seaborn as sns\n",
    "import torch\n",
    "import math\n",
    "import pyro\n",
    "import pyro.distributions as dist\n",
    "from pyro.contrib.autoguide import AutoDiagonalNormal, AutoMultivariateNormal\n",
    "from pyro.infer import MCMC, NUTS, HMC, SVI, Trace_ELBO\n",
    "from pyro.optim import Adam, ClippedAdam\n",
    "import warnings\n",
    "warnings.filterwarnings('ignore')\n",
    "\n",
    "# fix random generator seed (for reproducibility of results)\n",
    "np.random.seed(42)\n",
    "torch.random.manual_seed(42)\n",
    "pyro.set_rng_seed(42)\n",
    "# matplotlib style options\n",
    "plt.style.use('ggplot')\n",
    "%matplotlib inline\n",
    "plt.rcParams['figure.figsize'] = (12, 8)"
   ]
  },
  {
   "cell_type": "code",
   "execution_count": 31,
   "metadata": {},
   "outputs": [],
   "source": [
    "# Progress Bar\n",
    "import time, sys\n",
    "from IPython.display import clear_output\n",
    "\n",
    "def update_progress(progress):\n",
    "    bar_length = 20\n",
    "    if isinstance(progress, int):\n",
    "        progress = float(progress)\n",
    "    if not isinstance(progress, float):\n",
    "        progress = 0\n",
    "    if progress < 0:\n",
    "        progress = 0\n",
    "    if progress >= 1:\n",
    "        progress = 1\n",
    "\n",
    "    block = int(round(bar_length * progress))\n",
    "\n",
    "    clear_output(wait = True)\n",
    "    text = \"Progress: [{0}] {1:.1f}%\".format( \"#\" * block + \"-\" * (bar_length - block), progress * 100)\n",
    "    print(text)\n"
   ]
  },
  {
   "cell_type": "markdown",
   "metadata": {},
   "source": [
    "# 1) DATA LOADING"
   ]
  },
  {
   "cell_type": "markdown",
   "metadata": {},
   "source": [
    "Data about the US states: a categorical feature \"region\" and a numerical feature \"republican support\""
   ]
  },
  {
   "cell_type": "code",
   "execution_count": 32,
   "metadata": {
    "colab": {
     "base_uri": "https://localhost:8080/",
     "height": 204
    },
    "id": "VzxonHlJ8-8o",
    "outputId": "80593f46-3471-4751-a6ba-f661311aa009"
   },
   "outputs": [],
   "source": [
    "df = pd.read_csv(\"Data/cces_all_clean.csv\")\n",
    "states = pd.read_excel(\"Data/states.xlsx\")\n",
    "states = states.rename(columns={'republican support percentage':\"rep_sup\"})"
   ]
  },
  {
   "cell_type": "code",
   "execution_count": 33,
   "metadata": {},
   "outputs": [
    {
     "data": {
      "text/html": [
       "<div>\n",
       "<style scoped>\n",
       "    .dataframe tbody tr th:only-of-type {\n",
       "        vertical-align: middle;\n",
       "    }\n",
       "\n",
       "    .dataframe tbody tr th {\n",
       "        vertical-align: top;\n",
       "    }\n",
       "\n",
       "    .dataframe thead th {\n",
       "        text-align: right;\n",
       "    }\n",
       "</style>\n",
       "<table border=\"1\" class=\"dataframe\">\n",
       "  <thead>\n",
       "    <tr style=\"text-align: right;\">\n",
       "      <th></th>\n",
       "      <th>states</th>\n",
       "      <th>rep_sup</th>\n",
       "      <th>region</th>\n",
       "    </tr>\n",
       "  </thead>\n",
       "  <tbody>\n",
       "    <tr>\n",
       "      <th>0</th>\n",
       "      <td>AK</td>\n",
       "      <td>0.51</td>\n",
       "      <td>west</td>\n",
       "    </tr>\n",
       "    <tr>\n",
       "      <th>1</th>\n",
       "      <td>AL</td>\n",
       "      <td>0.62</td>\n",
       "      <td>southeast</td>\n",
       "    </tr>\n",
       "    <tr>\n",
       "      <th>2</th>\n",
       "      <td>AR</td>\n",
       "      <td>0.60</td>\n",
       "      <td>southeast</td>\n",
       "    </tr>\n",
       "    <tr>\n",
       "      <th>3</th>\n",
       "      <td>AZ</td>\n",
       "      <td>0.48</td>\n",
       "      <td>southwest</td>\n",
       "    </tr>\n",
       "    <tr>\n",
       "      <th>4</th>\n",
       "      <td>CA</td>\n",
       "      <td>0.31</td>\n",
       "      <td>west</td>\n",
       "    </tr>\n",
       "  </tbody>\n",
       "</table>\n",
       "</div>"
      ],
      "text/plain": [
       "  states  rep_sup     region\n",
       "0     AK     0.51       west\n",
       "1     AL     0.62  southeast\n",
       "2     AR     0.60  southeast\n",
       "3     AZ     0.48  southwest\n",
       "4     CA     0.31       west"
      ]
     },
     "execution_count": 33,
     "metadata": {},
     "output_type": "execute_result"
    }
   ],
   "source": [
    "states.head()"
   ]
  },
  {
   "cell_type": "markdown",
   "metadata": {},
   "source": [
    "Survey data with the categorical features: \"state\", \"ethinicity\", \"gender\", \"age\", \"education\"."
   ]
  },
  {
   "cell_type": "code",
   "execution_count": 34,
   "metadata": {
    "id": "-vWWJoFX8-8p"
   },
   "outputs": [
    {
     "data": {
      "text/html": [
       "<div>\n",
       "<style scoped>\n",
       "    .dataframe tbody tr th:only-of-type {\n",
       "        vertical-align: middle;\n",
       "    }\n",
       "\n",
       "    .dataframe tbody tr th {\n",
       "        vertical-align: top;\n",
       "    }\n",
       "\n",
       "    .dataframe thead th {\n",
       "        text-align: right;\n",
       "    }\n",
       "</style>\n",
       "<table border=\"1\" class=\"dataframe\">\n",
       "  <thead>\n",
       "    <tr style=\"text-align: right;\">\n",
       "      <th></th>\n",
       "      <th>abortion</th>\n",
       "      <th>state</th>\n",
       "      <th>eth</th>\n",
       "      <th>male</th>\n",
       "      <th>age</th>\n",
       "      <th>educ</th>\n",
       "      <th>state_cat</th>\n",
       "      <th>eth_cat</th>\n",
       "      <th>male_cat</th>\n",
       "      <th>age_cat</th>\n",
       "      <th>educ_cat</th>\n",
       "    </tr>\n",
       "  </thead>\n",
       "  <tbody>\n",
       "    <tr>\n",
       "      <th>0</th>\n",
       "      <td>1</td>\n",
       "      <td>MD</td>\n",
       "      <td>Other</td>\n",
       "      <td>-0.5</td>\n",
       "      <td>50-59</td>\n",
       "      <td>Some college</td>\n",
       "      <td>19</td>\n",
       "      <td>2</td>\n",
       "      <td>0</td>\n",
       "      <td>3</td>\n",
       "      <td>4</td>\n",
       "    </tr>\n",
       "    <tr>\n",
       "      <th>1</th>\n",
       "      <td>1</td>\n",
       "      <td>TN</td>\n",
       "      <td>White</td>\n",
       "      <td>-0.5</td>\n",
       "      <td>40-49</td>\n",
       "      <td>HS</td>\n",
       "      <td>41</td>\n",
       "      <td>3</td>\n",
       "      <td>0</td>\n",
       "      <td>2</td>\n",
       "      <td>1</td>\n",
       "    </tr>\n",
       "    <tr>\n",
       "      <th>2</th>\n",
       "      <td>1</td>\n",
       "      <td>OH</td>\n",
       "      <td>White</td>\n",
       "      <td>-0.5</td>\n",
       "      <td>60-69</td>\n",
       "      <td>Some college</td>\n",
       "      <td>34</td>\n",
       "      <td>3</td>\n",
       "      <td>0</td>\n",
       "      <td>4</td>\n",
       "      <td>4</td>\n",
       "    </tr>\n",
       "    <tr>\n",
       "      <th>3</th>\n",
       "      <td>0</td>\n",
       "      <td>CA</td>\n",
       "      <td>Other</td>\n",
       "      <td>-0.5</td>\n",
       "      <td>70+</td>\n",
       "      <td>Post-grad</td>\n",
       "      <td>4</td>\n",
       "      <td>2</td>\n",
       "      <td>0</td>\n",
       "      <td>5</td>\n",
       "      <td>3</td>\n",
       "    </tr>\n",
       "    <tr>\n",
       "      <th>4</th>\n",
       "      <td>1</td>\n",
       "      <td>KY</td>\n",
       "      <td>White</td>\n",
       "      <td>-0.5</td>\n",
       "      <td>40-49</td>\n",
       "      <td>HS</td>\n",
       "      <td>16</td>\n",
       "      <td>3</td>\n",
       "      <td>0</td>\n",
       "      <td>2</td>\n",
       "      <td>1</td>\n",
       "    </tr>\n",
       "  </tbody>\n",
       "</table>\n",
       "</div>"
      ],
      "text/plain": [
       "   abortion state    eth  male    age          educ  state_cat  eth_cat  \\\n",
       "0         1    MD  Other  -0.5  50-59  Some college         19        2   \n",
       "1         1    TN  White  -0.5  40-49            HS         41        3   \n",
       "2         1    OH  White  -0.5  60-69  Some college         34        3   \n",
       "3         0    CA  Other  -0.5    70+     Post-grad          4        2   \n",
       "4         1    KY  White  -0.5  40-49            HS         16        3   \n",
       "\n",
       "   male_cat  age_cat  educ_cat  \n",
       "0         0        3         4  \n",
       "1         0        2         1  \n",
       "2         0        4         4  \n",
       "3         0        5         3  \n",
       "4         0        2         1  "
      ]
     },
     "execution_count": 34,
     "metadata": {},
     "output_type": "execute_result"
    }
   ],
   "source": [
    "categories = [\"state\", \"eth\", \"male\", \"age\", \"educ\"]\n",
    "for category in categories:\n",
    "    df[category+\"_cat\"] = df[category].astype('category').cat.codes\n",
    "states[\"region\"] = states[\"region\"].astype('category').cat.codes\n",
    "df.head()"
   ]
  },
  {
   "cell_type": "markdown",
   "metadata": {},
   "source": [
    "# 2) MODEL FITTING"
   ]
  },
  {
   "cell_type": "code",
   "execution_count": 35,
   "metadata": {},
   "outputs": [],
   "source": [
    "states_x = states.iloc[:,1:].values\n",
    "states_x = torch.tensor(states_x).float()"
   ]
  },
  {
   "cell_type": "code",
   "execution_count": 36,
   "metadata": {
    "colab": {
     "base_uri": "https://localhost:8080/"
    },
    "id": "Wxm1oCeb8-8r",
    "outputId": "734f04d9-1e88-4171-b8b1-c096afb2d360"
   },
   "outputs": [
    {
     "name": "stdout",
     "output_type": "stream",
     "text": [
      "torch.Size([59810, 5])\n",
      "torch.Size([50, 2])\n",
      "tensor([1., 1., 1.,  ..., 0., 0., 0.])\n"
     ]
    }
   ],
   "source": [
    "mat = df.iloc[:,6:].values\n",
    "X = mat\n",
    "X = torch.tensor(X).float()\n",
    "y = df.iloc[:,0].values\n",
    "y = torch.tensor(y).float()\n",
    "print(X.shape)\n",
    "print(states_x.shape)\n",
    "print(y)"
   ]
  },
  {
   "cell_type": "markdown",
   "metadata": {},
   "source": [
    "## BASELINES"
   ]
  },
  {
   "cell_type": "markdown",
   "metadata": {},
   "source": [
    "a) Always predicting \"NO\""
   ]
  },
  {
   "cell_type": "code",
   "execution_count": 37,
   "metadata": {},
   "outputs": [
    {
     "data": {
      "text/plain": [
       "0.5658418324694867"
      ]
     },
     "execution_count": 37,
     "metadata": {},
     "output_type": "execute_result"
    }
   ],
   "source": [
    "y_true = y.numpy()\n",
    "np.sum(np.zeros(len(y_true)) == y_true)/len(y_true)"
   ]
  },
  {
   "cell_type": "markdown",
   "metadata": {},
   "source": [
    "b) Logistic Regression"
   ]
  },
  {
   "cell_type": "code",
   "execution_count": 38,
   "metadata": {},
   "outputs": [
    {
     "name": "stdout",
     "output_type": "stream",
     "text": [
      "num train: 59810\n",
      "predictions: [0 0 0 ... 0 0 0]\n",
      "true values: [0 1 0 ... 1 1 0]\n",
      "Accuracy: 0.6015549239257649\n"
     ]
    }
   ],
   "source": [
    "from sklearn.linear_model import LogisticRegression\n",
    "df_2 = pd.read_csv(\"Data/cces_all_clean.csv\")\n",
    "states = pd.read_excel(\"Data/states.xlsx\")\n",
    "states = states.rename(columns={'republican support percentage':\"rep_sup\"})\n",
    "df_2 = df_2.merge(states,left_on = \"state\", right_on = \"states\")\n",
    "df_2 = df_2.drop(\"states\", axis = 1)\n",
    "category_columns = [\"state\", \"eth\", \"male\", \"age\", \"educ\", \"region\"]\n",
    "for col in category_columns:\n",
    "    df_2[col] = df_2[col].astype('category')\n",
    "df_regr = pd.get_dummies(df_2, columns=category_columns, drop_first=True)\n",
    "    \n",
    "train_perc = 1 #0.66 # percentage of training data\n",
    "split_point = int(train_perc*len(y))\n",
    "perm = np.random.permutation(len(y))\n",
    "ix_train = perm[:split_point]\n",
    "#ix_test = perm[split_point:]\n",
    "X_train = df_regr.iloc[:,1:].values[ix_train,:]\n",
    "#X_test = df_regr.iloc[:,1:].values[ix_test,:]\n",
    "y_train = df_regr.iloc[:,0].values[ix_train]\n",
    "#y_test = df_regr.iloc[:,0].values[ix_test]\n",
    "print(\"num train: %d\" % len(y_train))\n",
    "#print(\"num test: %d\" % len(y_test))\n",
    "\n",
    "regr = LogisticRegression()\n",
    "regr.fit(X_train, y_train)\n",
    "y_hat = regr.predict(X_train)\n",
    "\n",
    "\n",
    "print(\"predictions:\", y_hat)\n",
    "print(\"true values:\", y_train)\n",
    "\n",
    "# evaluate prediction accuracy\n",
    "print(\"Accuracy:\", 1.0*np.sum(y_hat == y_train) / len(y_train))"
   ]
  },
  {
   "cell_type": "markdown",
   "metadata": {},
   "source": [
    "## VARIATIONAL INFERENCE"
   ]
  },
  {
   "cell_type": "code",
   "execution_count": 39,
   "metadata": {
    "id": "YJ0RJSDq8-8s"
   },
   "outputs": [],
   "source": [
    "def model(X, states_x, obs=None):\n",
    "    \n",
    "    sigmas = pyro.sample(\"sigmas\", dist.HalfCauchy(torch.ones(8)*5.))\n",
    "    gammas = pyro.sample(\"gammas\", dist.Normal(torch.zeros(7), 5.0))\n",
    "    alpha_educ = pyro.sample(\"alpha_educ\", dist.Normal(torch.zeros(5), sigmas[0]))\n",
    "    alpha_eth = pyro.sample(\"alpha_eth\", dist.Normal(torch.zeros(4), sigmas[1]))\n",
    "    alpha_age = pyro.sample(\"alpha_age\", dist.Normal(torch.zeros(6), sigmas[2]))\n",
    "    alpha_male_eth = pyro.sample(\"alpha_male_eth\", dist.Normal(torch.zeros((2,4)), sigmas[3]))\n",
    "    alpha_educ_age = pyro.sample(\"alpha_educ_age\", dist.Normal(torch.zeros((5,6)), sigmas[4]))\n",
    "    alpha_educ_eth = pyro.sample(\"alpha_educ_eth\", dist.Normal(torch.zeros((5,4)), sigmas[5]))\n",
    "    \n",
    "    ####################\n",
    "    #alpha_state = pyro.sample(\"alpha_state\", dist.Normal(torch.zeros(50), sigmas[6]))\n",
    "    ####################\n",
    "    \n",
    "    beta_male = pyro.sample(\"beta_male\", dist.Normal(0.,5.))\n",
    "    with pyro.plate(\"data\", size=len(X), subsample_size=1000) as ind:\n",
    "        state = X[ind,0].tolist()\n",
    "        eth = X[ind,1].tolist()\n",
    "        male = X[ind,2].tolist()\n",
    "        male_t = X[ind,2]\n",
    "        age = X[ind,3].tolist()\n",
    "        educ = X[ind,4].tolist()\n",
    "        y = pyro.sample(\"y\",dist.Bernoulli(torch.sigmoid(gammas[5] + gammas[6]* states_x[:,0][state] + gammas[states_x[:,1][state].tolist()]+ alpha_educ[educ] + alpha_eth[eth] + alpha_age[age] + alpha_male_eth[male, eth] + alpha_educ_age[educ,age] + alpha_educ_eth[educ, eth] + beta_male*male_t)), obs= obs[ind])\n",
    "    return y"
   ]
  },
  {
   "cell_type": "code",
   "execution_count": 40,
   "metadata": {},
   "outputs": [],
   "source": [
    "def train_SVI(X,y,states_x,model):\n",
    "    # Define guide function\n",
    "    guide = AutoDiagonalNormal(model)\n",
    "\n",
    "    # Reset parameter values\n",
    "    pyro.clear_param_store()\n",
    "\n",
    "    # Define the number of optimization steps\n",
    "    n_steps = 6000\n",
    "\n",
    "    # Setup the optimizer\n",
    "    adam_params = {\"lr\": 0.01}\n",
    "    optimizer = ClippedAdam(adam_params)\n",
    "\n",
    "    # Setup the inference algorithm\n",
    "    elbo = Trace_ELBO(num_particles=3)\n",
    "    svi = SVI(model, guide, optimizer, loss=elbo)\n",
    "\n",
    "    # Do gradient steps\n",
    "    for step in range(n_steps):\n",
    "        elbo = svi.step(X,states_x,y)\n",
    "        if step % 500 == 0:\n",
    "            print(\"[%d] ELBO: %.1f\" % (step, elbo))\n",
    "    return guide"
   ]
  },
  {
   "cell_type": "code",
   "execution_count": 41,
   "metadata": {
    "colab": {
     "base_uri": "https://localhost:8080/"
    },
    "id": "hQKKSnkN8-8u",
    "outputId": "8601251a-e01f-4a70-e36b-b4ef692e9185"
   },
   "outputs": [],
   "source": [
    "#guide = train_SVI(X,y,states_x,model)"
   ]
  },
  {
   "cell_type": "code",
   "execution_count": 42,
   "metadata": {},
   "outputs": [],
   "source": [
    "#torch.save({\"guide\" : guide}, \"mymodel.pt\")\n",
    "#pyro.get_param_store().save(\"mymodelparams.pt\")"
   ]
  },
  {
   "cell_type": "code",
   "execution_count": 43,
   "metadata": {
    "id": "YxdAwCTH8-8v"
   },
   "outputs": [],
   "source": [
    "from pyro.infer import Predictive\n",
    "def sample_params(guide,X,states_x, y, model, num = 2000):\n",
    "    predictive = Predictive(model, guide=guide, num_samples=num,\n",
    "                            return_sites=(\"alpha_educ\", \"alpha_eth\", \"alpha_age\", \"beta_male\", \"alpha_educ_age\", \"alpha_educ_eth\", \"alpha_male_eth\", \"gammas\", \"y\"))\n",
    "    samples = predictive(X,states_x, y)\n",
    "    params =[\"alpha_educ\", \"alpha_eth\", \"alpha_age\", \"gammas\", \"beta_male\", \"alpha_educ_age\", \"alpha_educ_eth\", \"alpha_male_eth\"]\n",
    "    params_samples = {}\n",
    "    for param in params:\n",
    "        params_samples[param] = samples[param].detach().numpy()\n",
    "    return samples, params_samples"
   ]
  },
  {
   "cell_type": "code",
   "execution_count": 44,
   "metadata": {
    "id": "YxdAwCTH8-8v"
   },
   "outputs": [],
   "source": [
    "saved_model_dict = torch.load(\"mymodel.pt\")\n",
    "guide = saved_model_dict['guide']\n",
    "pyro.get_param_store().load(\"mymodelparams.pt\")\n",
    "samples, params_samples = sample_params(guide, X,states_x, y,model)"
   ]
  },
  {
   "cell_type": "code",
   "execution_count": 45,
   "metadata": {
    "colab": {
     "base_uri": "https://localhost:8080/",
     "height": 673
    },
    "id": "FapM6AoA8-8w",
    "outputId": "ca1bab72-2984-430a-84ed-619ef45849b8"
   },
   "outputs": [
    {
     "data": {
      "image/png": "[encoded data removed]",
      "text/plain": [
       "<Figure size 864x576 with 1 Axes>"
      ]
     },
     "metadata": {
      "needs_background": "light"
     },
     "output_type": "display_data"
    }
   ],
   "source": [
    "n_cat = 5\n",
    "for c in range(n_cat):\n",
    "    sns.distplot(params_samples[\"alpha_educ\"][:,c])\n",
    "plt.legend([\"alpha_educ[%d]\" % c for c in range(n_cat)])\n",
    "plt.show()"
   ]
  },
  {
   "cell_type": "code",
   "execution_count": 46,
   "metadata": {
    "colab": {
     "base_uri": "https://localhost:8080/",
     "height": 537
    },
    "id": "GB1_rY0I3C35",
    "outputId": "b8870c46-7950-4c85-e894-ea6409d998dc",
    "scrolled": false
   },
   "outputs": [
    {
     "data": {
      "image/png": "[encoded data removed]",
      "text/plain": [
       "<Figure size 864x576 with 1 Axes>"
      ]
     },
     "metadata": {
      "needs_background": "light"
     },
     "output_type": "display_data"
    }
   ],
   "source": [
    "sns.distplot(params_samples[\"beta_male\"])\n",
    "plt.legend([\"beta_male\"])\n",
    "plt.show()"
   ]
  },
  {
   "cell_type": "code",
   "execution_count": 47,
   "metadata": {
    "colab": {
     "base_uri": "https://localhost:8080/"
    },
    "id": "gP2XdUmd-rsH",
    "outputId": "3accc2de-360b-4b03-94d3-3156d71d43aa",
    "scrolled": true
   },
   "outputs": [
    {
     "name": "stdout",
     "output_type": "stream",
     "text": [
      "predictions: [0. 1. 0. ... 0. 0. 0.]\n",
      "true values: [1. 1. 1. ... 0. 0. 0.]\n",
      "Accuracy: 0.5971075071058352\n"
     ]
    }
   ],
   "source": [
    "# make predictions for the train set\n",
    "def sigmoid_n(x):\n",
    "    x = x.numpy()\n",
    "    return 1 / (1 + np.exp(-x))\n",
    "def compute_accuracy(samples,X,y,states_x):\n",
    "    params_hat = {}\n",
    "    params =[\"alpha_educ\", \"alpha_eth\", \"alpha_age\", \"gammas\", \"beta_male\", \"alpha_educ_age\", \"alpha_educ_eth\", \"alpha_male_eth\"]\n",
    "    # extract expected values of the parameters\n",
    "    for param in params:\n",
    "        params_hat[param] = samples[param].mean(axis=0).detach().numpy()\n",
    "    state = X[:,0].int().tolist()\n",
    "    eth = X[:,1].int().tolist()\n",
    "    male = X[:,2].int().tolist()\n",
    "    male_t = X[:,2].numpy()\n",
    "    age = X[:,3].int().tolist()\n",
    "    educ = X[:,4].int().tolist()\n",
    "    y_hat = np.round(sigmoid_n(params_hat[\"gammas\"][5]+ params_hat[\"gammas\"][6]* states_x[:,0][state]+ params_hat[\"gammas\"][states_x[:,1][state].int().tolist()] +params_hat[\"alpha_educ\"][educ]+ params_hat[\"alpha_eth\"][eth] + params_hat[\"alpha_age\"][age] + params_hat[\"alpha_male_eth\"][male, eth] + params_hat[\"alpha_educ_age\"][educ, age] + params_hat[\"alpha_educ_eth\"][educ, eth] +params_hat[\"beta_male\"]*male_t))\n",
    "    y_true = y.numpy()\n",
    "    print(\"predictions:\", y_hat)\n",
    "    print(\"true values:\", y_true)\n",
    "\n",
    "    # evaluate prediction accuracy\n",
    "    print(\"Accuracy:\", 1.0*np.sum(y_hat == y_true) / len(y_true))\n",
    "compute_accuracy(samples,X,y,states_x)"
   ]
  },
  {
   "cell_type": "markdown",
   "metadata": {},
   "source": [
    "## MARKOV CHAIN MONTE CARLO"
   ]
  },
  {
   "cell_type": "code",
   "execution_count": 48,
   "metadata": {},
   "outputs": [],
   "source": [
    "import numpyro\n",
    "import numpyro.distributions as ndist\n",
    "from numpyro import handlers\n",
    "from numpyro.infer import MCMC, NUTS, HMC\n",
    "\n",
    "def model2(X, obs=None):\n",
    "    \n",
    "    sigmas = numpyro.sample(\"sigmas\", ndist.HalfCauchy(5.), sample_shape = (8,))\n",
    "    gammas = numpyro.sample(\"gammas\", ndist.Normal(0., 5.), sample_shape = (7,))\n",
    "    alpha_educ = numpyro.sample(\"alpha_educ\", ndist.Normal(0., sigmas[0]), sample_shape = (5,))\n",
    "    alpha_eth = numpyro.sample(\"alpha_eth\", ndist.Normal(0., sigmas[1]), sample_shape = (4,))\n",
    "    alpha_age = numpyro.sample(\"alpha_age\", ndist.Normal(0., sigmas[2]), sample_shape = (6,))\n",
    "    alpha_male_eth = numpyro.sample(\"alpha_male_eth\", ndist.Normal(0., sigmas[3]), sample_shape = (2,4))\n",
    "    alpha_educ_age = numpyro.sample(\"alpha_educ_age\", ndist.Normal(0., sigmas[4]), sample_shape = (5,6))\n",
    "    alpha_educ_eth = numpyro.sample(\"alpha_educ_eth\", ndist.Normal(0., sigmas[5]), sample_shape = (5,4))\n",
    "    \n",
    "    beta_male = numpyro.sample(\"beta_male\", ndist.Normal(0.,5.))\n",
    "    with numpyro.plate(\"data\", size = len(X)):\n",
    "        state = X[:,0].tolist()\n",
    "        eth = X[:,1].tolist()\n",
    "        male = X[:,2].tolist()\n",
    "        male_t = X[:,2]\n",
    "        age = X[:,3].tolist()\n",
    "        educ = X[:,4].tolist()\n",
    "        y = numpyro.sample(\"y\", ndist.Bernoulli(jax.nn.sigmoid(gammas[5] + gammas[6]* jnp.array(states_x[:,0][state]) + gammas[jnp.array(states_x[:,1][state],dtype = int)]+ alpha_educ[jnp.array(educ, dtype = int)] + alpha_eth[jnp.array(eth, dtype = int)] + alpha_age[jnp.array(age, dtype = int)] + alpha_male_eth[jnp.array(male, dtype = int), jnp.array(eth, dtype = int)] + alpha_educ_age[jnp.array(educ, dtype = int), jnp.array(age, dtype = int)] + alpha_educ_eth[jnp.array(educ, dtype = int), jnp.array(eth, dtype = int)] + beta_male*jnp.array(male_t))), obs= jnp.array(obs))\n",
    "    return y"
   ]
  },
  {
   "cell_type": "code",
   "execution_count": 49,
   "metadata": {},
   "outputs": [
    {
     "data": {
      "text/plain": [
       "'\\nimport time\\nimport jax\\nimport jax.numpy as jnp\\nfrom jax import random, vmap\\nfrom jax.scipy.special import logsumexp\\nfrom jax import lax\\nt0 = time.time()\\n\\nrng_key = random.PRNGKey(0)\\nrng_key, rng_key_ = random.split(rng_key)\\n\\nnuts_kernel = NUTS(model=model2, max_tree_depth=8, step_size=5e-3, adapt_step_size=False)\\nmcmc = MCMC(nuts_kernel, num_samples=2000, num_warmup=500, num_chains=1)\\nmcmc.run(rng_key_, X, y)\\n\\nt_fin = time.time()\\n\\nprint(\"Total time: {0:.3f}m\".format((t_fin - t0)/60))\\n\\nhmc_samples = {k: np.asarray(v) for k, v in mcmc.get_samples().items()}\\nnp.save(\\'mcmc_posterior.npy\\',  hmc_samples) \\n'"
      ]
     },
     "execution_count": 49,
     "metadata": {},
     "output_type": "execute_result"
    }
   ],
   "source": [
    "\"\"\"\n",
    "import time\n",
    "import jax\n",
    "import jax.numpy as jnp\n",
    "from jax import random, vmap\n",
    "from jax.scipy.special import logsumexp\n",
    "from jax import lax\n",
    "t0 = time.time()\n",
    "\n",
    "rng_key = random.PRNGKey(0)\n",
    "rng_key, rng_key_ = random.split(rng_key)\n",
    "\n",
    "nuts_kernel = NUTS(model=model2, max_tree_depth=8, step_size=5e-3, adapt_step_size=False)\n",
    "mcmc = MCMC(nuts_kernel, num_samples=2000, num_warmup=500, num_chains=1)\n",
    "mcmc.run(rng_key_, X, y)\n",
    "\n",
    "t_fin = time.time()\n",
    "\n",
    "print(\"Total time: {0:.3f}m\".format((t_fin - t0)/60))\n",
    "\n",
    "hmc_samples = {k: np.asarray(v) for k, v in mcmc.get_samples().items()}\n",
    "np.save('mcmc_posterior.npy',  hmc_samples) \n",
    "\"\"\""
   ]
  },
  {
   "cell_type": "code",
   "execution_count": 50,
   "metadata": {},
   "outputs": [],
   "source": [
    "#hmc_samples = {k: v for k, v in mcmc.get_samples().items()}\n",
    "hmc_samples = np.load('mcmc_posterior.npy', allow_pickle = True) \n",
    "params_hat_2 = {}\n",
    "params =[\"alpha_educ\", \"alpha_eth\", \"alpha_age\", \"gammas\", \"beta_male\", \"alpha_educ_age\", \"alpha_educ_eth\", \"alpha_male_eth\"]\n",
    "for param in params:\n",
    "    params_hat_2[param] = hmc_samples.item()[param].mean(axis=0)"
   ]
  },
  {
   "cell_type": "code",
   "execution_count": 51,
   "metadata": {},
   "outputs": [
    {
     "name": "stdout",
     "output_type": "stream",
     "text": [
      "predictions: [0. 1. 0. ... 0. 0. 0.]\n",
      "true values: [1. 1. 1. ... 0. 0. 0.]\n",
      "Accuracy: 0.5979100484868751\n"
     ]
    }
   ],
   "source": [
    "state = X[:,0].int().tolist()\n",
    "eth = X[:,1].int().tolist()\n",
    "male = X[:,2].int().tolist()\n",
    "male_t = X[:,2].numpy()\n",
    "age = X[:,3].int().tolist()\n",
    "educ = X[:,4].int().tolist()\n",
    "y_hat = np.round(sigmoid_n(params_hat_2[\"gammas\"][5]+ params_hat_2[\"gammas\"][6]* states_x[:,0][state]+ params_hat_2[\"gammas\"][states_x[:,1][state].int().tolist()] +params_hat_2[\"alpha_educ\"][educ]+ params_hat_2[\"alpha_eth\"][eth] + params_hat_2[\"alpha_age\"][age] + params_hat_2[\"alpha_male_eth\"][male, eth] + params_hat_2[\"alpha_educ_age\"][educ, age] + params_hat_2[\"alpha_educ_eth\"][educ, eth] +params_hat_2[\"beta_male\"]*male_t))\n",
    "y_true = y.numpy()\n",
    "y_hat = y_hat\n",
    "print(\"predictions:\", y_hat)\n",
    "print(\"true values:\", y_true)\n",
    "\n",
    "# evaluate prediction accuracy\n",
    "print(\"Accuracy:\", 1.0*np.sum(y_hat == y_true) / len(y_true))"
   ]
  },
  {
   "cell_type": "code",
   "execution_count": 52,
   "metadata": {},
   "outputs": [
    {
     "data": {
      "image/png": "[encoded data removed]",
      "text/plain": [
       "<Figure size 864x576 with 1 Axes>"
      ]
     },
     "metadata": {
      "needs_background": "light"
     },
     "output_type": "display_data"
    }
   ],
   "source": [
    "n_cat = 5\n",
    "for c in range(n_cat):\n",
    "    sns.distplot(hmc_samples.item()[\"alpha_educ\"][:,c])\n",
    "plt.legend([\"alpha_educ[%d]\" % c for c in range(n_cat)])\n",
    "plt.show()"
   ]
  },
  {
   "cell_type": "code",
   "execution_count": 53,
   "metadata": {},
   "outputs": [
    {
     "data": {
      "image/png": "[encoded data removed]",
      "text/plain": [
       "<Figure size 864x576 with 1 Axes>"
      ]
     },
     "metadata": {
      "needs_background": "light"
     },
     "output_type": "display_data"
    }
   ],
   "source": [
    "sns.distplot(hmc_samples.item()[\"beta_male\"])\n",
    "plt.legend([\"beta_male\"])\n",
    "plt.show()"
   ]
  },
  {
   "cell_type": "markdown",
   "metadata": {},
   "source": [
    "# 3) ANCESTRAL SAMPLING"
   ]
  },
  {
   "cell_type": "code",
   "execution_count": 54,
   "metadata": {},
   "outputs": [],
   "source": [
    "def model_ancest_VI(X, states_x, obs=None):\n",
    "    \n",
    "    sigmas = pyro.sample(\"sigmas\", dist.HalfCauchy(torch.ones(8)*5.))\n",
    "    gammas = pyro.sample(\"gammas\", dist.Normal(torch.zeros(7), 5.0))\n",
    "    alpha_educ = pyro.sample(\"alpha_educ\", dist.Normal(torch.zeros(5), sigmas[0]))\n",
    "    alpha_eth = pyro.sample(\"alpha_eth\", dist.Normal(torch.zeros(4), sigmas[1]))\n",
    "    alpha_age = pyro.sample(\"alpha_age\", dist.Normal(torch.zeros(6), sigmas[2]))\n",
    "    alpha_male_eth = pyro.sample(\"alpha_male_eth\", dist.Normal(torch.zeros((2,4)), sigmas[3]))\n",
    "    alpha_educ_age = pyro.sample(\"alpha_educ_age\", dist.Normal(torch.zeros((5,6)), sigmas[4]))\n",
    "    alpha_educ_eth = pyro.sample(\"alpha_educ_eth\", dist.Normal(torch.zeros((5,4)), sigmas[5]))\n",
    "\n",
    "    beta_male = pyro.sample(\"beta_male\", dist.Normal(0.,5.))\n",
    "    with pyro.plate(\"data\", size=len(X)):\n",
    "        state = X[:,0].tolist()\n",
    "        eth = X[:,1].tolist()\n",
    "        male = X[:,2].tolist()\n",
    "        male_t = X[:,2]\n",
    "        age = X[:,3].tolist()\n",
    "        educ = X[:,4].tolist()\n",
    "        y = pyro.sample(\"y\",dist.Bernoulli(torch.sigmoid(gammas[5] + gammas[6]* states_x[:,0][state] + gammas[states_x[:,1][state].tolist()]+ alpha_educ[educ] + alpha_eth[eth] + alpha_age[age]+ beta_male*male_t + alpha_male_eth[male, eth] + alpha_educ_age[educ,age] + alpha_educ_eth[educ, eth] )), obs= obs)\n",
    "    return y\n",
    "\n",
    "def model_ancest_MC(X, obs=None):\n",
    "    \n",
    "    sigmas = numpyro.sample(\"sigmas\", ndist.HalfCauchy(5.), sample_shape = (8,))\n",
    "    gammas = numpyro.sample(\"gammas\", ndist.Normal(0., 5.), sample_shape = (7,))\n",
    "    alpha_educ = numpyro.sample(\"alpha_educ\", ndist.Normal(0., sigmas[0]), sample_shape = (5,))\n",
    "    alpha_eth = numpyro.sample(\"alpha_eth\", ndist.Normal(0., sigmas[1]), sample_shape = (4,))\n",
    "    alpha_age = numpyro.sample(\"alpha_age\", ndist.Normal(0., sigmas[2]), sample_shape = (6,))\n",
    "    alpha_male_eth = numpyro.sample(\"alpha_male_eth\", ndist.Normal(0., sigmas[3]), sample_shape = (2,4))\n",
    "    alpha_educ_age = numpyro.sample(\"alpha_educ_age\", ndist.Normal(0., sigmas[4]), sample_shape = (5,6))\n",
    "    alpha_educ_eth = numpyro.sample(\"alpha_educ_eth\", ndist.Normal(0., sigmas[5]), sample_shape = (5,4))\n",
    "    \n",
    "    beta_male = numpyro.sample(\"beta_male\", ndist.Normal(0.,5.))\n",
    "    with numpyro.plate(\"data\", size = len(X)):\n",
    "        state = X[:,0].tolist()\n",
    "        eth = X[:,1].tolist()\n",
    "        male = X[:,2].tolist()\n",
    "        male_t = X[:,2]\n",
    "        age = X[:,3].tolist()\n",
    "        educ = X[:,4].tolist()\n",
    "        y = numpyro.sample(\"y\", ndist.Bernoulli(jax.nn.sigmoid(gammas[5] + gammas[6]* jnp.array(states_x[:,0][state]) + gammas[jnp.array(states_x[:,1][state],dtype = int)]+ alpha_educ[jnp.array(educ, dtype = int)] + alpha_eth[jnp.array(eth, dtype = int)] + alpha_age[jnp.array(age, dtype = int)] + alpha_male_eth[jnp.array(male, dtype = int), jnp.array(eth, dtype = int)] + alpha_educ_age[jnp.array(educ, dtype = int), jnp.array(age, dtype = int)] + alpha_educ_eth[jnp.array(educ, dtype = int), jnp.array(eth, dtype = int)] + beta_male*jnp.array(male_t))), obs= jnp.array(obs))\n",
    "    return y\n",
    "\n",
    "\n",
    "ancest_perc = 0.1 #0.66 # percentage of training data\n",
    "split_point = int(ancest_perc*len(y))\n",
    "perm = np.random.permutation(len(y))\n",
    "ancest_ix = perm[:split_point]\n",
    "X_ancest = X[ancest_ix]\n",
    "states_ancest = X_ancest[:,0].int().tolist()\n",
    "eth = X_ancest[:,1].int().tolist()\n",
    "male = X_ancest[:,2].int().tolist()\n",
    "male_t = X_ancest[:,2].numpy()\n",
    "age = X_ancest[:,3].int().tolist()\n",
    "educ = X_ancest[:,4].int().tolist()\n",
    "\n",
    "y_ancest = []\n",
    "\n",
    "sigmas = np.sqrt(np.arange(8)+1)\n",
    "gammas_ancest = [None]*7\n",
    "alpha_educ_ancest = [None]*5\n",
    "alpha_eth_ancest = [None]*4\n",
    "alpha_age_ancest = [None]*6\n",
    "alpha_male_eth_ancest =  [[None]*4]*2 # np.zeros((2,4)) \n",
    "alpha_educ_age_ancest =  [[None]*6]*5 # np.zeros((5,6))\n",
    "alpha_educ_eth_ancest =  [[None]*4]*5 # np.zeros((5,4))\n",
    "\n",
    "for k in range(len(gammas_ancest)):\n",
    "    gammas_ancest[k] = np.random.normal(0.5-k*0.2,0.1,size=len(states_ancest))\n",
    "for k in range(len(alpha_educ_ancest)):\n",
    "    alpha_educ_ancest[k] = np.random.normal(1.7 - k/3 ,0.4 *(k+1) ,size=len(states_ancest))\n",
    "for k in range(len(alpha_eth_ancest)):\n",
    "    alpha_eth_ancest[k] = np.random.normal(0.5 + k/3 ,2/(k+1) ,size=len(states_ancest))\n",
    "for k in range(len(alpha_age_ancest)):\n",
    "    alpha_age_ancest[k] = np.random.normal(-1.8 + k/2 ,0.1 * (k+1) ,size=len(states_ancest))\n",
    "for k in range(len(alpha_male_eth_ancest)):\n",
    "    for i in range(len(alpha_male_eth_ancest[k])):\n",
    "        alpha_male_eth_ancest[k][i] = np.random.normal(-0.7 + k/5 + 0.3 - i/4 ,0.6 *(k+1) + 2/(i+1) ,size=len(states_ancest))\n",
    "for k in range(len(alpha_educ_age_ancest)):\n",
    "    for i in range(len(alpha_educ_age_ancest[k])):\n",
    "        alpha_educ_age_ancest[k][i] = np.random.normal(0.8 - k/3 -2 + i/3 ,0.4 *(k+1) + 0.1 * (i+1) ,size=len(states_ancest))\n",
    "for k in range(len(alpha_educ_eth_ancest)):\n",
    "    for i in range(len(alpha_educ_eth_ancest[k])):\n",
    "        alpha_educ_eth_ancest[k][i] = np.random.normal(0.3 + k/2 + 0.3 - i/5,0.4 *(k+1) + 2/(i+1),size=len(states_ancest))\n",
    "beta_male_ancest = np.random.normal(-2,0.5,size=len(states_ancest))\n",
    "for i,state in enumerate(states_ancest):\n",
    "    y_ancest.append(np.round(sigmoid_n(gammas_ancest[5][i]+ gammas_ancest[6][i]* states_x[:,0][state]+ gammas_ancest[states_x[:,1][state].int().tolist()][i]  +alpha_educ_ancest[educ[i]][i]+ alpha_eth_ancest[eth[i]][i] + alpha_age_ancest[age[i]][i] +beta_male_ancest[i]*male_t[i] + alpha_male_eth_ancest[male[i]][eth[i]][i] + alpha_educ_age_ancest[educ[i]][age[i]][i] + alpha_educ_eth_ancest[educ[i]][eth[i]][i])))\n"
   ]
  },
  {
   "cell_type": "code",
   "execution_count": 55,
   "metadata": {},
   "outputs": [
    {
     "data": {
      "text/plain": [
       "5981"
      ]
     },
     "execution_count": 55,
     "metadata": {},
     "output_type": "execute_result"
    }
   ],
   "source": [
    "len(y_ancest)"
   ]
  },
  {
   "cell_type": "markdown",
   "metadata": {},
   "source": [
    "Support in the artificial sample"
   ]
  },
  {
   "cell_type": "code",
   "execution_count": 56,
   "metadata": {},
   "outputs": [
    {
     "data": {
      "text/plain": [
       "0.46931951178732656"
      ]
     },
     "execution_count": 56,
     "metadata": {},
     "output_type": "execute_result"
    }
   ],
   "source": [
    "sum(y_ancest)/len(y_ancest)"
   ]
  },
  {
   "cell_type": "markdown",
   "metadata": {},
   "source": [
    "Support in survey"
   ]
  },
  {
   "cell_type": "code",
   "execution_count": 57,
   "metadata": {},
   "outputs": [
    {
     "data": {
      "text/plain": [
       "0.43415817618370056"
      ]
     },
     "execution_count": 57,
     "metadata": {},
     "output_type": "execute_result"
    }
   ],
   "source": [
    "float(y.mean())"
   ]
  },
  {
   "cell_type": "markdown",
   "metadata": {},
   "source": [
    "## VARIATIONAL INFERENCE"
   ]
  },
  {
   "cell_type": "code",
   "execution_count": 58,
   "metadata": {},
   "outputs": [
    {
     "name": "stdout",
     "output_type": "stream",
     "text": [
      "[0] ELBO: 13392.3\n",
      "[500] ELBO: 4086.4\n",
      "[1000] ELBO: 4066.4\n",
      "[1500] ELBO: 4012.6\n",
      "[2000] ELBO: 3985.1\n",
      "[2500] ELBO: 4027.5\n",
      "[3000] ELBO: 3982.2\n",
      "[3500] ELBO: 3976.4\n",
      "[4000] ELBO: 3962.7\n",
      "[4500] ELBO: 3971.2\n",
      "[5000] ELBO: 3962.0\n",
      "[5500] ELBO: 3960.1\n"
     ]
    }
   ],
   "source": [
    "guide_ancest = train_SVI(torch.tensor(X_ancest).float(),torch.tensor(y_ancest).float(),states_x,model_ancest_VI)"
   ]
  },
  {
   "cell_type": "code",
   "execution_count": 59,
   "metadata": {},
   "outputs": [],
   "source": [
    "samples_ancest, params_samples_ancest = sample_params(guide_ancest,torch.tensor(X_ancest).float(),states_x, torch.tensor(y_ancest).float(), model_ancest_VI)"
   ]
  },
  {
   "cell_type": "code",
   "execution_count": 60,
   "metadata": {},
   "outputs": [
    {
     "name": "stdout",
     "output_type": "stream",
     "text": [
      "(2000, 5)\n"
     ]
    },
    {
     "data": {
      "image/png": "[encoded data removed]",
      "text/plain": [
       "<Figure size 864x576 with 1 Axes>"
      ]
     },
     "metadata": {
      "needs_background": "light"
     },
     "output_type": "display_data"
    }
   ],
   "source": [
    "n_cat = 5\n",
    "print(params_samples_ancest[\"alpha_educ\"].shape)\n",
    "for c in range(n_cat):\n",
    "    sns.distplot(params_samples_ancest[\"alpha_educ\"][:,c])\n",
    "plt.legend([\"alpha_educ[%d]\" % c for c in range(n_cat)])\n",
    "plt.title(\"Estimated distributions of the parameters\")\n",
    "plt.show()"
   ]
  },
  {
   "cell_type": "code",
   "execution_count": 61,
   "metadata": {},
   "outputs": [
    {
     "name": "stdout",
     "output_type": "stream",
     "text": [
      "True means of the parameters' distributions\n",
      "1.6880596366405356\n",
      "1.3626559736686934\n",
      "1.0550449004334668\n",
      "0.7018858049105599\n",
      "0.406452873110308\n"
     ]
    }
   ],
   "source": [
    "print(\"True means of the parameters' distributions\")\n",
    "for k in alpha_educ_ancest:\n",
    "    print(k.mean())"
   ]
  },
  {
   "cell_type": "code",
   "execution_count": 62,
   "metadata": {},
   "outputs": [
    {
     "name": "stdout",
     "output_type": "stream",
     "text": [
      "Accuracy on the ancestral sample:\n",
      "predictions: [0. 1. 0. ... 1. 0. 1.]\n",
      "true values: [1. 1. 0. ... 1. 0. 1.]\n",
      "Accuracy: 0.6228055509112188\n"
     ]
    }
   ],
   "source": [
    "print(\"Accuracy on the ancestral sample:\")\n",
    "compute_accuracy(samples_ancest,torch.tensor(X_ancest).float(),torch.tensor(y_ancest).float(),states_x)"
   ]
  },
  {
   "cell_type": "markdown",
   "metadata": {},
   "source": [
    "## MARKOV CHAIN MONTE CARLO"
   ]
  },
  {
   "cell_type": "code",
   "execution_count": 63,
   "metadata": {},
   "outputs": [
    {
     "data": {
      "text/plain": [
       "'\\nimport time\\nimport jax\\nimport jax.numpy as jnp\\nfrom jax import random, vmap\\nfrom jax.scipy.special import logsumexp\\nfrom jax import lax\\nt0 = time.time()\\n\\nrng_key = random.PRNGKey(0)\\nrng_key, rng_key_ = random.split(rng_key)\\n\\nnuts_kernel = NUTS(model=model_ancest_MC)\\nmcmc = MCMC(nuts_kernel, num_samples=2000, num_warmup=500, num_chains=1)\\nmcmc.run(rng_key_, X_ancest, y_ancest)\\n\\nt_fin = time.time()\\n\\nprint(\"Total time: {0:.3f}m\".format((t_fin - t0)/60))\\n'"
      ]
     },
     "execution_count": 63,
     "metadata": {},
     "output_type": "execute_result"
    }
   ],
   "source": [
    "\"\"\"\n",
    "import time\n",
    "import jax\n",
    "import jax.numpy as jnp\n",
    "from jax import random, vmap\n",
    "from jax.scipy.special import logsumexp\n",
    "from jax import lax\n",
    "t0 = time.time()\n",
    "\n",
    "rng_key = random.PRNGKey(0)\n",
    "rng_key, rng_key_ = random.split(rng_key)\n",
    "\n",
    "nuts_kernel = NUTS(model=model_ancest_MC)\n",
    "mcmc = MCMC(nuts_kernel, num_samples=2000, num_warmup=500, num_chains=1)\n",
    "mcmc.run(rng_key_, X_ancest, y_ancest)\n",
    "\n",
    "t_fin = time.time()\n",
    "\n",
    "print(\"Total time: {0:.3f}m\".format((t_fin - t0)/60))\n",
    "\"\"\""
   ]
  },
  {
   "cell_type": "code",
   "execution_count": 64,
   "metadata": {},
   "outputs": [],
   "source": [
    "#hmc_samples = {k: np.asarray(v) for k, v in mcmc.get_samples().items()}\n",
    "#np.save('mcmc_ancest_posterior.npy',  hmc_samples)"
   ]
  },
  {
   "cell_type": "code",
   "execution_count": 65,
   "metadata": {},
   "outputs": [
    {
     "data": {
      "image/png": "[encoded data removed]",
      "text/plain": [
       "<Figure size 864x576 with 2 Axes>"
      ]
     },
     "metadata": {
      "needs_background": "light"
     },
     "output_type": "display_data"
    }
   ],
   "source": [
    "#hmc_samples = {k: v for k, v in mcmc.get_samples().items()}\n",
    "hmc_samples = np.load('mcmc_ancest_posterior.npy', allow_pickle = True) \n",
    "hmc_samples_2 = np.load('mcmc_ancest_4_chains_posterior.npy', allow_pickle = True) \n",
    "params_hat_2 = {}\n",
    "params_hat_2_2 = {}\n",
    "params =[\"alpha_educ\", \"alpha_eth\", \"alpha_age\", \"gammas\", \"beta_male\", \"alpha_educ_age\", \"alpha_educ_eth\", \"alpha_male_eth\"]\n",
    "for param in params:\n",
    "    params_hat_2[param] = hmc_samples.item()[param].mean(axis=0)\n",
    "    params_hat_2_2[param] = hmc_samples_2.item()[param].mean(axis=0)\n",
    "    \n",
    "    \n",
    "    \n",
    "n_cat = 5\n",
    "plt.subplot(1,2,1)\n",
    "plt.title(\"One chain\")\n",
    "for c in range(n_cat):\n",
    "    sns.distplot(hmc_samples.item()[\"alpha_educ\"][:,c])\n",
    "plt.legend([\"alpha_educ[%d]\" % c for c in range(n_cat)])\n",
    "plt.subplot(1,2,2)\n",
    "plt.title(\"Four chains\")\n",
    "for c in range(n_cat):\n",
    "    sns.distplot(hmc_samples_2.item()[\"alpha_educ\"][:,c])\n",
    "plt.legend([\"alpha_educ[%d]\" % c for c in range(n_cat)])\n",
    "plt.show();\n"
   ]
  },
  {
   "cell_type": "code",
   "execution_count": 66,
   "metadata": {},
   "outputs": [
    {
     "name": "stdout",
     "output_type": "stream",
     "text": [
      "True means of the parameters' distributions\n",
      "1.6880596366405356\n",
      "1.3626559736686934\n",
      "1.0550449004334668\n",
      "0.7018858049105599\n",
      "0.406452873110308\n"
     ]
    }
   ],
   "source": [
    "print(\"True means of the parameters' distributions\")\n",
    "for k in alpha_educ_ancest:\n",
    "    print(k.mean())"
   ]
  },
  {
   "cell_type": "code",
   "execution_count": 67,
   "metadata": {},
   "outputs": [
    {
     "name": "stdout",
     "output_type": "stream",
     "text": [
      "predictions: [0. 1. 0. ... 1. 0. 1.]\n",
      "true values: [1. 1. 0. ... 1. 0. 1.]\n",
      "Accuracy on the ancestral sample: 0.6226383547901688\n"
     ]
    }
   ],
   "source": [
    "states_ancest = X_ancest[:,0].int().tolist()\n",
    "eth = X_ancest[:,1].int().tolist()\n",
    "male = X_ancest[:,2].int().tolist()\n",
    "male_t = X_ancest[:,2].numpy()\n",
    "age = X_ancest[:,3].int().tolist()\n",
    "educ = X_ancest[:,4].int().tolist()\n",
    "\n",
    "\n",
    "\n",
    "y_hat = np.round(sigmoid_n(params_hat_2[\"gammas\"][5]+ params_hat_2[\"gammas\"][6]* states_x[:,0][states_ancest]+ params_hat_2[\"gammas\"][states_x[:,1][states_ancest].int().tolist()] +params_hat_2[\"alpha_educ\"][educ]+ params_hat_2[\"alpha_eth\"][eth] + params_hat_2[\"alpha_age\"][age] + params_hat_2[\"alpha_male_eth\"][male, eth] + params_hat_2[\"alpha_educ_age\"][educ, age] + params_hat_2[\"alpha_educ_eth\"][educ, eth] +params_hat_2[\"beta_male\"]*male_t))\n",
    "print(\"predictions:\", y_hat)\n",
    "print(\"true values:\", np.array(y_ancest))\n",
    "\n",
    "# evaluate prediction accuracy\n",
    "print(\"Accuracy on the ancestral sample:\", 1.0*np.sum(y_hat == y_ancest) / len(y_ancest))"
   ]
  },
  {
   "cell_type": "markdown",
   "metadata": {},
   "source": [
    "# 4) POSTSTRATIFICATION"
   ]
  },
  {
   "cell_type": "markdown",
   "metadata": {},
   "source": [
    "Loading the poststratification table (all possible combinations of our features and corresponding number of US citizens belonging to each group)"
   ]
  },
  {
   "cell_type": "code",
   "execution_count": 68,
   "metadata": {},
   "outputs": [
    {
     "data": {
      "text/html": [
       "<div>\n",
       "<style scoped>\n",
       "    .dataframe tbody tr th:only-of-type {\n",
       "        vertical-align: middle;\n",
       "    }\n",
       "\n",
       "    .dataframe tbody tr th {\n",
       "        vertical-align: top;\n",
       "    }\n",
       "\n",
       "    .dataframe thead th {\n",
       "        text-align: right;\n",
       "    }\n",
       "</style>\n",
       "<table border=\"1\" class=\"dataframe\">\n",
       "  <thead>\n",
       "    <tr style=\"text-align: right;\">\n",
       "      <th></th>\n",
       "      <th>state</th>\n",
       "      <th>eth</th>\n",
       "      <th>male</th>\n",
       "      <th>age</th>\n",
       "      <th>educ</th>\n",
       "      <th>n</th>\n",
       "      <th>state_cat</th>\n",
       "      <th>eth_cat</th>\n",
       "      <th>male_cat</th>\n",
       "      <th>age_cat</th>\n",
       "      <th>educ_cat</th>\n",
       "    </tr>\n",
       "  </thead>\n",
       "  <tbody>\n",
       "    <tr>\n",
       "      <th>0</th>\n",
       "      <td>AL</td>\n",
       "      <td>White</td>\n",
       "      <td>-0.5</td>\n",
       "      <td>18-29</td>\n",
       "      <td>No HS</td>\n",
       "      <td>23948</td>\n",
       "      <td>1</td>\n",
       "      <td>3</td>\n",
       "      <td>0</td>\n",
       "      <td>0</td>\n",
       "      <td>2</td>\n",
       "    </tr>\n",
       "    <tr>\n",
       "      <th>1</th>\n",
       "      <td>AL</td>\n",
       "      <td>White</td>\n",
       "      <td>-0.5</td>\n",
       "      <td>18-29</td>\n",
       "      <td>HS</td>\n",
       "      <td>59378</td>\n",
       "      <td>1</td>\n",
       "      <td>3</td>\n",
       "      <td>0</td>\n",
       "      <td>0</td>\n",
       "      <td>1</td>\n",
       "    </tr>\n",
       "    <tr>\n",
       "      <th>2</th>\n",
       "      <td>AL</td>\n",
       "      <td>White</td>\n",
       "      <td>-0.5</td>\n",
       "      <td>18-29</td>\n",
       "      <td>Some college</td>\n",
       "      <td>104855</td>\n",
       "      <td>1</td>\n",
       "      <td>3</td>\n",
       "      <td>0</td>\n",
       "      <td>0</td>\n",
       "      <td>4</td>\n",
       "    </tr>\n",
       "    <tr>\n",
       "      <th>3</th>\n",
       "      <td>AL</td>\n",
       "      <td>White</td>\n",
       "      <td>-0.5</td>\n",
       "      <td>18-29</td>\n",
       "      <td>4-Year College</td>\n",
       "      <td>37066</td>\n",
       "      <td>1</td>\n",
       "      <td>3</td>\n",
       "      <td>0</td>\n",
       "      <td>0</td>\n",
       "      <td>0</td>\n",
       "    </tr>\n",
       "    <tr>\n",
       "      <th>4</th>\n",
       "      <td>AL</td>\n",
       "      <td>White</td>\n",
       "      <td>-0.5</td>\n",
       "      <td>18-29</td>\n",
       "      <td>Post-grad</td>\n",
       "      <td>9378</td>\n",
       "      <td>1</td>\n",
       "      <td>3</td>\n",
       "      <td>0</td>\n",
       "      <td>0</td>\n",
       "      <td>3</td>\n",
       "    </tr>\n",
       "  </tbody>\n",
       "</table>\n",
       "</div>"
      ],
      "text/plain": [
       "  state    eth  male    age            educ       n  state_cat  eth_cat  \\\n",
       "0    AL  White  -0.5  18-29           No HS   23948          1        3   \n",
       "1    AL  White  -0.5  18-29              HS   59378          1        3   \n",
       "2    AL  White  -0.5  18-29    Some college  104855          1        3   \n",
       "3    AL  White  -0.5  18-29  4-Year College   37066          1        3   \n",
       "4    AL  White  -0.5  18-29       Post-grad    9378          1        3   \n",
       "\n",
       "   male_cat  age_cat  educ_cat  \n",
       "0         0        0         2  \n",
       "1         0        0         1  \n",
       "2         0        0         4  \n",
       "3         0        0         0  \n",
       "4         0        0         3  "
      ]
     },
     "execution_count": 68,
     "metadata": {},
     "output_type": "execute_result"
    }
   ],
   "source": [
    "post = pd.read_csv(\"Data/poststrat_df.csv\")\n",
    "categories = [\"state\", \"eth\", \"male\", \"age\", \"educ\"]\n",
    "for category in categories:\n",
    "    post[category+\"_cat\"] = post[category].astype('category').cat.codes\n",
    "post.head()"
   ]
  },
  {
   "cell_type": "code",
   "execution_count": 69,
   "metadata": {},
   "outputs": [],
   "source": [
    "states_x_n = states_x.numpy()"
   ]
  },
  {
   "cell_type": "code",
   "execution_count": 70,
   "metadata": {},
   "outputs": [
    {
     "name": "stdout",
     "output_type": "stream",
     "text": [
      "Progress: [####################] 100.0%\n"
     ]
    }
   ],
   "source": [
    "def sigmoid(x):\n",
    "    return 1 / (1 + np.exp(-x))\n",
    "def poststritify(params_samples, post, states_x_n):\n",
    "    gammas = params_samples[\"gammas\"]\n",
    "    theta = 0\n",
    "    prog = 0\n",
    "    z_state = np.zeros(50)\n",
    "    for state_i in range(50):\n",
    "        update_progress(prog / 50)\n",
    "        prog += 1\n",
    "        for eth_i, eth in enumerate(params_samples[\"alpha_eth\"].T):\n",
    "            for age_i, age in enumerate(params_samples[\"alpha_age\"].T):\n",
    "                for educ_i, educ in enumerate(params_samples[\"alpha_educ\"].T):\n",
    "                    for male_i in [0,1]:\n",
    "                        theta_sub = sigmoid(gammas[:, 5] + gammas[:,6]* states_x_n[:,0][state_i] + gammas[:,int(states_x_n[:,1][state_i])] + educ + eth + age + params_samples[\"alpha_educ_age\"][:,educ_i,age_i] + params_samples[\"alpha_educ_eth\"][:,educ_i,eth_i]+params_samples[\"beta_male\"].squeeze()*male_i)\n",
    "                        n = post[(post[\"state_cat\"] == state_i) & (post[\"age_cat\"] == age_i) & (post[\"eth_cat\"] == eth_i) & (post[\"educ_cat\"] == educ_i) & (post[\"male_cat\"] == male_i)][\"n\"].values[0]\n",
    "                        theta += theta_sub * n\n",
    "                        z_state[state_i] = z_state[state_i] + theta_sub.mean() * n\n",
    "    update_progress(1)\n",
    "    theta = theta / post[\"n\"].sum()\n",
    "    z_state = z_state / post.groupby(\"state\")[\"n\"].sum().values\n",
    "    return theta, z_state\n",
    "theta, z_state = poststritify(params_samples, post, states_x_n)"
   ]
  },
  {
   "cell_type": "code",
   "execution_count": 71,
   "metadata": {
    "scrolled": true
   },
   "outputs": [
    {
     "data": {
      "image/png": "[encoded data removed]",
      "text/plain": [
       "<Figure size 864x576 with 1 Axes>"
      ]
     },
     "metadata": {
      "needs_background": "light"
     },
     "output_type": "display_data"
    }
   ],
   "source": [
    "plt.hist(theta);\n",
    "plt.show();"
   ]
  },
  {
   "cell_type": "code",
   "execution_count": 72,
   "metadata": {},
   "outputs": [
    {
     "name": "stdout",
     "output_type": "stream",
     "text": [
      "Survey mean support:  0.4341581675305133\n",
      "Survey support std:  0.002026677347449802\n",
      "Size of the Survey:   59810\n",
      "\n",
      "MRP mean support estimate:  0.43918663200114993\n",
      "MRP std:  0.0059346027636922915\n",
      "Population size:  228443347\n"
     ]
    }
   ],
   "source": [
    "print(\"Survey mean support: \", y_true.sum()/len(y_true))\n",
    "print(\"Survey support std: \", math.sqrt(y_true.mean()*(1-y_true.mean())/len(y_true)))\n",
    "print(\"Size of the Survey:  \", len(y_true))\n",
    "print(\"\")\n",
    "print(\"MRP mean support estimate: \", theta.mean())\n",
    "print(\"MRP std: \", theta.std())\n",
    "print(\"Population size: \", post[\"n\"].sum())"
   ]
  },
  {
   "cell_type": "code",
   "execution_count": 73,
   "metadata": {},
   "outputs": [],
   "source": [
    "#!pip install -q geopandas==0.3.0\n",
    "#!pip install -q pyshp==1.2.10\n",
    "#!pip install -q shapely==1.6.3\n",
    "#!pip install -q plotly-geo\n",
    "#!conda install -y -c plotly plotly-orca"
   ]
  },
  {
   "cell_type": "code",
   "execution_count": 74,
   "metadata": {},
   "outputs": [
    {
     "data": {
      "image/png": "[encoded data removed]",
      "text/plain": [
       "<Figure size 864x576 with 1 Axes>"
      ]
     },
     "metadata": {
      "needs_background": "light"
     },
     "output_type": "display_data"
    }
   ],
   "source": [
    "import matplotlib.image as mpimg\n",
    "\"\"\"\n",
    "import plotly.graph_objects as go\n",
    "\n",
    "\n",
    "fig = go.Figure(data=go.Choropleth(\n",
    "    locations=states[\"states\"], # Spatial coordinates\n",
    "    z = z_state.astype(float) * 100, # Data to be color-coded\n",
    "    locationmode = 'USA-states', # set of locations match entries in `locations`\n",
    "    colorscale = 'Blues',\n",
    "    colorbar_title = \"Support %\",\n",
    "))\n",
    "\n",
    "fig.update_layout(\n",
    "    title_text = 'Estimated support on a subnational level (states)',\n",
    "    geo_scope='usa', # limite map scope to USA\n",
    ")\n",
    "\n",
    "fig.show()\n",
    "fig.write_image('estimated_usa.png')\n",
    "\n",
    "\"\"\"\n",
    "plt.imshow(mpimg.imread('estimated_usa.png'));\n",
    "plt.axis('off');"
   ]
  },
  {
   "cell_type": "code",
   "execution_count": 75,
   "metadata": {},
   "outputs": [
    {
     "data": {
      "image/png": "[encoded data removed]",
      "text/plain": [
       "<Figure size 864x576 with 1 Axes>"
      ]
     },
     "metadata": {
      "needs_background": "light"
     },
     "output_type": "display_data"
    }
   ],
   "source": [
    "\"\"\"\n",
    "fig = go.Figure(data=go.Choropleth(\n",
    "    locations=states[\"states\"], # Spatial coordinates\n",
    "    z = df.groupby(\"state\")[\"abortion\"].mean().values.astype(float) * 100, # Data to be color-coded\n",
    "    locationmode = 'USA-states', # set of locations match entries in `locations`\n",
    "    colorscale = 'Blues',\n",
    "    colorbar_title = \"Support %\",\n",
    "))\n",
    "\n",
    "fig.update_layout(\n",
    "    title_text = 'Survey support on a subnational level (states)',\n",
    "    geo_scope='usa', # limite map scope to USA\n",
    ")\n",
    "\n",
    "fig.show()\n",
    "fig.write_image('survey_usa.png')\n",
    "\"\"\"\n",
    "plt.imshow(mpimg.imread('survey_usa.png'));\n",
    "plt.axis('off');"
   ]
  },
  {
   "cell_type": "markdown",
   "metadata": {},
   "source": [
    "# 5) SMALL SAMPLE & NON REPRESENTATIVE SAMPLE"
   ]
  },
  {
   "cell_type": "code",
   "execution_count": 76,
   "metadata": {},
   "outputs": [
    {
     "data": {
      "text/html": [
       "<div>\n",
       "<style scoped>\n",
       "    .dataframe tbody tr th:only-of-type {\n",
       "        vertical-align: middle;\n",
       "    }\n",
       "\n",
       "    .dataframe tbody tr th {\n",
       "        vertical-align: top;\n",
       "    }\n",
       "\n",
       "    .dataframe thead th {\n",
       "        text-align: right;\n",
       "    }\n",
       "</style>\n",
       "<table border=\"1\" class=\"dataframe\">\n",
       "  <thead>\n",
       "    <tr style=\"text-align: right;\">\n",
       "      <th></th>\n",
       "      <th>abortion</th>\n",
       "      <th>state</th>\n",
       "      <th>eth</th>\n",
       "      <th>male</th>\n",
       "      <th>age</th>\n",
       "      <th>educ</th>\n",
       "      <th>state_cat</th>\n",
       "      <th>eth_cat</th>\n",
       "      <th>male_cat</th>\n",
       "      <th>age_cat</th>\n",
       "      <th>educ_cat</th>\n",
       "    </tr>\n",
       "  </thead>\n",
       "  <tbody>\n",
       "    <tr>\n",
       "      <th>11159</th>\n",
       "      <td>0</td>\n",
       "      <td>VA</td>\n",
       "      <td>White</td>\n",
       "      <td>0.5</td>\n",
       "      <td>50-59</td>\n",
       "      <td>Post-grad</td>\n",
       "      <td>44</td>\n",
       "      <td>3</td>\n",
       "      <td>1</td>\n",
       "      <td>3</td>\n",
       "      <td>3</td>\n",
       "    </tr>\n",
       "    <tr>\n",
       "      <th>36809</th>\n",
       "      <td>1</td>\n",
       "      <td>FL</td>\n",
       "      <td>White</td>\n",
       "      <td>-0.5</td>\n",
       "      <td>70+</td>\n",
       "      <td>HS</td>\n",
       "      <td>8</td>\n",
       "      <td>3</td>\n",
       "      <td>0</td>\n",
       "      <td>5</td>\n",
       "      <td>1</td>\n",
       "    </tr>\n",
       "    <tr>\n",
       "      <th>6633</th>\n",
       "      <td>0</td>\n",
       "      <td>CA</td>\n",
       "      <td>White</td>\n",
       "      <td>-0.5</td>\n",
       "      <td>70+</td>\n",
       "      <td>Some college</td>\n",
       "      <td>4</td>\n",
       "      <td>3</td>\n",
       "      <td>0</td>\n",
       "      <td>5</td>\n",
       "      <td>4</td>\n",
       "    </tr>\n",
       "    <tr>\n",
       "      <th>53044</th>\n",
       "      <td>1</td>\n",
       "      <td>DE</td>\n",
       "      <td>White</td>\n",
       "      <td>0.5</td>\n",
       "      <td>60-69</td>\n",
       "      <td>4-Year College</td>\n",
       "      <td>7</td>\n",
       "      <td>3</td>\n",
       "      <td>1</td>\n",
       "      <td>4</td>\n",
       "      <td>0</td>\n",
       "    </tr>\n",
       "    <tr>\n",
       "      <th>33525</th>\n",
       "      <td>0</td>\n",
       "      <td>MA</td>\n",
       "      <td>White</td>\n",
       "      <td>-0.5</td>\n",
       "      <td>18-29</td>\n",
       "      <td>HS</td>\n",
       "      <td>18</td>\n",
       "      <td>3</td>\n",
       "      <td>0</td>\n",
       "      <td>0</td>\n",
       "      <td>1</td>\n",
       "    </tr>\n",
       "    <tr>\n",
       "      <th>...</th>\n",
       "      <td>...</td>\n",
       "      <td>...</td>\n",
       "      <td>...</td>\n",
       "      <td>...</td>\n",
       "      <td>...</td>\n",
       "      <td>...</td>\n",
       "      <td>...</td>\n",
       "      <td>...</td>\n",
       "      <td>...</td>\n",
       "      <td>...</td>\n",
       "      <td>...</td>\n",
       "    </tr>\n",
       "    <tr>\n",
       "      <th>40640</th>\n",
       "      <td>1</td>\n",
       "      <td>SC</td>\n",
       "      <td>White</td>\n",
       "      <td>-0.5</td>\n",
       "      <td>60-69</td>\n",
       "      <td>HS</td>\n",
       "      <td>39</td>\n",
       "      <td>3</td>\n",
       "      <td>0</td>\n",
       "      <td>4</td>\n",
       "      <td>1</td>\n",
       "    </tr>\n",
       "    <tr>\n",
       "      <th>10855</th>\n",
       "      <td>1</td>\n",
       "      <td>AZ</td>\n",
       "      <td>White</td>\n",
       "      <td>-0.5</td>\n",
       "      <td>70+</td>\n",
       "      <td>Some college</td>\n",
       "      <td>3</td>\n",
       "      <td>3</td>\n",
       "      <td>0</td>\n",
       "      <td>5</td>\n",
       "      <td>4</td>\n",
       "    </tr>\n",
       "    <tr>\n",
       "      <th>21053</th>\n",
       "      <td>1</td>\n",
       "      <td>LA</td>\n",
       "      <td>White</td>\n",
       "      <td>-0.5</td>\n",
       "      <td>30-39</td>\n",
       "      <td>HS</td>\n",
       "      <td>17</td>\n",
       "      <td>3</td>\n",
       "      <td>0</td>\n",
       "      <td>1</td>\n",
       "      <td>1</td>\n",
       "    </tr>\n",
       "    <tr>\n",
       "      <th>40551</th>\n",
       "      <td>1</td>\n",
       "      <td>NH</td>\n",
       "      <td>White</td>\n",
       "      <td>-0.5</td>\n",
       "      <td>18-29</td>\n",
       "      <td>Some college</td>\n",
       "      <td>29</td>\n",
       "      <td>3</td>\n",
       "      <td>0</td>\n",
       "      <td>0</td>\n",
       "      <td>4</td>\n",
       "    </tr>\n",
       "    <tr>\n",
       "      <th>22026</th>\n",
       "      <td>0</td>\n",
       "      <td>CA</td>\n",
       "      <td>White</td>\n",
       "      <td>-0.5</td>\n",
       "      <td>70+</td>\n",
       "      <td>No HS</td>\n",
       "      <td>4</td>\n",
       "      <td>3</td>\n",
       "      <td>0</td>\n",
       "      <td>5</td>\n",
       "      <td>2</td>\n",
       "    </tr>\n",
       "  </tbody>\n",
       "</table>\n",
       "<p>5000 rows × 11 columns</p>\n",
       "</div>"
      ],
      "text/plain": [
       "       abortion state    eth  male    age            educ  state_cat  eth_cat  \\\n",
       "11159         0    VA  White   0.5  50-59       Post-grad         44        3   \n",
       "36809         1    FL  White  -0.5    70+              HS          8        3   \n",
       "6633          0    CA  White  -0.5    70+    Some college          4        3   \n",
       "53044         1    DE  White   0.5  60-69  4-Year College          7        3   \n",
       "33525         0    MA  White  -0.5  18-29              HS         18        3   \n",
       "...         ...   ...    ...   ...    ...             ...        ...      ...   \n",
       "40640         1    SC  White  -0.5  60-69              HS         39        3   \n",
       "10855         1    AZ  White  -0.5    70+    Some college          3        3   \n",
       "21053         1    LA  White  -0.5  30-39              HS         17        3   \n",
       "40551         1    NH  White  -0.5  18-29    Some college         29        3   \n",
       "22026         0    CA  White  -0.5    70+           No HS          4        3   \n",
       "\n",
       "       male_cat  age_cat  educ_cat  \n",
       "11159         1        3         3  \n",
       "36809         0        5         1  \n",
       "6633          0        5         4  \n",
       "53044         1        4         0  \n",
       "33525         0        0         1  \n",
       "...         ...      ...       ...  \n",
       "40640         0        4         1  \n",
       "10855         0        5         4  \n",
       "21053         0        1         1  \n",
       "40551         0        0         4  \n",
       "22026         0        5         2  \n",
       "\n",
       "[5000 rows x 11 columns]"
      ]
     },
     "execution_count": 76,
     "metadata": {},
     "output_type": "execute_result"
    }
   ],
   "source": [
    "small_sample = df.sample(5000, random_state=1)\n",
    "small_sample"
   ]
  },
  {
   "cell_type": "markdown",
   "metadata": {},
   "source": [
    "Non representative sample is sampled from the complete survey, but we sample specific groups with higher probabilities (old white males) "
   ]
  },
  {
   "cell_type": "code",
   "execution_count": 77,
   "metadata": {},
   "outputs": [
    {
     "data": {
      "text/html": [
       "<div>\n",
       "<style scoped>\n",
       "    .dataframe tbody tr th:only-of-type {\n",
       "        vertical-align: middle;\n",
       "    }\n",
       "\n",
       "    .dataframe tbody tr th {\n",
       "        vertical-align: top;\n",
       "    }\n",
       "\n",
       "    .dataframe thead th {\n",
       "        text-align: right;\n",
       "    }\n",
       "</style>\n",
       "<table border=\"1\" class=\"dataframe\">\n",
       "  <thead>\n",
       "    <tr style=\"text-align: right;\">\n",
       "      <th></th>\n",
       "      <th>abortion</th>\n",
       "      <th>state</th>\n",
       "      <th>eth</th>\n",
       "      <th>male</th>\n",
       "      <th>age</th>\n",
       "      <th>educ</th>\n",
       "      <th>state_cat</th>\n",
       "      <th>eth_cat</th>\n",
       "      <th>male_cat</th>\n",
       "      <th>age_cat</th>\n",
       "      <th>educ_cat</th>\n",
       "      <th>rep_sup</th>\n",
       "      <th>region</th>\n",
       "    </tr>\n",
       "  </thead>\n",
       "  <tbody>\n",
       "    <tr>\n",
       "      <th>25311</th>\n",
       "      <td>1</td>\n",
       "      <td>IN</td>\n",
       "      <td>White</td>\n",
       "      <td>0.5</td>\n",
       "      <td>50-59</td>\n",
       "      <td>4-Year College</td>\n",
       "      <td>14</td>\n",
       "      <td>3</td>\n",
       "      <td>1</td>\n",
       "      <td>3</td>\n",
       "      <td>0</td>\n",
       "      <td>0.56</td>\n",
       "      <td>midwest</td>\n",
       "    </tr>\n",
       "    <tr>\n",
       "      <th>43299</th>\n",
       "      <td>1</td>\n",
       "      <td>WA</td>\n",
       "      <td>White</td>\n",
       "      <td>0.5</td>\n",
       "      <td>70+</td>\n",
       "      <td>Post-grad</td>\n",
       "      <td>46</td>\n",
       "      <td>3</td>\n",
       "      <td>1</td>\n",
       "      <td>5</td>\n",
       "      <td>3</td>\n",
       "      <td>0.36</td>\n",
       "      <td>west</td>\n",
       "    </tr>\n",
       "    <tr>\n",
       "      <th>7</th>\n",
       "      <td>1</td>\n",
       "      <td>MD</td>\n",
       "      <td>White</td>\n",
       "      <td>0.5</td>\n",
       "      <td>70+</td>\n",
       "      <td>HS</td>\n",
       "      <td>19</td>\n",
       "      <td>3</td>\n",
       "      <td>1</td>\n",
       "      <td>5</td>\n",
       "      <td>1</td>\n",
       "      <td>0.33</td>\n",
       "      <td>northeast</td>\n",
       "    </tr>\n",
       "    <tr>\n",
       "      <th>18216</th>\n",
       "      <td>1</td>\n",
       "      <td>PA</td>\n",
       "      <td>White</td>\n",
       "      <td>0.5</td>\n",
       "      <td>50-59</td>\n",
       "      <td>Some college</td>\n",
       "      <td>37</td>\n",
       "      <td>3</td>\n",
       "      <td>1</td>\n",
       "      <td>3</td>\n",
       "      <td>4</td>\n",
       "      <td>0.48</td>\n",
       "      <td>northeast</td>\n",
       "    </tr>\n",
       "    <tr>\n",
       "      <th>9095</th>\n",
       "      <td>1</td>\n",
       "      <td>CA</td>\n",
       "      <td>Black</td>\n",
       "      <td>0.5</td>\n",
       "      <td>40-49</td>\n",
       "      <td>Some college</td>\n",
       "      <td>4</td>\n",
       "      <td>0</td>\n",
       "      <td>1</td>\n",
       "      <td>2</td>\n",
       "      <td>4</td>\n",
       "      <td>0.31</td>\n",
       "      <td>west</td>\n",
       "    </tr>\n",
       "    <tr>\n",
       "      <th>...</th>\n",
       "      <td>...</td>\n",
       "      <td>...</td>\n",
       "      <td>...</td>\n",
       "      <td>...</td>\n",
       "      <td>...</td>\n",
       "      <td>...</td>\n",
       "      <td>...</td>\n",
       "      <td>...</td>\n",
       "      <td>...</td>\n",
       "      <td>...</td>\n",
       "      <td>...</td>\n",
       "      <td>...</td>\n",
       "      <td>...</td>\n",
       "    </tr>\n",
       "    <tr>\n",
       "      <th>21729</th>\n",
       "      <td>1</td>\n",
       "      <td>NY</td>\n",
       "      <td>White</td>\n",
       "      <td>0.5</td>\n",
       "      <td>70+</td>\n",
       "      <td>HS</td>\n",
       "      <td>33</td>\n",
       "      <td>3</td>\n",
       "      <td>1</td>\n",
       "      <td>5</td>\n",
       "      <td>1</td>\n",
       "      <td>0.36</td>\n",
       "      <td>northeast</td>\n",
       "    </tr>\n",
       "    <tr>\n",
       "      <th>53831</th>\n",
       "      <td>0</td>\n",
       "      <td>MA</td>\n",
       "      <td>Other</td>\n",
       "      <td>0.5</td>\n",
       "      <td>60-69</td>\n",
       "      <td>4-Year College</td>\n",
       "      <td>18</td>\n",
       "      <td>2</td>\n",
       "      <td>1</td>\n",
       "      <td>4</td>\n",
       "      <td>0</td>\n",
       "      <td>0.32</td>\n",
       "      <td>northeast</td>\n",
       "    </tr>\n",
       "    <tr>\n",
       "      <th>25297</th>\n",
       "      <td>0</td>\n",
       "      <td>IN</td>\n",
       "      <td>White</td>\n",
       "      <td>-0.5</td>\n",
       "      <td>50-59</td>\n",
       "      <td>HS</td>\n",
       "      <td>14</td>\n",
       "      <td>3</td>\n",
       "      <td>0</td>\n",
       "      <td>3</td>\n",
       "      <td>1</td>\n",
       "      <td>0.56</td>\n",
       "      <td>midwest</td>\n",
       "    </tr>\n",
       "    <tr>\n",
       "      <th>56011</th>\n",
       "      <td>0</td>\n",
       "      <td>IA</td>\n",
       "      <td>White</td>\n",
       "      <td>0.5</td>\n",
       "      <td>50-59</td>\n",
       "      <td>4-Year College</td>\n",
       "      <td>11</td>\n",
       "      <td>3</td>\n",
       "      <td>1</td>\n",
       "      <td>3</td>\n",
       "      <td>0</td>\n",
       "      <td>0.51</td>\n",
       "      <td>midwest</td>\n",
       "    </tr>\n",
       "    <tr>\n",
       "      <th>49143</th>\n",
       "      <td>1</td>\n",
       "      <td>OR</td>\n",
       "      <td>White</td>\n",
       "      <td>0.5</td>\n",
       "      <td>70+</td>\n",
       "      <td>Some college</td>\n",
       "      <td>36</td>\n",
       "      <td>3</td>\n",
       "      <td>1</td>\n",
       "      <td>5</td>\n",
       "      <td>4</td>\n",
       "      <td>0.39</td>\n",
       "      <td>west</td>\n",
       "    </tr>\n",
       "  </tbody>\n",
       "</table>\n",
       "<p>5000 rows × 13 columns</p>\n",
       "</div>"
      ],
      "text/plain": [
       "       abortion state    eth  male    age            educ  state_cat  eth_cat  \\\n",
       "25311         1    IN  White   0.5  50-59  4-Year College         14        3   \n",
       "43299         1    WA  White   0.5    70+       Post-grad         46        3   \n",
       "7             1    MD  White   0.5    70+              HS         19        3   \n",
       "18216         1    PA  White   0.5  50-59    Some college         37        3   \n",
       "9095          1    CA  Black   0.5  40-49    Some college          4        0   \n",
       "...         ...   ...    ...   ...    ...             ...        ...      ...   \n",
       "21729         1    NY  White   0.5    70+              HS         33        3   \n",
       "53831         0    MA  Other   0.5  60-69  4-Year College         18        2   \n",
       "25297         0    IN  White  -0.5  50-59              HS         14        3   \n",
       "56011         0    IA  White   0.5  50-59  4-Year College         11        3   \n",
       "49143         1    OR  White   0.5    70+    Some college         36        3   \n",
       "\n",
       "       male_cat  age_cat  educ_cat  rep_sup     region  \n",
       "25311         1        3         0     0.56    midwest  \n",
       "43299         1        5         3     0.36       west  \n",
       "7             1        5         1     0.33  northeast  \n",
       "18216         1        3         4     0.48  northeast  \n",
       "9095          1        2         4     0.31       west  \n",
       "...         ...      ...       ...      ...        ...  \n",
       "21729         1        5         1     0.36  northeast  \n",
       "53831         1        4         0     0.32  northeast  \n",
       "25297         0        3         1     0.56    midwest  \n",
       "56011         1        3         0     0.51    midwest  \n",
       "49143         1        5         4     0.39       west  \n",
       "\n",
       "[5000 rows x 13 columns]"
      ]
     },
     "execution_count": 77,
     "metadata": {},
     "output_type": "execute_result"
    }
   ],
   "source": [
    "df_3 = df.merge(states,left_on = \"state\", right_on = \"states\")\n",
    "df_3 = df_3.drop(\"states\", axis = 1)\n",
    "weights = (5*df_3.rep_sup + (df_3.age==\"18-29\")*0.5 + (df_3.age==\"30-39\")*1 +(df_3.age==\"40-49\")*2 + (df_3.age==\"50-59\")*4 + (df_3.age==\"60-69\")*6 + (df_3.age==\"70+\")*8 + (df_3.male==0.5)*20 +(df_3.eth==\"White\")*1.05)\n",
    "biased_sample = df_3.sample(5000, random_state=1, weights = weights)\n",
    "biased_sample"
   ]
  },
  {
   "cell_type": "code",
   "execution_count": 78,
   "metadata": {},
   "outputs": [
    {
     "name": "stdout",
     "output_type": "stream",
     "text": [
      "torch.Size([5000, 5])\n",
      "torch.Size([50, 2])\n",
      "tensor([0., 1., 0.,  ..., 1., 1., 0.])\n"
     ]
    }
   ],
   "source": [
    "mat_small = small_sample.iloc[:,6:11].values\n",
    "X_small = mat_small\n",
    "X_small = torch.tensor(X_small).float()\n",
    "y_small = small_sample.iloc[:,0].values\n",
    "y_small = torch.tensor(y_small).float()\n",
    "print(X_small.shape)\n",
    "print(states_x.shape)\n",
    "print(y_small)"
   ]
  },
  {
   "cell_type": "code",
   "execution_count": 79,
   "metadata": {},
   "outputs": [
    {
     "name": "stdout",
     "output_type": "stream",
     "text": [
      "torch.Size([5000, 5])\n",
      "torch.Size([50, 2])\n",
      "tensor([1., 1., 1.,  ..., 0., 0., 1.])\n"
     ]
    }
   ],
   "source": [
    "mat_biased = biased_sample.iloc[:,6:11].values\n",
    "X_biased = mat_biased\n",
    "X_biased = torch.tensor(X_biased).float()\n",
    "y_biased = biased_sample.iloc[:,0].values\n",
    "y_biased = torch.tensor(y_biased).float()\n",
    "print(X_biased.shape)\n",
    "print(states_x.shape)\n",
    "print(y_biased)"
   ]
  },
  {
   "cell_type": "code",
   "execution_count": 80,
   "metadata": {},
   "outputs": [],
   "source": [
    "#guide_small = train_SVI(X_small,y_small,states_x,model)\n",
    "#guide_biased = train_SVI(X_biased,y_biased,states_x,model)"
   ]
  },
  {
   "cell_type": "code",
   "execution_count": 81,
   "metadata": {},
   "outputs": [],
   "source": [
    "saved_model_dict_small = torch.load(\"mymodel_small.pt\")\n",
    "guide_small = saved_model_dict['guide']\n",
    "saved_model_dict_biased = torch.load(\"mymodel_biased.pt\")\n",
    "guide_biased = saved_model_dict['guide']\n",
    "samples_small, params_samples_small = sample_params(guide_small, X,states_x, y,model)\n",
    "samples_biased, params_samples_biased = sample_params(guide_biased, X,states_x, y,model)"
   ]
  },
  {
   "cell_type": "code",
   "execution_count": 82,
   "metadata": {},
   "outputs": [],
   "source": [
    "#torch.save({\"guide\" : guide_small}, \"mymodel_small.pt\")\n",
    "#torch.save({\"guide\" : guide_biased}, \"mymodel_biased.pt\")"
   ]
  },
  {
   "cell_type": "code",
   "execution_count": 83,
   "metadata": {},
   "outputs": [
    {
     "name": "stdout",
     "output_type": "stream",
     "text": [
      "predictions: [0. 1. 0. ... 1. 0. 0.]\n",
      "true values: [0. 1. 0. ... 1. 1. 0.]\n",
      "Accuracy: 0.6056\n"
     ]
    }
   ],
   "source": [
    "compute_accuracy(samples_small,X_small,y_small,states_x)"
   ]
  },
  {
   "cell_type": "code",
   "execution_count": 84,
   "metadata": {},
   "outputs": [
    {
     "name": "stdout",
     "output_type": "stream",
     "text": [
      "predictions: [1. 0. 0. ... 0. 1. 1.]\n",
      "true values: [1. 1. 1. ... 0. 0. 1.]\n",
      "Accuracy: 0.5846\n"
     ]
    }
   ],
   "source": [
    "compute_accuracy(samples_biased,X_biased,y_biased,states_x)"
   ]
  },
  {
   "cell_type": "code",
   "execution_count": 85,
   "metadata": {},
   "outputs": [
    {
     "name": "stdout",
     "output_type": "stream",
     "text": [
      "Progress: [####################] 100.0%\n"
     ]
    }
   ],
   "source": [
    "theta_small, _ = poststritify(params_samples_small, post, states_x_n)\n",
    "theta_biased, _ = poststritify(params_samples_biased, post, states_x_n)"
   ]
  },
  {
   "cell_type": "code",
   "execution_count": 86,
   "metadata": {},
   "outputs": [
    {
     "data": {
      "image/png": "[encoded data removed]",
      "text/plain": [
       "<Figure size 864x576 with 2 Axes>"
      ]
     },
     "metadata": {
      "needs_background": "light"
     },
     "output_type": "display_data"
    }
   ],
   "source": [
    "plt.subplot(1,2,1)\n",
    "plt.hist(theta_small)\n",
    "plt.subplot(1,2,2)\n",
    "plt.hist(theta_biased);\n",
    "plt.show();"
   ]
  },
  {
   "cell_type": "code",
   "execution_count": 87,
   "metadata": {},
   "outputs": [
    {
     "name": "stdout",
     "output_type": "stream",
     "text": [
      "Survey small sample mean support:  0.4306\n",
      "Survey small sample support std:  0.007002622912394368\n",
      "Size of the Survey small sample:   5000\n",
      "\n",
      "Survey biased sample mean support:  0.473\n",
      "Survey  biased sample support std:  0.0070607506606488605\n",
      "Size of the Survey biased sample:   5000\n",
      "\n",
      "MRP mean support estimate from the small sample:  0.43891414802287937\n",
      "MRP std:  0.016495558279819068\n",
      "Population size:  228443347\n",
      "\n",
      "MRP mean support estimate from the biased sample:  0.4394917502062339\n",
      "MRP std:  0.017032531147047794\n",
      "Population size:  228443347\n"
     ]
    }
   ],
   "source": [
    "print(\"Survey small sample mean support: \", y_small.numpy().sum()/len(y_small.numpy()))\n",
    "print(\"Survey small sample support std: \", math.sqrt(y_small.numpy().mean()*(1-y_small.numpy().mean())/len(y_small.numpy())))\n",
    "print(\"Size of the Survey small sample:  \", len(y_small.numpy()))\n",
    "print(\"\")\n",
    "print(\"Survey biased sample mean support: \", y_biased.numpy().sum()/len(y_biased.numpy()))\n",
    "print(\"Survey  biased sample support std: \", math.sqrt(y_biased.numpy().mean()*(1-y_biased.numpy().mean())/len(y_biased.numpy())))\n",
    "print(\"Size of the Survey biased sample:  \", len(y_biased.numpy()))\n",
    "print(\"\")\n",
    "print(\"MRP mean support estimate from the small sample: \", theta_small.mean())\n",
    "print(\"MRP std: \", theta_small.std())\n",
    "print(\"Population size: \", post[\"n\"].sum())\n",
    "print(\"\")\n",
    "print(\"MRP mean support estimate from the biased sample: \", theta_biased.mean())\n",
    "print(\"MRP std: \", theta_biased.std())\n",
    "print(\"Population size: \", post[\"n\"].sum())"
   ]
  },
  {
   "cell_type": "markdown",
   "metadata": {},
   "source": [
    "# 6)  NON-CENSUS VARIABLE"
   ]
  },
  {
   "cell_type": "markdown",
   "metadata": {},
   "source": [
    "Now we add a feature \"party\", which was also obtained in the survey but is not available for the whole population."
   ]
  },
  {
   "cell_type": "code",
   "execution_count": 88,
   "metadata": {},
   "outputs": [
    {
     "data": {
      "text/html": [
       "<div>\n",
       "<style scoped>\n",
       "    .dataframe tbody tr th:only-of-type {\n",
       "        vertical-align: middle;\n",
       "    }\n",
       "\n",
       "    .dataframe tbody tr th {\n",
       "        vertical-align: top;\n",
       "    }\n",
       "\n",
       "    .dataframe thead th {\n",
       "        text-align: right;\n",
       "    }\n",
       "</style>\n",
       "<table border=\"1\" class=\"dataframe\">\n",
       "  <thead>\n",
       "    <tr style=\"text-align: right;\">\n",
       "      <th></th>\n",
       "      <th>states</th>\n",
       "      <th>rep_sup</th>\n",
       "      <th>region</th>\n",
       "    </tr>\n",
       "  </thead>\n",
       "  <tbody>\n",
       "    <tr>\n",
       "      <th>0</th>\n",
       "      <td>AK</td>\n",
       "      <td>0.51</td>\n",
       "      <td>west</td>\n",
       "    </tr>\n",
       "    <tr>\n",
       "      <th>1</th>\n",
       "      <td>AL</td>\n",
       "      <td>0.62</td>\n",
       "      <td>southeast</td>\n",
       "    </tr>\n",
       "    <tr>\n",
       "      <th>2</th>\n",
       "      <td>AR</td>\n",
       "      <td>0.60</td>\n",
       "      <td>southeast</td>\n",
       "    </tr>\n",
       "    <tr>\n",
       "      <th>3</th>\n",
       "      <td>AZ</td>\n",
       "      <td>0.48</td>\n",
       "      <td>southwest</td>\n",
       "    </tr>\n",
       "    <tr>\n",
       "      <th>4</th>\n",
       "      <td>CA</td>\n",
       "      <td>0.31</td>\n",
       "      <td>west</td>\n",
       "    </tr>\n",
       "  </tbody>\n",
       "</table>\n",
       "</div>"
      ],
      "text/plain": [
       "  states  rep_sup     region\n",
       "0     AK     0.51       west\n",
       "1     AL     0.62  southeast\n",
       "2     AR     0.60  southeast\n",
       "3     AZ     0.48  southwest\n",
       "4     CA     0.31       west"
      ]
     },
     "execution_count": 88,
     "metadata": {},
     "output_type": "execute_result"
    }
   ],
   "source": [
    "df_n_0 = pd.read_csv(\"Data/cces_all_clean_2.csv\", index_col=0)\n",
    "states = pd.read_excel(\"Data/states.xlsx\")\n",
    "states = states.rename(columns={'republican support percentage':\"rep_sup\"})\n",
    "states.head()"
   ]
  },
  {
   "cell_type": "code",
   "execution_count": 89,
   "metadata": {},
   "outputs": [
    {
     "data": {
      "text/html": [
       "<div>\n",
       "<style scoped>\n",
       "    .dataframe tbody tr th:only-of-type {\n",
       "        vertical-align: middle;\n",
       "    }\n",
       "\n",
       "    .dataframe tbody tr th {\n",
       "        vertical-align: top;\n",
       "    }\n",
       "\n",
       "    .dataframe thead th {\n",
       "        text-align: right;\n",
       "    }\n",
       "</style>\n",
       "<table border=\"1\" class=\"dataframe\">\n",
       "  <thead>\n",
       "    <tr style=\"text-align: right;\">\n",
       "      <th></th>\n",
       "      <th>abortion</th>\n",
       "      <th>state</th>\n",
       "      <th>eth</th>\n",
       "      <th>male</th>\n",
       "      <th>age</th>\n",
       "      <th>educ</th>\n",
       "      <th>party</th>\n",
       "      <th>rep_sup</th>\n",
       "      <th>region</th>\n",
       "      <th>state_cat</th>\n",
       "      <th>eth_cat</th>\n",
       "      <th>male_cat</th>\n",
       "      <th>age_cat</th>\n",
       "      <th>educ_cat</th>\n",
       "      <th>party_cat</th>\n",
       "    </tr>\n",
       "  </thead>\n",
       "  <tbody>\n",
       "    <tr>\n",
       "      <th>0</th>\n",
       "      <td>1</td>\n",
       "      <td>MD</td>\n",
       "      <td>Other</td>\n",
       "      <td>-0.5</td>\n",
       "      <td>50-59</td>\n",
       "      <td>Some college</td>\n",
       "      <td>Independent</td>\n",
       "      <td>0.33</td>\n",
       "      <td>northeast</td>\n",
       "      <td>19</td>\n",
       "      <td>2</td>\n",
       "      <td>0</td>\n",
       "      <td>3</td>\n",
       "      <td>4</td>\n",
       "      <td>1</td>\n",
       "    </tr>\n",
       "    <tr>\n",
       "      <th>1</th>\n",
       "      <td>0</td>\n",
       "      <td>MD</td>\n",
       "      <td>White</td>\n",
       "      <td>-0.5</td>\n",
       "      <td>18-29</td>\n",
       "      <td>Some college</td>\n",
       "      <td>Independent</td>\n",
       "      <td>0.33</td>\n",
       "      <td>northeast</td>\n",
       "      <td>19</td>\n",
       "      <td>3</td>\n",
       "      <td>0</td>\n",
       "      <td>0</td>\n",
       "      <td>4</td>\n",
       "      <td>1</td>\n",
       "    </tr>\n",
       "    <tr>\n",
       "      <th>2</th>\n",
       "      <td>0</td>\n",
       "      <td>MD</td>\n",
       "      <td>White</td>\n",
       "      <td>0.5</td>\n",
       "      <td>30-39</td>\n",
       "      <td>Post-grad</td>\n",
       "      <td>Independent</td>\n",
       "      <td>0.33</td>\n",
       "      <td>northeast</td>\n",
       "      <td>19</td>\n",
       "      <td>3</td>\n",
       "      <td>1</td>\n",
       "      <td>1</td>\n",
       "      <td>3</td>\n",
       "      <td>1</td>\n",
       "    </tr>\n",
       "    <tr>\n",
       "      <th>3</th>\n",
       "      <td>1</td>\n",
       "      <td>MD</td>\n",
       "      <td>Other</td>\n",
       "      <td>-0.5</td>\n",
       "      <td>60-69</td>\n",
       "      <td>Post-grad</td>\n",
       "      <td>Republican</td>\n",
       "      <td>0.33</td>\n",
       "      <td>northeast</td>\n",
       "      <td>19</td>\n",
       "      <td>2</td>\n",
       "      <td>0</td>\n",
       "      <td>4</td>\n",
       "      <td>3</td>\n",
       "      <td>2</td>\n",
       "    </tr>\n",
       "    <tr>\n",
       "      <th>4</th>\n",
       "      <td>0</td>\n",
       "      <td>MD</td>\n",
       "      <td>White</td>\n",
       "      <td>0.5</td>\n",
       "      <td>70+</td>\n",
       "      <td>Post-grad</td>\n",
       "      <td>Democrat</td>\n",
       "      <td>0.33</td>\n",
       "      <td>northeast</td>\n",
       "      <td>19</td>\n",
       "      <td>3</td>\n",
       "      <td>1</td>\n",
       "      <td>5</td>\n",
       "      <td>3</td>\n",
       "      <td>0</td>\n",
       "    </tr>\n",
       "  </tbody>\n",
       "</table>\n",
       "</div>"
      ],
      "text/plain": [
       "   abortion state    eth  male    age          educ        party  rep_sup  \\\n",
       "0         1    MD  Other  -0.5  50-59  Some college  Independent     0.33   \n",
       "1         0    MD  White  -0.5  18-29  Some college  Independent     0.33   \n",
       "2         0    MD  White   0.5  30-39     Post-grad  Independent     0.33   \n",
       "3         1    MD  Other  -0.5  60-69     Post-grad   Republican     0.33   \n",
       "4         0    MD  White   0.5    70+     Post-grad     Democrat     0.33   \n",
       "\n",
       "      region  state_cat  eth_cat  male_cat  age_cat  educ_cat  party_cat  \n",
       "0  northeast         19        2         0        3         4          1  \n",
       "1  northeast         19        3         0        0         4          1  \n",
       "2  northeast         19        3         1        1         3          1  \n",
       "3  northeast         19        2         0        4         3          2  \n",
       "4  northeast         19        3         1        5         3          0  "
      ]
     },
     "execution_count": 89,
     "metadata": {},
     "output_type": "execute_result"
    }
   ],
   "source": [
    "df_n = df_n_0.merge(states, left_on = \"state\", right_on = \"states\")\n",
    "df_n.drop('states', inplace=True, axis=1)\n",
    "for category in categories+[\"party\"]:\n",
    "    df_n[category+\"_cat\"] = df_n[category].astype('category').cat.codes\n",
    "df_n.head()"
   ]
  },
  {
   "cell_type": "code",
   "execution_count": 90,
   "metadata": {},
   "outputs": [
    {
     "data": {
      "text/html": [
       "<div>\n",
       "<style scoped>\n",
       "    .dataframe tbody tr th:only-of-type {\n",
       "        vertical-align: middle;\n",
       "    }\n",
       "\n",
       "    .dataframe tbody tr th {\n",
       "        vertical-align: top;\n",
       "    }\n",
       "\n",
       "    .dataframe thead th {\n",
       "        text-align: right;\n",
       "    }\n",
       "</style>\n",
       "<table border=\"1\" class=\"dataframe\">\n",
       "  <thead>\n",
       "    <tr style=\"text-align: right;\">\n",
       "      <th></th>\n",
       "      <th>state</th>\n",
       "      <th>eth</th>\n",
       "      <th>male</th>\n",
       "      <th>age</th>\n",
       "      <th>educ</th>\n",
       "      <th>n</th>\n",
       "      <th>rep_sup</th>\n",
       "      <th>region</th>\n",
       "      <th>state_cat</th>\n",
       "      <th>eth_cat</th>\n",
       "      <th>male_cat</th>\n",
       "      <th>age_cat</th>\n",
       "      <th>educ_cat</th>\n",
       "      <th>region_cat</th>\n",
       "    </tr>\n",
       "  </thead>\n",
       "  <tbody>\n",
       "    <tr>\n",
       "      <th>0</th>\n",
       "      <td>AL</td>\n",
       "      <td>White</td>\n",
       "      <td>-0.5</td>\n",
       "      <td>18-29</td>\n",
       "      <td>No HS</td>\n",
       "      <td>23948</td>\n",
       "      <td>0.62</td>\n",
       "      <td>southeast</td>\n",
       "      <td>1</td>\n",
       "      <td>3</td>\n",
       "      <td>0</td>\n",
       "      <td>0</td>\n",
       "      <td>2</td>\n",
       "      <td>2</td>\n",
       "    </tr>\n",
       "    <tr>\n",
       "      <th>1</th>\n",
       "      <td>AL</td>\n",
       "      <td>White</td>\n",
       "      <td>-0.5</td>\n",
       "      <td>18-29</td>\n",
       "      <td>HS</td>\n",
       "      <td>59378</td>\n",
       "      <td>0.62</td>\n",
       "      <td>southeast</td>\n",
       "      <td>1</td>\n",
       "      <td>3</td>\n",
       "      <td>0</td>\n",
       "      <td>0</td>\n",
       "      <td>1</td>\n",
       "      <td>2</td>\n",
       "    </tr>\n",
       "    <tr>\n",
       "      <th>2</th>\n",
       "      <td>AL</td>\n",
       "      <td>White</td>\n",
       "      <td>-0.5</td>\n",
       "      <td>18-29</td>\n",
       "      <td>Some college</td>\n",
       "      <td>104855</td>\n",
       "      <td>0.62</td>\n",
       "      <td>southeast</td>\n",
       "      <td>1</td>\n",
       "      <td>3</td>\n",
       "      <td>0</td>\n",
       "      <td>0</td>\n",
       "      <td>4</td>\n",
       "      <td>2</td>\n",
       "    </tr>\n",
       "    <tr>\n",
       "      <th>3</th>\n",
       "      <td>AL</td>\n",
       "      <td>White</td>\n",
       "      <td>-0.5</td>\n",
       "      <td>18-29</td>\n",
       "      <td>4-Year College</td>\n",
       "      <td>37066</td>\n",
       "      <td>0.62</td>\n",
       "      <td>southeast</td>\n",
       "      <td>1</td>\n",
       "      <td>3</td>\n",
       "      <td>0</td>\n",
       "      <td>0</td>\n",
       "      <td>0</td>\n",
       "      <td>2</td>\n",
       "    </tr>\n",
       "    <tr>\n",
       "      <th>4</th>\n",
       "      <td>AL</td>\n",
       "      <td>White</td>\n",
       "      <td>-0.5</td>\n",
       "      <td>18-29</td>\n",
       "      <td>Post-grad</td>\n",
       "      <td>9378</td>\n",
       "      <td>0.62</td>\n",
       "      <td>southeast</td>\n",
       "      <td>1</td>\n",
       "      <td>3</td>\n",
       "      <td>0</td>\n",
       "      <td>0</td>\n",
       "      <td>3</td>\n",
       "      <td>2</td>\n",
       "    </tr>\n",
       "  </tbody>\n",
       "</table>\n",
       "</div>"
      ],
      "text/plain": [
       "  state    eth  male    age            educ       n  rep_sup     region  \\\n",
       "0    AL  White  -0.5  18-29           No HS   23948     0.62  southeast   \n",
       "1    AL  White  -0.5  18-29              HS   59378     0.62  southeast   \n",
       "2    AL  White  -0.5  18-29    Some college  104855     0.62  southeast   \n",
       "3    AL  White  -0.5  18-29  4-Year College   37066     0.62  southeast   \n",
       "4    AL  White  -0.5  18-29       Post-grad    9378     0.62  southeast   \n",
       "\n",
       "   state_cat  eth_cat  male_cat  age_cat  educ_cat  region_cat  \n",
       "0          1        3         0        0         2           2  \n",
       "1          1        3         0        0         1           2  \n",
       "2          1        3         0        0         4           2  \n",
       "3          1        3         0        0         0           2  \n",
       "4          1        3         0        0         3           2  "
      ]
     },
     "execution_count": 90,
     "metadata": {},
     "output_type": "execute_result"
    }
   ],
   "source": [
    "post_n = pd.read_csv(\"Data/poststrat_df.csv\")\n",
    "categories = [\"state\", \"eth\", \"male\", \"age\", \"educ\",\"region\"]\n",
    "post_n = post_n.merge(states, left_on = \"state\", right_on = \"states\")\n",
    "post_n.drop('states', inplace=True, axis=1)\n",
    "for category in categories:\n",
    "    post_n[category+\"_cat\"] = post_n[category].astype('category').cat.codes\n",
    "post_n.head()"
   ]
  },
  {
   "cell_type": "markdown",
   "metadata": {},
   "source": [
    "## NON REPRESENTATIVE SAMPLE"
   ]
  },
  {
   "cell_type": "code",
   "execution_count": 91,
   "metadata": {},
   "outputs": [
    {
     "data": {
      "text/html": [
       "<div>\n",
       "<style scoped>\n",
       "    .dataframe tbody tr th:only-of-type {\n",
       "        vertical-align: middle;\n",
       "    }\n",
       "\n",
       "    .dataframe tbody tr th {\n",
       "        vertical-align: top;\n",
       "    }\n",
       "\n",
       "    .dataframe thead th {\n",
       "        text-align: right;\n",
       "    }\n",
       "</style>\n",
       "<table border=\"1\" class=\"dataframe\">\n",
       "  <thead>\n",
       "    <tr style=\"text-align: right;\">\n",
       "      <th></th>\n",
       "      <th>abortion</th>\n",
       "      <th>state</th>\n",
       "      <th>eth</th>\n",
       "      <th>male</th>\n",
       "      <th>age</th>\n",
       "      <th>educ</th>\n",
       "      <th>party</th>\n",
       "      <th>rep_sup</th>\n",
       "      <th>region</th>\n",
       "      <th>state_cat</th>\n",
       "      <th>eth_cat</th>\n",
       "      <th>male_cat</th>\n",
       "      <th>age_cat</th>\n",
       "      <th>educ_cat</th>\n",
       "      <th>party_cat</th>\n",
       "    </tr>\n",
       "  </thead>\n",
       "  <tbody>\n",
       "    <tr>\n",
       "      <th>24768</th>\n",
       "      <td>1</td>\n",
       "      <td>IN</td>\n",
       "      <td>White</td>\n",
       "      <td>0.5</td>\n",
       "      <td>30-39</td>\n",
       "      <td>4-Year College</td>\n",
       "      <td>Republican</td>\n",
       "      <td>0.56</td>\n",
       "      <td>midwest</td>\n",
       "      <td>14</td>\n",
       "      <td>3</td>\n",
       "      <td>1</td>\n",
       "      <td>1</td>\n",
       "      <td>0</td>\n",
       "      <td>2</td>\n",
       "    </tr>\n",
       "    <tr>\n",
       "      <th>43102</th>\n",
       "      <td>0</td>\n",
       "      <td>WA</td>\n",
       "      <td>Other</td>\n",
       "      <td>-0.5</td>\n",
       "      <td>18-29</td>\n",
       "      <td>Post-grad</td>\n",
       "      <td>Independent</td>\n",
       "      <td>0.36</td>\n",
       "      <td>west</td>\n",
       "      <td>46</td>\n",
       "      <td>2</td>\n",
       "      <td>0</td>\n",
       "      <td>0</td>\n",
       "      <td>3</td>\n",
       "      <td>1</td>\n",
       "    </tr>\n",
       "    <tr>\n",
       "      <th>7</th>\n",
       "      <td>1</td>\n",
       "      <td>MD</td>\n",
       "      <td>White</td>\n",
       "      <td>0.5</td>\n",
       "      <td>70+</td>\n",
       "      <td>HS</td>\n",
       "      <td>Independent</td>\n",
       "      <td>0.33</td>\n",
       "      <td>northeast</td>\n",
       "      <td>19</td>\n",
       "      <td>3</td>\n",
       "      <td>1</td>\n",
       "      <td>5</td>\n",
       "      <td>1</td>\n",
       "      <td>1</td>\n",
       "    </tr>\n",
       "    <tr>\n",
       "      <th>18032</th>\n",
       "      <td>0</td>\n",
       "      <td>PA</td>\n",
       "      <td>White</td>\n",
       "      <td>-0.5</td>\n",
       "      <td>40-49</td>\n",
       "      <td>Some college</td>\n",
       "      <td>Democrat</td>\n",
       "      <td>0.48</td>\n",
       "      <td>northeast</td>\n",
       "      <td>37</td>\n",
       "      <td>3</td>\n",
       "      <td>0</td>\n",
       "      <td>2</td>\n",
       "      <td>4</td>\n",
       "      <td>0</td>\n",
       "    </tr>\n",
       "    <tr>\n",
       "      <th>8637</th>\n",
       "      <td>0</td>\n",
       "      <td>CA</td>\n",
       "      <td>Hispanic</td>\n",
       "      <td>-0.5</td>\n",
       "      <td>30-39</td>\n",
       "      <td>No HS</td>\n",
       "      <td>Democrat</td>\n",
       "      <td>0.31</td>\n",
       "      <td>west</td>\n",
       "      <td>4</td>\n",
       "      <td>1</td>\n",
       "      <td>0</td>\n",
       "      <td>1</td>\n",
       "      <td>2</td>\n",
       "      <td>0</td>\n",
       "    </tr>\n",
       "    <tr>\n",
       "      <th>...</th>\n",
       "      <td>...</td>\n",
       "      <td>...</td>\n",
       "      <td>...</td>\n",
       "      <td>...</td>\n",
       "      <td>...</td>\n",
       "      <td>...</td>\n",
       "      <td>...</td>\n",
       "      <td>...</td>\n",
       "      <td>...</td>\n",
       "      <td>...</td>\n",
       "      <td>...</td>\n",
       "      <td>...</td>\n",
       "      <td>...</td>\n",
       "      <td>...</td>\n",
       "      <td>...</td>\n",
       "    </tr>\n",
       "    <tr>\n",
       "      <th>59273</th>\n",
       "      <td>1</td>\n",
       "      <td>WY</td>\n",
       "      <td>Other</td>\n",
       "      <td>-0.5</td>\n",
       "      <td>40-49</td>\n",
       "      <td>Post-grad</td>\n",
       "      <td>Independent</td>\n",
       "      <td>0.67</td>\n",
       "      <td>west</td>\n",
       "      <td>49</td>\n",
       "      <td>2</td>\n",
       "      <td>0</td>\n",
       "      <td>2</td>\n",
       "      <td>3</td>\n",
       "      <td>1</td>\n",
       "    </tr>\n",
       "    <tr>\n",
       "      <th>57501</th>\n",
       "      <td>0</td>\n",
       "      <td>NM</td>\n",
       "      <td>White</td>\n",
       "      <td>-0.5</td>\n",
       "      <td>40-49</td>\n",
       "      <td>4-Year College</td>\n",
       "      <td>Democrat</td>\n",
       "      <td>0.40</td>\n",
       "      <td>southwest</td>\n",
       "      <td>31</td>\n",
       "      <td>3</td>\n",
       "      <td>0</td>\n",
       "      <td>2</td>\n",
       "      <td>0</td>\n",
       "      <td>0</td>\n",
       "    </tr>\n",
       "    <tr>\n",
       "      <th>13952</th>\n",
       "      <td>0</td>\n",
       "      <td>GA</td>\n",
       "      <td>Black</td>\n",
       "      <td>-0.5</td>\n",
       "      <td>60-69</td>\n",
       "      <td>HS</td>\n",
       "      <td>Republican</td>\n",
       "      <td>0.50</td>\n",
       "      <td>southeast</td>\n",
       "      <td>9</td>\n",
       "      <td>0</td>\n",
       "      <td>0</td>\n",
       "      <td>4</td>\n",
       "      <td>1</td>\n",
       "      <td>2</td>\n",
       "    </tr>\n",
       "    <tr>\n",
       "      <th>13444</th>\n",
       "      <td>1</td>\n",
       "      <td>AL</td>\n",
       "      <td>White</td>\n",
       "      <td>-0.5</td>\n",
       "      <td>18-29</td>\n",
       "      <td>4-Year College</td>\n",
       "      <td>Republican</td>\n",
       "      <td>0.62</td>\n",
       "      <td>southeast</td>\n",
       "      <td>1</td>\n",
       "      <td>3</td>\n",
       "      <td>0</td>\n",
       "      <td>0</td>\n",
       "      <td>0</td>\n",
       "      <td>2</td>\n",
       "    </tr>\n",
       "    <tr>\n",
       "      <th>39668</th>\n",
       "      <td>1</td>\n",
       "      <td>TX</td>\n",
       "      <td>Hispanic</td>\n",
       "      <td>-0.5</td>\n",
       "      <td>18-29</td>\n",
       "      <td>Some college</td>\n",
       "      <td>Independent</td>\n",
       "      <td>0.52</td>\n",
       "      <td>southwest</td>\n",
       "      <td>42</td>\n",
       "      <td>1</td>\n",
       "      <td>0</td>\n",
       "      <td>0</td>\n",
       "      <td>4</td>\n",
       "      <td>1</td>\n",
       "    </tr>\n",
       "  </tbody>\n",
       "</table>\n",
       "<p>5000 rows × 15 columns</p>\n",
       "</div>"
      ],
      "text/plain": [
       "       abortion state       eth  male    age            educ        party  \\\n",
       "24768         1    IN     White   0.5  30-39  4-Year College   Republican   \n",
       "43102         0    WA     Other  -0.5  18-29       Post-grad  Independent   \n",
       "7             1    MD     White   0.5    70+              HS  Independent   \n",
       "18032         0    PA     White  -0.5  40-49    Some college     Democrat   \n",
       "8637          0    CA  Hispanic  -0.5  30-39           No HS     Democrat   \n",
       "...         ...   ...       ...   ...    ...             ...          ...   \n",
       "59273         1    WY     Other  -0.5  40-49       Post-grad  Independent   \n",
       "57501         0    NM     White  -0.5  40-49  4-Year College     Democrat   \n",
       "13952         0    GA     Black  -0.5  60-69              HS   Republican   \n",
       "13444         1    AL     White  -0.5  18-29  4-Year College   Republican   \n",
       "39668         1    TX  Hispanic  -0.5  18-29    Some college  Independent   \n",
       "\n",
       "       rep_sup     region  state_cat  eth_cat  male_cat  age_cat  educ_cat  \\\n",
       "24768     0.56    midwest         14        3         1        1         0   \n",
       "43102     0.36       west         46        2         0        0         3   \n",
       "7         0.33  northeast         19        3         1        5         1   \n",
       "18032     0.48  northeast         37        3         0        2         4   \n",
       "8637      0.31       west          4        1         0        1         2   \n",
       "...        ...        ...        ...      ...       ...      ...       ...   \n",
       "59273     0.67       west         49        2         0        2         3   \n",
       "57501     0.40  southwest         31        3         0        2         0   \n",
       "13952     0.50  southeast          9        0         0        4         1   \n",
       "13444     0.62  southeast          1        3         0        0         0   \n",
       "39668     0.52  southwest         42        1         0        0         4   \n",
       "\n",
       "       party_cat  \n",
       "24768          2  \n",
       "43102          1  \n",
       "7              1  \n",
       "18032          0  \n",
       "8637           0  \n",
       "...          ...  \n",
       "59273          1  \n",
       "57501          0  \n",
       "13952          2  \n",
       "13444          2  \n",
       "39668          1  \n",
       "\n",
       "[5000 rows x 15 columns]"
      ]
     },
     "execution_count": 91,
     "metadata": {},
     "output_type": "execute_result"
    }
   ],
   "source": [
    "weights = (0.75 * (df_n.party == \"Independent\") + 0.5*(df_n.party == \"Republican\") + (df_n.party == \"Democrat\"))\n",
    "non_rep_sample = df_n.sample(5000, random_state=1, weights = weights)\n",
    "non_rep_sample"
   ]
  },
  {
   "cell_type": "code",
   "execution_count": 92,
   "metadata": {},
   "outputs": [
    {
     "data": {
      "text/plain": [
       "0.3724"
      ]
     },
     "execution_count": 92,
     "metadata": {},
     "output_type": "execute_result"
    }
   ],
   "source": [
    "non_rep_sample.abortion.sum()/5000"
   ]
  },
  {
   "cell_type": "markdown",
   "metadata": {},
   "source": [
    "Now we can select a non representative sample based on the \"party\" affiliation and see how our old MRP model performs. (Above we can see that the opinion of the sample is clearly biased compared with the resulting opinion of the survey - 43% )"
   ]
  },
  {
   "cell_type": "code",
   "execution_count": 93,
   "metadata": {},
   "outputs": [],
   "source": [
    "mat_non_rep = non_rep_sample.iloc[:,[9,10,11,12,13]].values\n",
    "X_non_rep = mat_non_rep\n",
    "X_non_rep = torch.tensor(X_non_rep).float()\n",
    "y_non_rep = non_rep_sample.iloc[:,0].values\n",
    "y_non_rep = torch.tensor(y_non_rep).float()"
   ]
  },
  {
   "cell_type": "code",
   "execution_count": 94,
   "metadata": {
    "scrolled": true
   },
   "outputs": [
    {
     "name": "stdout",
     "output_type": "stream",
     "text": [
      "[0] ELBO: 8806.6\n",
      "[500] ELBO: 3481.9\n",
      "[1000] ELBO: 3400.5\n",
      "[1500] ELBO: 3410.4\n",
      "[2000] ELBO: 3332.6\n",
      "[2500] ELBO: 3378.9\n",
      "[3000] ELBO: 3360.2\n",
      "[3500] ELBO: 3320.8\n",
      "[4000] ELBO: 3348.2\n",
      "[4500] ELBO: 3350.3\n",
      "[5000] ELBO: 3360.6\n",
      "[5500] ELBO: 3339.2\n"
     ]
    }
   ],
   "source": [
    "guide_non_rep = train_SVI(X_non_rep,y_non_rep,states_x,model)"
   ]
  },
  {
   "cell_type": "code",
   "execution_count": 95,
   "metadata": {},
   "outputs": [
    {
     "name": "stdout",
     "output_type": "stream",
     "text": [
      "predictions: [0. 0. 0. ... 0. 0. 0.]\n",
      "true values: [1. 0. 1. ... 0. 1. 1.]\n",
      "Accuracy: 0.627\n"
     ]
    }
   ],
   "source": [
    "samples_non_rep, params_samples_non_rep = sample_params(guide_non_rep, X,states_x, y,model)\n",
    "compute_accuracy(samples_non_rep,X_non_rep,y_non_rep,states_x)"
   ]
  },
  {
   "cell_type": "code",
   "execution_count": 96,
   "metadata": {},
   "outputs": [
    {
     "name": "stdout",
     "output_type": "stream",
     "text": [
      "Progress: [####################] 100.0%\n"
     ]
    }
   ],
   "source": [
    "theta_non_rep, _ = poststritify(params_samples_non_rep, post, states_x_n)"
   ]
  },
  {
   "cell_type": "code",
   "execution_count": 97,
   "metadata": {
    "scrolled": true
   },
   "outputs": [
    {
     "data": {
      "image/png": "[encoded data removed]",
      "text/plain": [
       "<Figure size 864x576 with 1 Axes>"
      ]
     },
     "metadata": {
      "needs_background": "light"
     },
     "output_type": "display_data"
    }
   ],
   "source": [
    "plt.hist(theta_non_rep);"
   ]
  },
  {
   "cell_type": "markdown",
   "metadata": {},
   "source": [
    "It can be seen that in this case the poststratification did not correct for the bias that we introduced with the non representative sample."
   ]
  },
  {
   "cell_type": "code",
   "execution_count": 98,
   "metadata": {},
   "outputs": [
    {
     "name": "stdout",
     "output_type": "stream",
     "text": [
      "Survey biased sample mean support:  0.3724\n",
      "Survey  biased sample support std:  0.006836932645565554\n",
      "Size of the Survey biased sample:   5000\n",
      "\n",
      "MRP mean support estimate from the biased sample:  0.39484843485505405\n",
      "MRP std:  0.01848572562948352\n",
      "Population size:  228443347\n",
      "\n",
      "Survey mean support:  0.4341581675305133\n",
      "Survey support std:  0.002026677347449802\n",
      "Size of the Survey:   59810\n",
      "\n"
     ]
    }
   ],
   "source": [
    "print(\"Survey biased sample mean support: \", non_rep_sample.abortion.sum()/len(non_rep_sample.abortion))\n",
    "print(\"Survey  biased sample support std: \", math.sqrt(non_rep_sample.abortion.mean()*(1-non_rep_sample.abortion.mean())/len(non_rep_sample.abortion)))\n",
    "print(\"Size of the Survey biased sample:  \", len(non_rep_sample.abortion))\n",
    "print(\"\")\n",
    "print(\"MRP mean support estimate from the biased sample: \", theta_non_rep.mean())\n",
    "print(\"MRP std: \", theta_non_rep.std())\n",
    "print(\"Population size: \", post[\"n\"].sum())\n",
    "print(\"\")\n",
    "print(\"Survey mean support: \", y.numpy().sum()/len(y.numpy()))\n",
    "print(\"Survey support std: \", math.sqrt(y.numpy().mean()*(1-y.numpy().mean())/len(y.numpy())))\n",
    "print(\"Size of the Survey:  \", len(y.numpy()))\n",
    "print(\"\")"
   ]
  },
  {
   "cell_type": "markdown",
   "metadata": {},
   "source": [
    "## PREDICTING THE NON CENSUS VARIABLE"
   ]
  },
  {
   "cell_type": "markdown",
   "metadata": {},
   "source": [
    "We saw that we should include the non-census variable into our model, if we want to predict correctly (even from biased surveys). First, we fit a model to predict the \"party\" feature based on the \"old\" features: \"state\" - \"republican support\" and \"region\" , \"education\", \"age\", \"ethnicity\", \"gender\"."
   ]
  },
  {
   "cell_type": "code",
   "execution_count": 99,
   "metadata": {},
   "outputs": [],
   "source": [
    "mat = df_n.iloc[:,9:].values\n",
    "X = mat\n",
    "X = torch.tensor(X).float()\n",
    "y_cat = df_n[\"party_cat\"].values\n",
    "y_cat = torch.tensor(y_cat).float()"
   ]
  },
  {
   "cell_type": "markdown",
   "metadata": {},
   "source": [
    "### BASELINE - Logistic Regression"
   ]
  },
  {
   "cell_type": "code",
   "execution_count": 100,
   "metadata": {},
   "outputs": [
    {
     "name": "stdout",
     "output_type": "stream",
     "text": [
      "num train: 59756\n",
      "num test: 59756\n",
      "predictions: [1. 1. 2. ... 0. 0. 0.]\n",
      "true values: tensor([2., 2., 0.,  ..., 0., 0., 0.])\n",
      "Accuracy: 0.4628823883794096\n"
     ]
    }
   ],
   "source": [
    "category_columns = [\"state\", \"eth\", \"male\", \"age\", \"educ\", \"region\"]\n",
    "df_n_2 = pd.read_csv(\"Data/cces_all_clean_2.csv\", index_col=0)\n",
    "df_n_2 = df_n_2.merge(states, left_on = \"state\", right_on = \"states\")\n",
    "df_n_2.drop('states', inplace=True, axis=1)\n",
    "for col in category_columns:\n",
    "    df_n_2[col] = df_n_2[col].astype('category')\n",
    "df_regr = pd.get_dummies(df_n_2, columns=category_columns, drop_first=True)\n",
    "    \n",
    "train_perc = 1 # percentage of training data\n",
    "split_point = int(train_perc*len(y_cat))\n",
    "perm = np.random.permutation(len(y_cat))\n",
    "ix_train = perm[:split_point]\n",
    "ix_test = perm[split_point:]\n",
    "X_train = df_regr.iloc[:,2:].values[ix_train,:]\n",
    "X_test = df_regr.iloc[:,2:].values[ix_test,:]\n",
    "y_train = y_cat[ix_train]\n",
    "y_test = y_cat[ix_test]\n",
    "y_test = y_train\n",
    "X_test = X_train\n",
    "print(\"num train: %d\" % len(y_train))\n",
    "print(\"num test: %d\" % len(y_test))\n",
    "\n",
    "regr = LogisticRegression()\n",
    "regr.fit(X_train, y_train)\n",
    "y_hat = regr.predict(X_test)\n",
    "\n",
    "\n",
    "print(\"predictions:\", y_hat)\n",
    "print(\"true values:\", y_test)\n",
    "\n",
    "# evaluate prediction accuracy\n",
    "print(\"Accuracy:\", 1.0*np.sum(y_hat == y_test.numpy()) / len(y_test.numpy()))"
   ]
  },
  {
   "cell_type": "markdown",
   "metadata": {},
   "source": [
    "### VARIATIONAL INFERENCE"
   ]
  },
  {
   "cell_type": "code",
   "execution_count": 101,
   "metadata": {},
   "outputs": [],
   "source": [
    "from torch.nn.functional import softmax\n",
    "def model_3(X, states_x, obs=None):\n",
    "    n_cat = 3\n",
    "    sigmas = pyro.sample(\"sigmas\", dist.HalfCauchy(torch.ones(8)*5.))\n",
    "    gammas = pyro.sample(\"gammas\", dist.Normal(torch.zeros((7,n_cat)), 5.0))\n",
    "    alpha_educ = pyro.sample(\"alpha_educ\", dist.Normal(torch.zeros((5,n_cat)), sigmas[0]))\n",
    "    alpha_eth = pyro.sample(\"alpha_eth\", dist.Normal(torch.zeros((4,n_cat)), sigmas[1]))\n",
    "    alpha_age = pyro.sample(\"alpha_age\", dist.Normal(torch.zeros((6,n_cat)), sigmas[2]))\n",
    "    alpha_male_eth = pyro.sample(\"alpha_male_eth\", dist.Normal(torch.zeros((2,4,n_cat)), sigmas[3]))\n",
    "    alpha_educ_age = pyro.sample(\"alpha_educ_age\", dist.Normal(torch.zeros((5,6,n_cat)), sigmas[4]))\n",
    "    alpha_educ_eth = pyro.sample(\"alpha_educ_eth\", dist.Normal(torch.zeros((5,4,n_cat)), sigmas[5]))\n",
    "\n",
    "    \n",
    "    beta_male = pyro.sample(\"beta_male\", dist.Normal(torch.zeros(n_cat),5.))\n",
    "    with pyro.plate(\"data\", size=len(X), subsample_size=1000) as ind:\n",
    "        state = X[ind,0].tolist()\n",
    "        eth = X[ind,1].tolist()\n",
    "        male = X[ind,2].tolist()\n",
    "        male_t = X[ind,2]\n",
    "        age = X[ind,3].tolist()\n",
    "        educ = X[ind,4].tolist()\n",
    "\n",
    "        theta = gammas[5][:, np.newaxis] + gammas[6][:, np.newaxis]* torch.stack([states_x[:,0][state], states_x[:,0][state], states_x[:,0][state]]) + gammas[states_x[:,1][state].tolist()].T+ alpha_educ[educ].T + alpha_eth[eth].T + alpha_age[age].T + alpha_male_eth[male, eth].T + alpha_educ_age[educ,age].T + alpha_educ_eth[educ, eth].T + beta_male[:, np.newaxis]* torch.stack([male_t,male_t,male_t])\n",
    "        y = pyro.sample(\"y\",dist.Categorical(softmax(theta.T, dim= 1)), obs= obs[ind])\n",
    "    return y"
   ]
  },
  {
   "cell_type": "code",
   "execution_count": 102,
   "metadata": {},
   "outputs": [],
   "source": [
    "#guide_cat = train_SVI(X,y_cat,states_x,model_3)"
   ]
  },
  {
   "cell_type": "code",
   "execution_count": 103,
   "metadata": {},
   "outputs": [],
   "source": [
    "#torch.save({\"guide\" : guide_cat}, \"mymodel_party.pt\")\n",
    "#pyro.get_param_store().save(\"mymodelparams_party.pt\")\n",
    "saved_model_dict = torch.load(\"mymodel_party.pt\")\n",
    "guide_cat = saved_model_dict['guide']\n",
    "pyro.get_param_store().load(\"mymodelparams_party.pt\")"
   ]
  },
  {
   "cell_type": "code",
   "execution_count": 104,
   "metadata": {},
   "outputs": [],
   "source": [
    "def compute_cat_accuracy(samples,X,y,states_x):\n",
    "    params_hat = {}\n",
    "    params =[\"alpha_educ\", \"alpha_eth\", \"alpha_age\", \"gammas\", \"beta_male\", \"alpha_educ_age\", \"alpha_educ_eth\", \"alpha_male_eth\"]\n",
    "    # extract expected values of the parameters\n",
    "    for param in params:\n",
    "        params_hat[param] = samples[param].mean(axis=0).detach().numpy()\n",
    "    state = X[:,0].int().tolist()\n",
    "    eth = X[:,1].int().tolist()\n",
    "    male = X[:,2].int().tolist()\n",
    "    male_t = X[:,2].numpy()\n",
    "    age = X[:,3].int().tolist()\n",
    "    educ = X[:,4].int().tolist()\n",
    "    \n",
    "    y_hat = params_hat[\"gammas\"][5][:, np.newaxis]+ params_hat[\"gammas\"][6][:, np.newaxis]* np.stack([states_x[:,0][state],states_x[:,0][state],states_x[:,0][state]])+ params_hat[\"gammas\"][states_x[:,1][state].int().tolist()].T +params_hat[\"alpha_educ\"][educ].T+ params_hat[\"alpha_eth\"][eth].T + params_hat[\"alpha_age\"][age].T + params_hat[\"alpha_male_eth\"][male, eth].T + params_hat[\"alpha_educ_age\"][educ, age].T + params_hat[\"alpha_educ_eth\"][educ, eth].T +params_hat[\"beta_male\"][:, np.newaxis]*np.stack([male_t,male_t,male_t])\n",
    "    y_hat = softmax(torch.from_numpy(y_hat.T), dim= 1).numpy()\n",
    "    y_true = y.numpy()\n",
    "    print(\"predictions:\", np.argmax(y_hat,1))\n",
    "    print(\"true values:\", y_true)\n",
    "\n",
    "    # evaluate prediction accuracy\n",
    "    print(\"Accuracy:\", 1.0*np.sum(np.argmax(y_hat,1) == y_true) / len(y_true))"
   ]
  },
  {
   "cell_type": "code",
   "execution_count": 105,
   "metadata": {},
   "outputs": [
    {
     "name": "stdout",
     "output_type": "stream",
     "text": [
      "predictions: [0 0 0 ... 1 1 0]\n",
      "true values: [1. 1. 1. ... 1. 1. 1.]\n",
      "Accuracy: 0.45747707343195665\n"
     ]
    }
   ],
   "source": [
    "#guide_cat = saved_model_dict['guide']\n",
    "#pyro.get_param_store().load(\"mymodelparams.pt\")\n",
    "samples, params_samples = sample_params(guide_cat, X,states_x, y_cat,model_3, num = 500)\n",
    "compute_cat_accuracy(samples,X,y_cat,states_x)"
   ]
  },
  {
   "cell_type": "markdown",
   "metadata": {},
   "source": [
    "#### The ratio of the 3 \"party\" classes"
   ]
  },
  {
   "cell_type": "code",
   "execution_count": 106,
   "metadata": {},
   "outputs": [
    {
     "name": "stdout",
     "output_type": "stream",
     "text": [
      "0.35740344065867863\n",
      "0.37517571457259524\n",
      "0.26742084476872613\n"
     ]
    }
   ],
   "source": [
    "for i in range(3):\n",
    "    print(len(y_cat[y_cat==i])/len(y_cat))"
   ]
  },
  {
   "cell_type": "markdown",
   "metadata": {},
   "source": [
    "## EXTENDING THE POSTSTRATIFICATION TABLE"
   ]
  },
  {
   "cell_type": "markdown",
   "metadata": {},
   "source": [
    "Now that we are able to predict the \"party\" we extend the poststratification table with this variable and calculate the new number of people belonging to each group."
   ]
  },
  {
   "cell_type": "code",
   "execution_count": 107,
   "metadata": {},
   "outputs": [
    {
     "data": {
      "text/html": [
       "<div>\n",
       "<style scoped>\n",
       "    .dataframe tbody tr th:only-of-type {\n",
       "        vertical-align: middle;\n",
       "    }\n",
       "\n",
       "    .dataframe tbody tr th {\n",
       "        vertical-align: top;\n",
       "    }\n",
       "\n",
       "    .dataframe thead th {\n",
       "        text-align: right;\n",
       "    }\n",
       "</style>\n",
       "<table border=\"1\" class=\"dataframe\">\n",
       "  <thead>\n",
       "    <tr style=\"text-align: right;\">\n",
       "      <th></th>\n",
       "      <th>index</th>\n",
       "      <th>state</th>\n",
       "      <th>eth</th>\n",
       "      <th>male</th>\n",
       "      <th>age</th>\n",
       "      <th>educ</th>\n",
       "      <th>n</th>\n",
       "      <th>rep_sup</th>\n",
       "      <th>region</th>\n",
       "      <th>state_cat</th>\n",
       "      <th>eth_cat</th>\n",
       "      <th>male_cat</th>\n",
       "      <th>age_cat</th>\n",
       "      <th>educ_cat</th>\n",
       "      <th>region_cat</th>\n",
       "      <th>party</th>\n",
       "      <th>new_n</th>\n",
       "    </tr>\n",
       "  </thead>\n",
       "  <tbody>\n",
       "    <tr>\n",
       "      <th>0</th>\n",
       "      <td>0</td>\n",
       "      <td>AL</td>\n",
       "      <td>White</td>\n",
       "      <td>-0.5</td>\n",
       "      <td>18-29</td>\n",
       "      <td>No HS</td>\n",
       "      <td>23948</td>\n",
       "      <td>0.62</td>\n",
       "      <td>southeast</td>\n",
       "      <td>1</td>\n",
       "      <td>3</td>\n",
       "      <td>0</td>\n",
       "      <td>0</td>\n",
       "      <td>2</td>\n",
       "      <td>2</td>\n",
       "      <td>0</td>\n",
       "      <td>-1</td>\n",
       "    </tr>\n",
       "    <tr>\n",
       "      <th>1</th>\n",
       "      <td>1</td>\n",
       "      <td>AL</td>\n",
       "      <td>White</td>\n",
       "      <td>-0.5</td>\n",
       "      <td>18-29</td>\n",
       "      <td>HS</td>\n",
       "      <td>59378</td>\n",
       "      <td>0.62</td>\n",
       "      <td>southeast</td>\n",
       "      <td>1</td>\n",
       "      <td>3</td>\n",
       "      <td>0</td>\n",
       "      <td>0</td>\n",
       "      <td>1</td>\n",
       "      <td>2</td>\n",
       "      <td>0</td>\n",
       "      <td>-1</td>\n",
       "    </tr>\n",
       "    <tr>\n",
       "      <th>2</th>\n",
       "      <td>2</td>\n",
       "      <td>AL</td>\n",
       "      <td>White</td>\n",
       "      <td>-0.5</td>\n",
       "      <td>18-29</td>\n",
       "      <td>Some college</td>\n",
       "      <td>104855</td>\n",
       "      <td>0.62</td>\n",
       "      <td>southeast</td>\n",
       "      <td>1</td>\n",
       "      <td>3</td>\n",
       "      <td>0</td>\n",
       "      <td>0</td>\n",
       "      <td>4</td>\n",
       "      <td>2</td>\n",
       "      <td>0</td>\n",
       "      <td>-1</td>\n",
       "    </tr>\n",
       "    <tr>\n",
       "      <th>3</th>\n",
       "      <td>3</td>\n",
       "      <td>AL</td>\n",
       "      <td>White</td>\n",
       "      <td>-0.5</td>\n",
       "      <td>18-29</td>\n",
       "      <td>4-Year College</td>\n",
       "      <td>37066</td>\n",
       "      <td>0.62</td>\n",
       "      <td>southeast</td>\n",
       "      <td>1</td>\n",
       "      <td>3</td>\n",
       "      <td>0</td>\n",
       "      <td>0</td>\n",
       "      <td>0</td>\n",
       "      <td>2</td>\n",
       "      <td>0</td>\n",
       "      <td>-1</td>\n",
       "    </tr>\n",
       "    <tr>\n",
       "      <th>4</th>\n",
       "      <td>4</td>\n",
       "      <td>AL</td>\n",
       "      <td>White</td>\n",
       "      <td>-0.5</td>\n",
       "      <td>18-29</td>\n",
       "      <td>Post-grad</td>\n",
       "      <td>9378</td>\n",
       "      <td>0.62</td>\n",
       "      <td>southeast</td>\n",
       "      <td>1</td>\n",
       "      <td>3</td>\n",
       "      <td>0</td>\n",
       "      <td>0</td>\n",
       "      <td>3</td>\n",
       "      <td>2</td>\n",
       "      <td>0</td>\n",
       "      <td>-1</td>\n",
       "    </tr>\n",
       "  </tbody>\n",
       "</table>\n",
       "</div>"
      ],
      "text/plain": [
       "   index state    eth  male    age            educ       n  rep_sup  \\\n",
       "0      0    AL  White  -0.5  18-29           No HS   23948     0.62   \n",
       "1      1    AL  White  -0.5  18-29              HS   59378     0.62   \n",
       "2      2    AL  White  -0.5  18-29    Some college  104855     0.62   \n",
       "3      3    AL  White  -0.5  18-29  4-Year College   37066     0.62   \n",
       "4      4    AL  White  -0.5  18-29       Post-grad    9378     0.62   \n",
       "\n",
       "      region  state_cat  eth_cat  male_cat  age_cat  educ_cat  region_cat  \\\n",
       "0  southeast          1        3         0        0         2           2   \n",
       "1  southeast          1        3         0        0         1           2   \n",
       "2  southeast          1        3         0        0         4           2   \n",
       "3  southeast          1        3         0        0         0           2   \n",
       "4  southeast          1        3         0        0         3           2   \n",
       "\n",
       "   party  new_n  \n",
       "0      0     -1  \n",
       "1      0     -1  \n",
       "2      0     -1  \n",
       "3      0     -1  \n",
       "4      0     -1  "
      ]
     },
     "execution_count": 107,
     "metadata": {},
     "output_type": "execute_result"
    }
   ],
   "source": [
    "a = post_n.copy()\n",
    "b = post_n.copy()\n",
    "c = post_n.copy()\n",
    "a[\"party\"] = 0\n",
    "b[\"party\"] = 1\n",
    "c[\"party\"] = 2\n",
    "\n",
    "frames = [a,b,c]\n",
    "post_n = pd.concat(frames)\n",
    "post_n = post_n.reset_index()\n",
    "post_n[\"new_n\"] = -1\n",
    "post_n.head()"
   ]
  },
  {
   "cell_type": "markdown",
   "metadata": {},
   "source": [
    "We also want to propagate the uncertainty of the prediction of the \"party\" and therefore we create 500 poststratification tables. (500 is the number of samples that we receive for each prediciton)"
   ]
  },
  {
   "cell_type": "code",
   "execution_count": 108,
   "metadata": {},
   "outputs": [],
   "source": [
    "post_n_tables = []\n",
    "for i in range(500):\n",
    "    post_n_tables.append(post_n.copy())"
   ]
  },
  {
   "cell_type": "code",
   "execution_count": 109,
   "metadata": {},
   "outputs": [],
   "source": [
    "def extend_non_census_var(samples, post, states_x):\n",
    "    params =[\"alpha_educ\", \"alpha_eth\", \"alpha_age\", \"gammas\", \"beta_male\", \"alpha_educ_age\", \"alpha_educ_eth\", \"alpha_male_eth\"]\n",
    "    params_samples = {}\n",
    "    for param in params:\n",
    "        params_samples[param] = torch.from_numpy(samples[param])\n",
    "    \n",
    "    gammas = params_samples[\"gammas\"]\n",
    "    alpha_educ = params_samples[\"alpha_educ\"]\n",
    "    alpha_eth = params_samples[\"alpha_eth\"]\n",
    "    alpha_age = params_samples[\"alpha_age\"]\n",
    "    alpha_educ_age = params_samples[\"alpha_educ_age\"]\n",
    "    alpha_educ_eth = params_samples[\"alpha_educ_eth\"]\n",
    "    alpha_male_eth = params_samples[\"alpha_male_eth\"]\n",
    "    beta_male = params_samples[\"beta_male\"]\n",
    "    \n",
    "    theta = 0\n",
    "    for ind in post[0].index:\n",
    "        update_progress(ind / len(post[0].index))\n",
    "        state_i = post[0][\"state_cat\"][ind]\n",
    "        eth_i = post[0][\"eth_cat\"][ind]\n",
    "        age_i = post[0][\"age_cat\"][ind]\n",
    "        educ_i = post[0][\"educ_cat\"][ind]\n",
    "        male_i = post[0][\"male_cat\"][ind]\n",
    "        \n",
    "        theta_sub = gammas[:,5] + gammas[:,6]* states_x[:,0][state_i] + gammas[:,states_x[:,1][state_i].long(),:]+ alpha_educ[:,educ_i] + alpha_eth[:,eth_i] + alpha_age[:,age_i] + alpha_male_eth[:,male_i, eth_i] + alpha_educ_age[:,educ_i,age_i] + alpha_educ_eth[:,educ_i, eth_i] + beta_male*male_i\n",
    "\n",
    "        theta_sub = softmax(theta_sub.T, dim= 0)\n",
    "        n = post[0][\"n\"][ind]\n",
    "        party = post[0][\"party\"][ind]\n",
    "        for i in range(len(post)):\n",
    "            post[i][\"new_n\"][ind] = n*theta_sub[party][i]\n",
    "    update_progress(1)  \n",
    "    return theta, post\n",
    "#theta, post_mod = extend_non_census_var(params_samples, post_n_tables, states_x)"
   ]
  },
  {
   "cell_type": "code",
   "execution_count": 110,
   "metadata": {},
   "outputs": [],
   "source": [
    "#new_ns = np.array([post.new_n.values for post in post_mod], dtype = np.int32)"
   ]
  },
  {
   "cell_type": "code",
   "execution_count": 111,
   "metadata": {},
   "outputs": [],
   "source": [
    "#np.save(\"n_for_500_post_tables\",new_ns)"
   ]
  },
  {
   "cell_type": "code",
   "execution_count": 112,
   "metadata": {},
   "outputs": [],
   "source": [
    "new_ns = np.load(\"n_for_500_post_tables.npy\")"
   ]
  },
  {
   "cell_type": "code",
   "execution_count": 113,
   "metadata": {},
   "outputs": [],
   "source": [
    "for n, p in zip(new_ns, post_n_tables):\n",
    "    p.new_n = n"
   ]
  },
  {
   "cell_type": "markdown",
   "metadata": {},
   "source": [
    "# Non-census MRP with partisanship as a predictor"
   ]
  },
  {
   "cell_type": "code",
   "execution_count": 114,
   "metadata": {},
   "outputs": [],
   "source": [
    "def model_non_census(X, states_x, obs=None):\n",
    "    \n",
    "    sigmas = pyro.sample(\"sigmas\", dist.HalfCauchy(torch.ones(8)*5.))\n",
    "    gammas = pyro.sample(\"gammas\", dist.Normal(torch.zeros(7), 5.0))\n",
    "    alpha_educ = pyro.sample(\"alpha_educ\", dist.Normal(torch.zeros(5), sigmas[0]))\n",
    "    alpha_eth = pyro.sample(\"alpha_eth\", dist.Normal(torch.zeros(4), sigmas[1]))\n",
    "    alpha_age = pyro.sample(\"alpha_age\", dist.Normal(torch.zeros(6), sigmas[2]))\n",
    "    alpha_male_eth = pyro.sample(\"alpha_male_eth\", dist.Normal(torch.zeros((2,4)), sigmas[3]))\n",
    "    alpha_educ_age = pyro.sample(\"alpha_educ_age\", dist.Normal(torch.zeros((5,6)), sigmas[4]))\n",
    "    alpha_educ_eth = pyro.sample(\"alpha_educ_eth\", dist.Normal(torch.zeros((5,4)), sigmas[5]))\n",
    "    \n",
    "\n",
    "    alpha_party = pyro.sample(\"alpha_party\", dist.Normal(torch.zeros(3), sigmas[6]))\n",
    "\n",
    "    \n",
    "    beta_male = pyro.sample(\"beta_male\", dist.Normal(0.,5.))\n",
    "    with pyro.plate(\"data\", size=len(X), subsample_size=1000) as ind:\n",
    "        state = X[ind,0].tolist()\n",
    "        eth = X[ind,1].tolist()\n",
    "        male = X[ind,2].tolist()\n",
    "        male_t = X[ind,2]\n",
    "        age = X[ind,3].tolist()\n",
    "        educ = X[ind,4].tolist()\n",
    "        party = X[ind,5].tolist()\n",
    "        y = pyro.sample(\"y\",dist.Bernoulli(torch.sigmoid(alpha_party[party] + gammas[5] + gammas[6]* states_x[:,0][state] + gammas[states_x[:,1][state].tolist()]+ alpha_educ[educ] + alpha_eth[eth] + alpha_age[age] + alpha_male_eth[male, eth] + alpha_educ_age[educ,age] + alpha_educ_eth[educ, eth] + beta_male*male_t)), obs= obs[ind])\n",
    "    return y"
   ]
  },
  {
   "cell_type": "markdown",
   "metadata": {},
   "source": [
    "The non-census data is still the same non-representative sample only with the \"party\" feature"
   ]
  },
  {
   "cell_type": "code",
   "execution_count": 115,
   "metadata": {},
   "outputs": [
    {
     "name": "stdout",
     "output_type": "stream",
     "text": [
      "torch.Size([5000, 6])\n",
      "torch.Size([50, 2])\n",
      "tensor([1., 0., 1.,  ..., 0., 1., 1.])\n"
     ]
    }
   ],
   "source": [
    "mat_non_census = non_rep_sample.iloc[:,[9,10,11,12,13,14]].values\n",
    "X_non_census = mat_non_census\n",
    "X_non_census = torch.tensor(X_non_census).float()\n",
    "\n",
    "y_non_census = non_rep_sample.iloc[:,0].values\n",
    "y_non_census = torch.tensor(y_non_census).float()\n",
    "print(X_non_census.shape)\n",
    "print(states_x.shape)\n",
    "print(y_non_census)"
   ]
  },
  {
   "cell_type": "code",
   "execution_count": 116,
   "metadata": {},
   "outputs": [
    {
     "name": "stdout",
     "output_type": "stream",
     "text": [
      "[0] ELBO: 8377.7\n",
      "[500] ELBO: 3091.8\n",
      "[1000] ELBO: 3022.8\n",
      "[1500] ELBO: 3002.6\n",
      "[2000] ELBO: 2972.2\n",
      "[2500] ELBO: 2934.6\n",
      "[3000] ELBO: 2970.7\n",
      "[3500] ELBO: 3019.5\n",
      "[4000] ELBO: 2981.7\n",
      "[4500] ELBO: 2940.8\n",
      "[5000] ELBO: 2959.2\n",
      "[5500] ELBO: 2914.3\n"
     ]
    }
   ],
   "source": [
    "guide_non_census = train_SVI(X_non_census,y_non_census,states_x,model_non_census)"
   ]
  },
  {
   "cell_type": "code",
   "execution_count": 117,
   "metadata": {
    "scrolled": false
   },
   "outputs": [
    {
     "name": "stdout",
     "output_type": "stream",
     "text": [
      "predictions: [1. 0. 0. ... 1. 1. 0.]\n",
      "true values: [1. 0. 1. ... 0. 1. 1.]\n",
      "Accuracy: 0.7028\n"
     ]
    }
   ],
   "source": [
    "from pyro.infer import Predictive\n",
    "def sample_params_non_census(guide,X,states_x, y, model, num = 2000):\n",
    "    predictive = Predictive(model, guide=guide, num_samples=num,\n",
    "                            return_sites=(\"alpha_educ\", \"alpha_eth\", \"alpha_age\", \"beta_male\", \"alpha_educ_age\", \"alpha_educ_eth\", \"alpha_male_eth\", \"gammas\", \"y\", \"alpha_party\"))\n",
    "    samples = predictive(X,states_x, y)\n",
    "    params =[\"alpha_educ\", \"alpha_eth\", \"alpha_age\", \"gammas\", \"beta_male\", \"alpha_educ_age\", \"alpha_educ_eth\", \"alpha_male_eth\", \"alpha_party\"]\n",
    "    params_samples = {}\n",
    "    for param in params:\n",
    "        params_samples[param] = samples[param].detach().numpy()\n",
    "    return samples, params_samples\n",
    "\n",
    "# make predictions for the train set\n",
    "def sigmoid_n(x):\n",
    "    x = x.numpy()\n",
    "    return 1 / (1 + np.exp(-x))\n",
    "def compute_accuracy_non_census(samples,X,y,states_x):\n",
    "    params_hat = {}\n",
    "    params =[\"alpha_educ\", \"alpha_eth\", \"alpha_age\", \"gammas\", \"beta_male\", \"alpha_educ_age\", \"alpha_educ_eth\", \"alpha_male_eth\",\"alpha_party\"]\n",
    "    # extract expected values of the parameters\n",
    "    for param in params:\n",
    "        params_hat[param] = samples[param].mean(axis=0).detach().numpy()\n",
    "    state = X[:,0].int().tolist()\n",
    "    eth = X[:,1].int().tolist()\n",
    "    male = X[:,2].int().tolist()\n",
    "    male_t = X[:,2].numpy()\n",
    "    age = X[:,3].int().tolist()\n",
    "    educ = X[:,4].int().tolist()\n",
    "    party = X[:,5].int().tolist()\n",
    "    y_hat = np.round(sigmoid_n(torch.from_numpy(params_hat[\"alpha_party\"][party]) + params_hat[\"gammas\"][5]+ params_hat[\"gammas\"][6]* states_x[:,0][state]+ params_hat[\"gammas\"][states_x[:,1][state].int().tolist()] +params_hat[\"alpha_educ\"][educ]+ params_hat[\"alpha_eth\"][eth] + params_hat[\"alpha_age\"][age] + params_hat[\"alpha_male_eth\"][male, eth] + params_hat[\"alpha_educ_age\"][educ, age] + params_hat[\"alpha_educ_eth\"][educ, eth] +params_hat[\"beta_male\"]*male_t))\n",
    "    y_true = y.numpy()\n",
    "    print(\"predictions:\", y_hat)\n",
    "    print(\"true values:\", y_true)\n",
    "\n",
    "    # evaluate prediction accuracy\n",
    "    print(\"Accuracy:\", 1.0*np.sum(y_hat == y_true) / len(y_true))\n",
    "    \n",
    "samples_non_census, params_samples_non_census = sample_params_non_census(guide_non_census, X_non_census,states_x, y_non_census,model_non_census, 500)\n",
    "compute_accuracy_non_census(samples_non_census,X_non_census,y_non_census,states_x)"
   ]
  },
  {
   "cell_type": "code",
   "execution_count": 118,
   "metadata": {},
   "outputs": [
    {
     "name": "stdout",
     "output_type": "stream",
     "text": [
      "Progress: [####################] 99.9%\n"
     ]
    },
    {
     "name": "stderr",
     "output_type": "stream",
     "text": [
      "IOPub message rate exceeded.\n",
      "The notebook server will temporarily stop sending output\n",
      "to the client in order to avoid crashing it.\n",
      "To change this limit, set the config variable\n",
      "`--NotebookApp.iopub_msg_rate_limit`.\n",
      "\n",
      "Current values:\n",
      "NotebookApp.iopub_msg_rate_limit=1000.0 (msgs/sec)\n",
      "NotebookApp.rate_limit_window=3.0 (secs)\n",
      "\n"
     ]
    }
   ],
   "source": [
    "def sigmoid(x):\n",
    "    return 1 / (1 + np.exp(-x))\n",
    "def poststritify_non_census_var_2(samples, post, states_x):\n",
    "    params =[\"alpha_educ\", \"alpha_eth\", \"alpha_age\", \"gammas\", \"beta_male\", \"alpha_educ_age\", \"alpha_educ_eth\", \"alpha_male_eth\", \"alpha_party\"]\n",
    "    params_samples = {}\n",
    "    for param in params:\n",
    "        params_samples[param] = torch.from_numpy(samples[param])\n",
    "    \n",
    "    gammas = params_samples[\"gammas\"]\n",
    "    alpha_educ = params_samples[\"alpha_educ\"]\n",
    "    alpha_eth = params_samples[\"alpha_eth\"]\n",
    "    alpha_age = params_samples[\"alpha_age\"]\n",
    "    alpha_educ_age = params_samples[\"alpha_educ_age\"]\n",
    "    alpha_educ_eth = params_samples[\"alpha_educ_eth\"]\n",
    "    alpha_male_eth = params_samples[\"alpha_male_eth\"]\n",
    "    beta_male = params_samples[\"beta_male\"]\n",
    "    alpha_party = params_samples[\"alpha_party\"]\n",
    "    \n",
    "    theta = np.zeros((36000,500))\n",
    "    \"\"\"\n",
    "    for state_i in range(50):\n",
    "        for eth_i, eth in enumerate(params_samples[\"alpha_eth\"].T):\n",
    "            for age_i, age in enumerate(params_samples[\"alpha_age\"].T):\n",
    "                for educ_i, educ in enumerate(params_samples[\"alpha_educ\"].T):\n",
    "                    for male_i in [0,1]:\n",
    "    \"\"\"\n",
    "    for ind in post[0].index:\n",
    "        update_progress(ind / len(post[0].index))\n",
    "        state_i = post[0][\"state_cat\"][ind]\n",
    "        eth_i = post[0][\"eth_cat\"][ind]\n",
    "        age_i = post[0][\"age_cat\"][ind]\n",
    "        educ_i = post[0][\"educ_cat\"][ind]\n",
    "        male_i = post[0][\"male_cat\"][ind]\n",
    "        party_i = post[0][\"party\"][ind]\n",
    "        theta_sub = alpha_party[:,party_i] + gammas[:,5] + gammas[:,6]* states_x[:,0][state_i] + gammas[:,states_x[:,1][state_i].long()]+ alpha_educ[:,educ_i] + alpha_eth[:,eth_i] + alpha_age[:,age_i] + alpha_male_eth[:,male_i, eth_i] + alpha_educ_age[:,educ_i,age_i] + alpha_educ_eth[:,educ_i, eth_i] + beta_male.squeeze()*male_i\n",
    "        theta[ind] = sigmoid(theta_sub)\n",
    "    update_progress(1)\n",
    "    result = np.zeros((500,36000))\n",
    "    i = 0\n",
    "    for samp in theta.T:\n",
    "        rand_table = post[np.random.choice(500)].new_n\n",
    "        result[i] = samp*rand_table\n",
    "        i += 1\n",
    "        \n",
    "    return result.sum(axis=1)/post[0][\"new_n\"].sum()\n",
    "theta = poststritify_non_census_var_2(params_samples_non_census, post_n_tables, states_x)"
   ]
  },
  {
   "cell_type": "code",
   "execution_count": 119,
   "metadata": {},
   "outputs": [
    {
     "data": {
      "image/png": "[encoded data removed]",
      "text/plain": [
       "<Figure size 864x576 with 1 Axes>"
      ]
     },
     "metadata": {
      "needs_background": "light"
     },
     "output_type": "display_data"
    }
   ],
   "source": [
    "plt.hist(theta);"
   ]
  },
  {
   "cell_type": "code",
   "execution_count": 120,
   "metadata": {},
   "outputs": [
    {
     "name": "stdout",
     "output_type": "stream",
     "text": [
      "Survey biased sample mean support:  0.3724\n",
      "Survey  biased sample support std:  0.006836932645565554\n",
      "Size of the Survey biased sample:   5000\n",
      "\n",
      "MRP mean support estimate from the biased sample:  0.39484843485505405\n",
      "MRP std:  0.01848572562948352\n",
      "Population size:  228443347\n",
      "\n",
      "Non census MRP mean support estimate from the biased sample:  0.4459480129494711\n",
      "Non census MRP std:  0.01815355725550841\n",
      "Population size:  228443347\n",
      "\n",
      "Survey mean support:  0.4341581675305133\n",
      "Survey support std:  0.002026677347449802\n",
      "Size of the Survey:   59810\n",
      "\n"
     ]
    }
   ],
   "source": [
    "print(\"Survey biased sample mean support: \", non_rep_sample.abortion.sum()/len(non_rep_sample.abortion))\n",
    "print(\"Survey  biased sample support std: \", math.sqrt(non_rep_sample.abortion.mean()*(1-non_rep_sample.abortion.mean())/len(non_rep_sample.abortion)))\n",
    "print(\"Size of the Survey biased sample:  \", len(non_rep_sample.abortion))\n",
    "print(\"\")\n",
    "print(\"MRP mean support estimate from the biased sample: \", theta_non_rep.mean())\n",
    "print(\"MRP std: \", theta_non_rep.std())\n",
    "print(\"Population size: \", post[\"n\"].sum())\n",
    "print(\"\")\n",
    "print(\"Non census MRP mean support estimate from the biased sample: \", theta.mean())\n",
    "print(\"Non census MRP std: \", theta.std())\n",
    "print(\"Population size: \", post[\"n\"].sum())\n",
    "print(\"\")\n",
    "print(\"Survey mean support: \", y.numpy().sum()/len(y.numpy()))\n",
    "print(\"Survey support std: \", math.sqrt(y.numpy().mean()*(1-y.numpy().mean())/len(y.numpy())))\n",
    "print(\"Size of the Survey:  \", len(y.numpy()))\n",
    "print(\"\")"
   ]
  },
  {
   "cell_type": "markdown",
   "metadata": {},
   "source": [
    "We see that when including the non-census variable, the MRP is able to correct for the bias in the survey and the prediction for the population is much closer to the whole 60 000 survey (which as we showed earlier should be a good estimate of the population opinion as this survey is well balanced)."
   ]
  }
 ],
 "metadata": {
  "accelerator": "GPU",
  "colab": {
   "name": "model.ipynb",
   "provenance": []
  },
  "kernelspec": {
   "display_name": "Python 3",
   "language": "python",
   "name": "python3"
  },
  "language_info": {
   "codemirror_mode": {
    "name": "ipython",
    "version": 3
   },
   "file_extension": ".py",
   "mimetype": "text/x-python",
   "name": "python",
   "nbconvert_exporter": "python",
   "pygments_lexer": "ipython3",
   "version": "3.7.6"
  }
 },
 "nbformat": 4,
 "nbformat_minor": 1
}
