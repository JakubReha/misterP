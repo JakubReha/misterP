{
 "cells": [
  {
   "cell_type": "code",
   "execution_count": 46,
   "metadata": {
    "colab": {
     "base_uri": "https://localhost:8080/"
    },
    "id": "6YhI2BwI8-8l",
    "outputId": "cef7b9c8-dd76-41d8-e7c5-36d1f692699d"
   },
   "outputs": [],
   "source": [
    "#!pip install pyro-ppl==1.5.2\n",
    "import pandas as pd\n",
    "import numpy as np\n",
    "from matplotlib import pyplot as plt\n",
    "from sklearn import linear_model\n",
    "import seaborn as sns\n",
    "import torch\n",
    "\n",
    "import pyro\n",
    "import pyro.distributions as dist\n",
    "from pyro.contrib.autoguide import AutoDiagonalNormal, AutoMultivariateNormal\n",
    "from pyro.infer import MCMC, NUTS, HMC, SVI, Trace_ELBO\n",
    "from pyro.optim import Adam, ClippedAdam\n",
    "\n",
    "# fix random generator seed (for reproducibility of results)\n",
    "np.random.seed(42)\n",
    "torch.random.manual_seed(42)\n",
    "pyro.set_rng_seed(42)\n",
    "# matplotlib style options\n",
    "plt.style.use('ggplot')\n",
    "%matplotlib inline\n",
    "plt.rcParams['figure.figsize'] = (12, 8)"
   ]
  },
  {
   "cell_type": "code",
   "execution_count": 47,
   "metadata": {
    "colab": {
     "base_uri": "https://localhost:8080/",
     "height": 204
    },
    "id": "VzxonHlJ8-8o",
    "outputId": "80593f46-3471-4751-a6ba-f661311aa009"
   },
   "outputs": [
    {
     "data": {
      "text/html": [
       "<div>\n",
       "<style scoped>\n",
       "    .dataframe tbody tr th:only-of-type {\n",
       "        vertical-align: middle;\n",
       "    }\n",
       "\n",
       "    .dataframe tbody tr th {\n",
       "        vertical-align: top;\n",
       "    }\n",
       "\n",
       "    .dataframe thead th {\n",
       "        text-align: right;\n",
       "    }\n",
       "</style>\n",
       "<table border=\"1\" class=\"dataframe\">\n",
       "  <thead>\n",
       "    <tr style=\"text-align: right;\">\n",
       "      <th></th>\n",
       "      <th>states</th>\n",
       "      <th>rep_sup</th>\n",
       "      <th>region</th>\n",
       "    </tr>\n",
       "  </thead>\n",
       "  <tbody>\n",
       "    <tr>\n",
       "      <th>45</th>\n",
       "      <td>VT</td>\n",
       "      <td>0.30</td>\n",
       "      <td>northeast</td>\n",
       "    </tr>\n",
       "    <tr>\n",
       "      <th>46</th>\n",
       "      <td>WA</td>\n",
       "      <td>0.36</td>\n",
       "      <td>west</td>\n",
       "    </tr>\n",
       "    <tr>\n",
       "      <th>47</th>\n",
       "      <td>WI</td>\n",
       "      <td>0.47</td>\n",
       "      <td>midwest</td>\n",
       "    </tr>\n",
       "    <tr>\n",
       "      <th>48</th>\n",
       "      <td>WV</td>\n",
       "      <td>0.68</td>\n",
       "      <td>southeast</td>\n",
       "    </tr>\n",
       "    <tr>\n",
       "      <th>49</th>\n",
       "      <td>WY</td>\n",
       "      <td>0.67</td>\n",
       "      <td>west</td>\n",
       "    </tr>\n",
       "  </tbody>\n",
       "</table>\n",
       "</div>"
      ],
      "text/plain": [
       "   states  rep_sup     region\n",
       "45     VT     0.30  northeast\n",
       "46     WA     0.36       west\n",
       "47     WI     0.47    midwest\n",
       "48     WV     0.68  southeast\n",
       "49     WY     0.67       west"
      ]
     },
     "execution_count": 47,
     "metadata": {},
     "output_type": "execute_result"
    }
   ],
   "source": [
    "df = pd.read_csv(\"Data/cces_all_clean.csv\")\n",
    "states = pd.read_excel(\"Data/states.xlsx\")\n",
    "df.head()\n",
    "states = states.rename(columns={'republican support percentage':\"rep_sup\"})\n",
    "states.tail()"
   ]
  },
  {
   "cell_type": "code",
   "execution_count": null,
   "metadata": {
    "colab": {
     "base_uri": "https://localhost:8080/"
    },
    "id": "3_Q05tH38-8o",
    "outputId": "66fa4e4c-6079-406c-f3a5-f76468d0b69a"
   },
   "outputs": [],
   "source": [
    "\n"
   ]
  },
  {
   "cell_type": "code",
   "execution_count": 48,
   "metadata": {
    "id": "-vWWJoFX8-8p"
   },
   "outputs": [
    {
     "data": {
      "text/html": [
       "<div>\n",
       "<style scoped>\n",
       "    .dataframe tbody tr th:only-of-type {\n",
       "        vertical-align: middle;\n",
       "    }\n",
       "\n",
       "    .dataframe tbody tr th {\n",
       "        vertical-align: top;\n",
       "    }\n",
       "\n",
       "    .dataframe thead th {\n",
       "        text-align: right;\n",
       "    }\n",
       "</style>\n",
       "<table border=\"1\" class=\"dataframe\">\n",
       "  <thead>\n",
       "    <tr style=\"text-align: right;\">\n",
       "      <th></th>\n",
       "      <th>abortion</th>\n",
       "      <th>state</th>\n",
       "      <th>eth</th>\n",
       "      <th>male</th>\n",
       "      <th>age</th>\n",
       "      <th>educ</th>\n",
       "      <th>state_cat</th>\n",
       "      <th>eth_cat</th>\n",
       "      <th>male_cat</th>\n",
       "      <th>age_cat</th>\n",
       "      <th>educ_cat</th>\n",
       "    </tr>\n",
       "  </thead>\n",
       "  <tbody>\n",
       "    <tr>\n",
       "      <th>0</th>\n",
       "      <td>1</td>\n",
       "      <td>MD</td>\n",
       "      <td>Other</td>\n",
       "      <td>-0.5</td>\n",
       "      <td>50-59</td>\n",
       "      <td>Some college</td>\n",
       "      <td>19</td>\n",
       "      <td>2</td>\n",
       "      <td>0</td>\n",
       "      <td>3</td>\n",
       "      <td>4</td>\n",
       "    </tr>\n",
       "    <tr>\n",
       "      <th>1</th>\n",
       "      <td>1</td>\n",
       "      <td>TN</td>\n",
       "      <td>White</td>\n",
       "      <td>-0.5</td>\n",
       "      <td>40-49</td>\n",
       "      <td>HS</td>\n",
       "      <td>41</td>\n",
       "      <td>3</td>\n",
       "      <td>0</td>\n",
       "      <td>2</td>\n",
       "      <td>1</td>\n",
       "    </tr>\n",
       "    <tr>\n",
       "      <th>2</th>\n",
       "      <td>1</td>\n",
       "      <td>OH</td>\n",
       "      <td>White</td>\n",
       "      <td>-0.5</td>\n",
       "      <td>60-69</td>\n",
       "      <td>Some college</td>\n",
       "      <td>34</td>\n",
       "      <td>3</td>\n",
       "      <td>0</td>\n",
       "      <td>4</td>\n",
       "      <td>4</td>\n",
       "    </tr>\n",
       "    <tr>\n",
       "      <th>3</th>\n",
       "      <td>0</td>\n",
       "      <td>CA</td>\n",
       "      <td>Other</td>\n",
       "      <td>-0.5</td>\n",
       "      <td>70+</td>\n",
       "      <td>Post-grad</td>\n",
       "      <td>4</td>\n",
       "      <td>2</td>\n",
       "      <td>0</td>\n",
       "      <td>5</td>\n",
       "      <td>3</td>\n",
       "    </tr>\n",
       "    <tr>\n",
       "      <th>4</th>\n",
       "      <td>1</td>\n",
       "      <td>KY</td>\n",
       "      <td>White</td>\n",
       "      <td>-0.5</td>\n",
       "      <td>40-49</td>\n",
       "      <td>HS</td>\n",
       "      <td>16</td>\n",
       "      <td>3</td>\n",
       "      <td>0</td>\n",
       "      <td>2</td>\n",
       "      <td>1</td>\n",
       "    </tr>\n",
       "    <tr>\n",
       "      <th>...</th>\n",
       "      <td>...</td>\n",
       "      <td>...</td>\n",
       "      <td>...</td>\n",
       "      <td>...</td>\n",
       "      <td>...</td>\n",
       "      <td>...</td>\n",
       "      <td>...</td>\n",
       "      <td>...</td>\n",
       "      <td>...</td>\n",
       "      <td>...</td>\n",
       "      <td>...</td>\n",
       "    </tr>\n",
       "    <tr>\n",
       "      <th>59805</th>\n",
       "      <td>0</td>\n",
       "      <td>ME</td>\n",
       "      <td>White</td>\n",
       "      <td>-0.5</td>\n",
       "      <td>18-29</td>\n",
       "      <td>Some college</td>\n",
       "      <td>20</td>\n",
       "      <td>3</td>\n",
       "      <td>0</td>\n",
       "      <td>0</td>\n",
       "      <td>4</td>\n",
       "    </tr>\n",
       "    <tr>\n",
       "      <th>59806</th>\n",
       "      <td>1</td>\n",
       "      <td>MN</td>\n",
       "      <td>White</td>\n",
       "      <td>0.5</td>\n",
       "      <td>30-39</td>\n",
       "      <td>4-Year College</td>\n",
       "      <td>22</td>\n",
       "      <td>3</td>\n",
       "      <td>1</td>\n",
       "      <td>1</td>\n",
       "      <td>0</td>\n",
       "    </tr>\n",
       "    <tr>\n",
       "      <th>59807</th>\n",
       "      <td>0</td>\n",
       "      <td>IN</td>\n",
       "      <td>White</td>\n",
       "      <td>-0.5</td>\n",
       "      <td>18-29</td>\n",
       "      <td>Some college</td>\n",
       "      <td>14</td>\n",
       "      <td>3</td>\n",
       "      <td>0</td>\n",
       "      <td>0</td>\n",
       "      <td>4</td>\n",
       "    </tr>\n",
       "    <tr>\n",
       "      <th>59808</th>\n",
       "      <td>0</td>\n",
       "      <td>CO</td>\n",
       "      <td>White</td>\n",
       "      <td>-0.5</td>\n",
       "      <td>30-39</td>\n",
       "      <td>HS</td>\n",
       "      <td>5</td>\n",
       "      <td>3</td>\n",
       "      <td>0</td>\n",
       "      <td>1</td>\n",
       "      <td>1</td>\n",
       "    </tr>\n",
       "    <tr>\n",
       "      <th>59809</th>\n",
       "      <td>0</td>\n",
       "      <td>GA</td>\n",
       "      <td>Other</td>\n",
       "      <td>0.5</td>\n",
       "      <td>30-39</td>\n",
       "      <td>Some college</td>\n",
       "      <td>9</td>\n",
       "      <td>2</td>\n",
       "      <td>1</td>\n",
       "      <td>1</td>\n",
       "      <td>4</td>\n",
       "    </tr>\n",
       "  </tbody>\n",
       "</table>\n",
       "<p>59810 rows × 11 columns</p>\n",
       "</div>"
      ],
      "text/plain": [
       "       abortion state    eth  male    age            educ  state_cat  eth_cat  \\\n",
       "0             1    MD  Other  -0.5  50-59    Some college         19        2   \n",
       "1             1    TN  White  -0.5  40-49              HS         41        3   \n",
       "2             1    OH  White  -0.5  60-69    Some college         34        3   \n",
       "3             0    CA  Other  -0.5    70+       Post-grad          4        2   \n",
       "4             1    KY  White  -0.5  40-49              HS         16        3   \n",
       "...         ...   ...    ...   ...    ...             ...        ...      ...   \n",
       "59805         0    ME  White  -0.5  18-29    Some college         20        3   \n",
       "59806         1    MN  White   0.5  30-39  4-Year College         22        3   \n",
       "59807         0    IN  White  -0.5  18-29    Some college         14        3   \n",
       "59808         0    CO  White  -0.5  30-39              HS          5        3   \n",
       "59809         0    GA  Other   0.5  30-39    Some college          9        2   \n",
       "\n",
       "       male_cat  age_cat  educ_cat  \n",
       "0             0        3         4  \n",
       "1             0        2         1  \n",
       "2             0        4         4  \n",
       "3             0        5         3  \n",
       "4             0        2         1  \n",
       "...         ...      ...       ...  \n",
       "59805         0        0         4  \n",
       "59806         1        1         0  \n",
       "59807         0        0         4  \n",
       "59808         0        1         1  \n",
       "59809         1        1         4  \n",
       "\n",
       "[59810 rows x 11 columns]"
      ]
     },
     "execution_count": 48,
     "metadata": {},
     "output_type": "execute_result"
    }
   ],
   "source": [
    "categories = [\"state\", \"eth\", \"male\", \"age\", \"educ\"]\n",
    "for category in categories:\n",
    "    df[category+\"_cat\"] = df[category].astype('category').cat.codes\n",
    "states[\"region\"] = states[\"region\"].astype('category').cat.codes\n",
    "df"
   ]
  },
  {
   "cell_type": "code",
   "execution_count": 49,
   "metadata": {
    "colab": {
     "base_uri": "https://localhost:8080/"
    },
    "id": "9_LbLlIy8-8p",
    "outputId": "5718330c-8adb-4b76-af44-ced52e1ed02a"
   },
   "outputs": [
    {
     "data": {
      "text/html": [
       "<div>\n",
       "<style scoped>\n",
       "    .dataframe tbody tr th:only-of-type {\n",
       "        vertical-align: middle;\n",
       "    }\n",
       "\n",
       "    .dataframe tbody tr th {\n",
       "        vertical-align: top;\n",
       "    }\n",
       "\n",
       "    .dataframe thead th {\n",
       "        text-align: right;\n",
       "    }\n",
       "</style>\n",
       "<table border=\"1\" class=\"dataframe\">\n",
       "  <thead>\n",
       "    <tr style=\"text-align: right;\">\n",
       "      <th></th>\n",
       "      <th>states</th>\n",
       "      <th>rep_sup</th>\n",
       "      <th>region</th>\n",
       "    </tr>\n",
       "  </thead>\n",
       "  <tbody>\n",
       "    <tr>\n",
       "      <th>0</th>\n",
       "      <td>AK</td>\n",
       "      <td>0.51</td>\n",
       "      <td>4</td>\n",
       "    </tr>\n",
       "    <tr>\n",
       "      <th>1</th>\n",
       "      <td>AL</td>\n",
       "      <td>0.62</td>\n",
       "      <td>2</td>\n",
       "    </tr>\n",
       "    <tr>\n",
       "      <th>2</th>\n",
       "      <td>AR</td>\n",
       "      <td>0.60</td>\n",
       "      <td>2</td>\n",
       "    </tr>\n",
       "    <tr>\n",
       "      <th>3</th>\n",
       "      <td>AZ</td>\n",
       "      <td>0.48</td>\n",
       "      <td>3</td>\n",
       "    </tr>\n",
       "    <tr>\n",
       "      <th>4</th>\n",
       "      <td>CA</td>\n",
       "      <td>0.31</td>\n",
       "      <td>4</td>\n",
       "    </tr>\n",
       "    <tr>\n",
       "      <th>5</th>\n",
       "      <td>CO</td>\n",
       "      <td>0.43</td>\n",
       "      <td>4</td>\n",
       "    </tr>\n",
       "    <tr>\n",
       "      <th>6</th>\n",
       "      <td>CT</td>\n",
       "      <td>0.40</td>\n",
       "      <td>1</td>\n",
       "    </tr>\n",
       "    <tr>\n",
       "      <th>7</th>\n",
       "      <td>DE</td>\n",
       "      <td>0.41</td>\n",
       "      <td>2</td>\n",
       "    </tr>\n",
       "    <tr>\n",
       "      <th>8</th>\n",
       "      <td>FL</td>\n",
       "      <td>0.49</td>\n",
       "      <td>2</td>\n",
       "    </tr>\n",
       "    <tr>\n",
       "      <th>9</th>\n",
       "      <td>GA</td>\n",
       "      <td>0.50</td>\n",
       "      <td>2</td>\n",
       "    </tr>\n",
       "    <tr>\n",
       "      <th>10</th>\n",
       "      <td>HI</td>\n",
       "      <td>0.30</td>\n",
       "      <td>4</td>\n",
       "    </tr>\n",
       "    <tr>\n",
       "      <th>11</th>\n",
       "      <td>IA</td>\n",
       "      <td>0.51</td>\n",
       "      <td>0</td>\n",
       "    </tr>\n",
       "    <tr>\n",
       "      <th>12</th>\n",
       "      <td>ID</td>\n",
       "      <td>0.59</td>\n",
       "      <td>4</td>\n",
       "    </tr>\n",
       "    <tr>\n",
       "      <th>13</th>\n",
       "      <td>IL</td>\n",
       "      <td>0.38</td>\n",
       "      <td>0</td>\n",
       "    </tr>\n",
       "    <tr>\n",
       "      <th>14</th>\n",
       "      <td>IN</td>\n",
       "      <td>0.56</td>\n",
       "      <td>0</td>\n",
       "    </tr>\n",
       "    <tr>\n",
       "      <th>15</th>\n",
       "      <td>KS</td>\n",
       "      <td>0.56</td>\n",
       "      <td>0</td>\n",
       "    </tr>\n",
       "    <tr>\n",
       "      <th>16</th>\n",
       "      <td>KY</td>\n",
       "      <td>0.62</td>\n",
       "      <td>2</td>\n",
       "    </tr>\n",
       "    <tr>\n",
       "      <th>17</th>\n",
       "      <td>LA</td>\n",
       "      <td>0.58</td>\n",
       "      <td>2</td>\n",
       "    </tr>\n",
       "    <tr>\n",
       "      <th>18</th>\n",
       "      <td>MA</td>\n",
       "      <td>0.32</td>\n",
       "      <td>1</td>\n",
       "    </tr>\n",
       "    <tr>\n",
       "      <th>19</th>\n",
       "      <td>MD</td>\n",
       "      <td>0.33</td>\n",
       "      <td>1</td>\n",
       "    </tr>\n",
       "    <tr>\n",
       "      <th>20</th>\n",
       "      <td>ME</td>\n",
       "      <td>0.44</td>\n",
       "      <td>1</td>\n",
       "    </tr>\n",
       "    <tr>\n",
       "      <th>21</th>\n",
       "      <td>MI</td>\n",
       "      <td>0.47</td>\n",
       "      <td>0</td>\n",
       "    </tr>\n",
       "    <tr>\n",
       "      <th>22</th>\n",
       "      <td>MN</td>\n",
       "      <td>0.44</td>\n",
       "      <td>0</td>\n",
       "    </tr>\n",
       "    <tr>\n",
       "      <th>23</th>\n",
       "      <td>MO</td>\n",
       "      <td>0.56</td>\n",
       "      <td>0</td>\n",
       "    </tr>\n",
       "    <tr>\n",
       "      <th>24</th>\n",
       "      <td>MS</td>\n",
       "      <td>0.57</td>\n",
       "      <td>2</td>\n",
       "    </tr>\n",
       "    <tr>\n",
       "      <th>25</th>\n",
       "      <td>MT</td>\n",
       "      <td>0.56</td>\n",
       "      <td>4</td>\n",
       "    </tr>\n",
       "    <tr>\n",
       "      <th>26</th>\n",
       "      <td>NC</td>\n",
       "      <td>0.49</td>\n",
       "      <td>2</td>\n",
       "    </tr>\n",
       "    <tr>\n",
       "      <th>27</th>\n",
       "      <td>ND</td>\n",
       "      <td>0.62</td>\n",
       "      <td>0</td>\n",
       "    </tr>\n",
       "    <tr>\n",
       "      <th>28</th>\n",
       "      <td>NE</td>\n",
       "      <td>0.58</td>\n",
       "      <td>0</td>\n",
       "    </tr>\n",
       "    <tr>\n",
       "      <th>29</th>\n",
       "      <td>NH</td>\n",
       "      <td>0.46</td>\n",
       "      <td>1</td>\n",
       "    </tr>\n",
       "    <tr>\n",
       "      <th>30</th>\n",
       "      <td>NJ</td>\n",
       "      <td>0.41</td>\n",
       "      <td>1</td>\n",
       "    </tr>\n",
       "    <tr>\n",
       "      <th>31</th>\n",
       "      <td>NM</td>\n",
       "      <td>0.40</td>\n",
       "      <td>3</td>\n",
       "    </tr>\n",
       "    <tr>\n",
       "      <th>32</th>\n",
       "      <td>NV</td>\n",
       "      <td>0.45</td>\n",
       "      <td>4</td>\n",
       "    </tr>\n",
       "    <tr>\n",
       "      <th>33</th>\n",
       "      <td>NY</td>\n",
       "      <td>0.36</td>\n",
       "      <td>1</td>\n",
       "    </tr>\n",
       "    <tr>\n",
       "      <th>34</th>\n",
       "      <td>OH</td>\n",
       "      <td>0.51</td>\n",
       "      <td>0</td>\n",
       "    </tr>\n",
       "    <tr>\n",
       "      <th>35</th>\n",
       "      <td>OK</td>\n",
       "      <td>0.65</td>\n",
       "      <td>3</td>\n",
       "    </tr>\n",
       "    <tr>\n",
       "      <th>36</th>\n",
       "      <td>OR</td>\n",
       "      <td>0.39</td>\n",
       "      <td>4</td>\n",
       "    </tr>\n",
       "    <tr>\n",
       "      <th>37</th>\n",
       "      <td>PA</td>\n",
       "      <td>0.48</td>\n",
       "      <td>1</td>\n",
       "    </tr>\n",
       "    <tr>\n",
       "      <th>38</th>\n",
       "      <td>RI</td>\n",
       "      <td>0.38</td>\n",
       "      <td>1</td>\n",
       "    </tr>\n",
       "    <tr>\n",
       "      <th>39</th>\n",
       "      <td>SC</td>\n",
       "      <td>0.54</td>\n",
       "      <td>2</td>\n",
       "    </tr>\n",
       "    <tr>\n",
       "      <th>40</th>\n",
       "      <td>SD</td>\n",
       "      <td>0.61</td>\n",
       "      <td>0</td>\n",
       "    </tr>\n",
       "    <tr>\n",
       "      <th>41</th>\n",
       "      <td>TN</td>\n",
       "      <td>0.60</td>\n",
       "      <td>2</td>\n",
       "    </tr>\n",
       "    <tr>\n",
       "      <th>42</th>\n",
       "      <td>TX</td>\n",
       "      <td>0.52</td>\n",
       "      <td>3</td>\n",
       "    </tr>\n",
       "    <tr>\n",
       "      <th>43</th>\n",
       "      <td>UT</td>\n",
       "      <td>0.45</td>\n",
       "      <td>4</td>\n",
       "    </tr>\n",
       "    <tr>\n",
       "      <th>44</th>\n",
       "      <td>VA</td>\n",
       "      <td>0.44</td>\n",
       "      <td>2</td>\n",
       "    </tr>\n",
       "    <tr>\n",
       "      <th>45</th>\n",
       "      <td>VT</td>\n",
       "      <td>0.30</td>\n",
       "      <td>1</td>\n",
       "    </tr>\n",
       "    <tr>\n",
       "      <th>46</th>\n",
       "      <td>WA</td>\n",
       "      <td>0.36</td>\n",
       "      <td>4</td>\n",
       "    </tr>\n",
       "    <tr>\n",
       "      <th>47</th>\n",
       "      <td>WI</td>\n",
       "      <td>0.47</td>\n",
       "      <td>0</td>\n",
       "    </tr>\n",
       "    <tr>\n",
       "      <th>48</th>\n",
       "      <td>WV</td>\n",
       "      <td>0.68</td>\n",
       "      <td>2</td>\n",
       "    </tr>\n",
       "    <tr>\n",
       "      <th>49</th>\n",
       "      <td>WY</td>\n",
       "      <td>0.67</td>\n",
       "      <td>4</td>\n",
       "    </tr>\n",
       "  </tbody>\n",
       "</table>\n",
       "</div>"
      ],
      "text/plain": [
       "   states  rep_sup  region\n",
       "0      AK     0.51       4\n",
       "1      AL     0.62       2\n",
       "2      AR     0.60       2\n",
       "3      AZ     0.48       3\n",
       "4      CA     0.31       4\n",
       "5      CO     0.43       4\n",
       "6      CT     0.40       1\n",
       "7      DE     0.41       2\n",
       "8      FL     0.49       2\n",
       "9      GA     0.50       2\n",
       "10     HI     0.30       4\n",
       "11     IA     0.51       0\n",
       "12     ID     0.59       4\n",
       "13     IL     0.38       0\n",
       "14     IN     0.56       0\n",
       "15     KS     0.56       0\n",
       "16     KY     0.62       2\n",
       "17     LA     0.58       2\n",
       "18     MA     0.32       1\n",
       "19     MD     0.33       1\n",
       "20     ME     0.44       1\n",
       "21     MI     0.47       0\n",
       "22     MN     0.44       0\n",
       "23     MO     0.56       0\n",
       "24     MS     0.57       2\n",
       "25     MT     0.56       4\n",
       "26     NC     0.49       2\n",
       "27     ND     0.62       0\n",
       "28     NE     0.58       0\n",
       "29     NH     0.46       1\n",
       "30     NJ     0.41       1\n",
       "31     NM     0.40       3\n",
       "32     NV     0.45       4\n",
       "33     NY     0.36       1\n",
       "34     OH     0.51       0\n",
       "35     OK     0.65       3\n",
       "36     OR     0.39       4\n",
       "37     PA     0.48       1\n",
       "38     RI     0.38       1\n",
       "39     SC     0.54       2\n",
       "40     SD     0.61       0\n",
       "41     TN     0.60       2\n",
       "42     TX     0.52       3\n",
       "43     UT     0.45       4\n",
       "44     VA     0.44       2\n",
       "45     VT     0.30       1\n",
       "46     WA     0.36       4\n",
       "47     WI     0.47       0\n",
       "48     WV     0.68       2\n",
       "49     WY     0.67       4"
      ]
     },
     "execution_count": 49,
     "metadata": {},
     "output_type": "execute_result"
    }
   ],
   "source": [
    "states"
   ]
  },
  {
   "cell_type": "code",
   "execution_count": null,
   "metadata": {
    "colab": {
     "base_uri": "https://localhost:8080/"
    },
    "id": "WXcd91VO8-8q",
    "outputId": "919be48b-b500-4071-b363-d8de69c04e85"
   },
   "outputs": [],
   "source": []
  },
  {
   "cell_type": "code",
   "execution_count": 50,
   "metadata": {},
   "outputs": [],
   "source": [
    "states_x = states.iloc[:,1:].values\n",
    "states_x = torch.tensor(states_x).float()"
   ]
  },
  {
   "cell_type": "code",
   "execution_count": 51,
   "metadata": {
    "colab": {
     "base_uri": "https://localhost:8080/"
    },
    "id": "Wxm1oCeb8-8r",
    "outputId": "734f04d9-1e88-4171-b8b1-c096afb2d360"
   },
   "outputs": [
    {
     "name": "stdout",
     "output_type": "stream",
     "text": [
      "torch.Size([59810, 5])\n",
      "torch.Size([50, 2])\n",
      "tensor([1., 1., 1.,  ..., 0., 0., 0.])\n"
     ]
    }
   ],
   "source": [
    "mat = df.iloc[:,6:].values\n",
    "X = mat\n",
    "X = torch.tensor(X).float()\n",
    "y = df.iloc[:,0].values\n",
    "y = torch.tensor(y).float()\n",
    "print(X.shape)\n",
    "print(states_x.shape)\n",
    "print(y)"
   ]
  },
  {
   "cell_type": "code",
   "execution_count": 52,
   "metadata": {
    "id": "YJ0RJSDq8-8s"
   },
   "outputs": [],
   "source": [
    "from torch import sigmoid\n",
    "def model(X, states_x, obs=None):\n",
    "    \n",
    "    sigmas = pyro.sample(\"sigmas\", dist.HalfCauchy(torch.ones(8)*5.))\n",
    "    gammas = pyro.sample(\"gammas\", dist.Normal(torch.zeros(7), 5.0))\n",
    "    alpha_educ = pyro.sample(\"alpha_educ\", dist.Normal(torch.zeros(5), sigmas[0]))\n",
    "    alpha_eth = pyro.sample(\"alpha_eth\", dist.Normal(torch.zeros(4), sigmas[1]))\n",
    "    alpha_age = pyro.sample(\"alpha_age\", dist.Normal(torch.zeros(6), sigmas[2]))\n",
    "    alpha_male_eth = pyro.sample(\"alpha_male_eth\", dist.Normal(torch.zeros((2,4)), sigmas[3]))\n",
    "    alpha_educ_age = pyro.sample(\"alpha_educ_age\", dist.Normal(torch.zeros((5,6)), sigmas[4]))\n",
    "    alpha_educ_eth = pyro.sample(\"alpha_educ_eth\", dist.Normal(torch.zeros((5,4)), sigmas[5]))\n",
    "    \n",
    "    ####################\n",
    "    #alpha_state = pyro.sample(\"alpha_state\", dist.Normal(torch.zeros(50), sigmas[6]))\n",
    "    ####################\n",
    "    \n",
    "    beta_male = pyro.sample(\"beta_male\", dist.Normal(0.,5.))\n",
    "    with pyro.plate(\"data\", size=len(X), subsample_size=1000) as ind:\n",
    "        state = X[ind,0].tolist()\n",
    "        eth = X[ind,1].tolist()\n",
    "        male = X[ind,2].tolist()\n",
    "        male_t = X[ind,2]\n",
    "        age = X[ind,3].tolist()\n",
    "        educ = X[ind,4].tolist()\n",
    "        y = pyro.sample(\"y\",dist.Bernoulli(sigmoid(gammas[5] + gammas[6]* states_x[:,0][state] + gammas[states_x[:,1][state].tolist()]+ alpha_educ[educ] + alpha_eth[eth] + alpha_age[age] + alpha_male_eth[male, eth] + alpha_educ_age[educ,age] + alpha_educ_eth[educ, eth] + beta_male*male_t)), obs= obs[ind])\n",
    "    return y"
   ]
  },
  {
   "cell_type": "code",
   "execution_count": null,
   "metadata": {},
   "outputs": [],
   "source": []
  },
  {
   "cell_type": "code",
   "execution_count": 53,
   "metadata": {
    "colab": {
     "base_uri": "https://localhost:8080/"
    },
    "id": "hQKKSnkN8-8u",
    "outputId": "8601251a-e01f-4a70-e36b-b4ef692e9185"
   },
   "outputs": [
    {
     "data": {
      "text/plain": [
       "'\\n# Define guide function\\nguide = AutoDiagonalNormal(model)\\n\\n# Reset parameter values\\npyro.clear_param_store()\\n\\n# Define the number of optimization steps\\nn_steps = 6000\\n\\n# Setup the optimizer\\nadam_params = {\"lr\": 0.01}\\noptimizer = ClippedAdam(adam_params)\\n\\n# Setup the inference algorithm\\nelbo = Trace_ELBO(num_particles=3)\\nsvi = SVI(model, guide, optimizer, loss=elbo)\\n\\n# Do gradient steps\\nfor step in range(n_steps):\\n    elbo = svi.step(X,states_x,y)\\n    if step % 500 == 0:\\n        print(\"[%d] ELBO: %.1f\" % (step, elbo))\\n'"
      ]
     },
     "execution_count": 53,
     "metadata": {},
     "output_type": "execute_result"
    }
   ],
   "source": [
    "\"\"\"\n",
    "# Define guide function\n",
    "guide = AutoDiagonalNormal(model)\n",
    "\n",
    "# Reset parameter values\n",
    "pyro.clear_param_store()\n",
    "\n",
    "# Define the number of optimization steps\n",
    "n_steps = 6000\n",
    "\n",
    "# Setup the optimizer\n",
    "adam_params = {\"lr\": 0.01}\n",
    "optimizer = ClippedAdam(adam_params)\n",
    "\n",
    "# Setup the inference algorithm\n",
    "elbo = Trace_ELBO(num_particles=3)\n",
    "svi = SVI(model, guide, optimizer, loss=elbo)\n",
    "\n",
    "# Do gradient steps\n",
    "for step in range(n_steps):\n",
    "    elbo = svi.step(X,states_x,y)\n",
    "    if step % 500 == 0:\n",
    "        print(\"[%d] ELBO: %.1f\" % (step, elbo))\n",
    "\"\"\""
   ]
  },
  {
   "cell_type": "code",
   "execution_count": 54,
   "metadata": {},
   "outputs": [],
   "source": [
    "#torch.save({\"guide\" : guide}, \"mymodel.pt\")\n",
    "#pyro.get_param_store().save(\"mymodelparams.pt\")"
   ]
  },
  {
   "cell_type": "code",
   "execution_count": 55,
   "metadata": {
    "id": "3Blvs4dT8-8v"
   },
   "outputs": [],
   "source": [
    "import numpyro\n",
    "import numpyro.distributions as ndist\n",
    "from numpyro import handlers\n",
    "from numpyro.infer import MCMC, NUTS\n",
    "\n",
    "def model2(X, obs=None):\n",
    "    \n",
    "    sigmas = numpyro.sample(\"sigmas\", ndist.HalfCauchy(5.), sample_shape = (8,))\n",
    "    gammas = numpyro.sample(\"gammas\", ndist.Normal(0., 5.), sample_shape = (7,))\n",
    "    alpha_educ = numpyro.sample(\"alpha_educ\", ndist.Normal(0., sigmas[0]), sample_shape = (5,))\n",
    "    alpha_eth = numpyro.sample(\"alpha_eth\", ndist.Normal(0., sigmas[1]), sample_shape = (4,))\n",
    "    alpha_age = numpyro.sample(\"alpha_age\", ndist.Normal(0., sigmas[2]), sample_shape = (6,))\n",
    "    alpha_male_eth = numpyro.sample(\"alpha_male_eth\", ndist.Normal(0., sigmas[3]), sample_shape = (2,4))\n",
    "    alpha_educ_age = numpyro.sample(\"alpha_educ_age\", ndist.Normal(0., sigmas[4]), sample_shape = (5,6))\n",
    "    alpha_educ_eth = numpyro.sample(\"alpha_educ_eth\", ndist.Normal(0., sigmas[5]), sample_shape = (5,4))\n",
    "    \n",
    "    beta_male = numpyro.sample(\"beta_male\", ndist.Normal(0.,5.))\n",
    "    with numpyro.plate(\"data\", size = len(X)):\n",
    "        state = X[:,0].tolist()\n",
    "        eth = X[:,1].tolist()\n",
    "        male = X[:,2].tolist()\n",
    "        male_t = X[:,2]\n",
    "        age = X[:,3].tolist()\n",
    "        educ = X[:,4].tolist()\n",
    "        y = numpyro.sample(\"y\", ndist.Bernoulli(jax.nn.sigmoid(gammas[5] + gammas[6]* jnp.array(states_x[:,0][state]) + gammas[jnp.array(states_x[:,1][state],dtype = int)]+ alpha_educ[jnp.array(educ, dtype = int)] + alpha_eth[jnp.array(eth, dtype = int)] + alpha_age[jnp.array(age, dtype = int)] + alpha_male_eth[jnp.array(male, dtype = int), jnp.array(eth, dtype = int)] + alpha_educ_age[jnp.array(educ, dtype = int), jnp.array(age, dtype = int)] + alpha_educ_eth[jnp.array(educ, dtype = int), jnp.array(eth, dtype = int)] + beta_male*jnp.array(male_t))), obs= jnp.array(obs))\n",
    "    return y"
   ]
  },
  {
   "cell_type": "code",
   "execution_count": 56,
   "metadata": {
    "colab": {
     "base_uri": "https://localhost:8080/"
    },
    "id": "FkcvEKfA8-8v",
    "outputId": "aa3e5bc7-5cef-492f-9de4-e994882e10ff"
   },
   "outputs": [
    {
     "data": {
      "text/plain": [
       "'\\nimport time\\nimport jax\\nimport jax.numpy as jnp\\nfrom jax import random, vmap\\nfrom jax.scipy.special import logsumexp\\nfrom jax import lax\\nt0 = time.time()\\n\\nrng_key = random.PRNGKey(0)\\nrng_key, rng_key_ = random.split(rng_key)\\n\\nnuts_kernel = NUTS(model=model2, max_tree_depth=8, step_size=5e-3, adapt_step_size=False)\\nmcmc = MCMC(nuts_kernel, num_samples=2000, num_warmup=500, num_chains=1)\\nmcmc.run(rng_key_, X, y)\\n\\nt_fin = time.time()\\n\\nprint(\"Total time: {0:.3f}m\".format((t_fin - t0)/60))\\n'"
      ]
     },
     "execution_count": 56,
     "metadata": {},
     "output_type": "execute_result"
    }
   ],
   "source": [
    "# Run inference in Pyro\n",
    "\"\"\"\n",
    "import time\n",
    "import jax\n",
    "import jax.numpy as jnp\n",
    "from jax import random, vmap\n",
    "from jax.scipy.special import logsumexp\n",
    "from jax import lax\n",
    "t0 = time.time()\n",
    "\n",
    "rng_key = random.PRNGKey(0)\n",
    "rng_key, rng_key_ = random.split(rng_key)\n",
    "\n",
    "nuts_kernel = NUTS(model=model2, max_tree_depth=8, step_size=5e-3, adapt_step_size=False)\n",
    "mcmc = MCMC(nuts_kernel, num_samples=2000, num_warmup=500, num_chains=1)\n",
    "mcmc.run(rng_key_, X, y)\n",
    "\n",
    "t_fin = time.time()\n",
    "\n",
    "print(\"Total time: {0:.3f}m\".format((t_fin - t0)/60))\n",
    "\"\"\""
   ]
  },
  {
   "cell_type": "code",
   "execution_count": 57,
   "metadata": {},
   "outputs": [],
   "source": [
    "#!pip install dill\n",
    "#import dill\n",
    "#with open('mcmc.pkl', 'wb') as f:\n",
    "#    dill.dump(mcmc, f)\n",
    "#jax.numpy.save('mcmc.pkl',mcmc)"
   ]
  },
  {
   "cell_type": "code",
   "execution_count": 58,
   "metadata": {
    "id": "YxdAwCTH8-8v"
   },
   "outputs": [],
   "source": [
    "from pyro.infer import Predictive\n",
    "\n",
    "saved_model_dict = torch.load(\"mymodel.pt\")\n",
    "guide = saved_model_dict['guide']\n",
    "pyro.get_param_store().load(\"mymodelparams.pt\")\n",
    "\n",
    "predictive = Predictive(model, guide=guide, num_samples=2000,\n",
    "                        return_sites=(\"alpha_educ\", \"alpha_eth\", \"alpha_age\", \"beta_male\", \"alpha_educ_age\", \"alpha_educ_eth\", \"alpha_male_eth\", \"gammas\", \"y\",\"data\"))\n",
    "samples = predictive(X,states_x, y)"
   ]
  },
  {
   "cell_type": "code",
   "execution_count": 59,
   "metadata": {},
   "outputs": [
    {
     "name": "stdout",
     "output_type": "stream",
     "text": [
      "dict_keys(['gammas', 'alpha_educ', 'alpha_eth', 'alpha_age', 'alpha_male_eth', 'alpha_educ_age', 'alpha_educ_eth', 'beta_male', 'y'])\n"
     ]
    }
   ],
   "source": [
    "print(samples.keys())"
   ]
  },
  {
   "cell_type": "code",
   "execution_count": 60,
   "metadata": {
    "id": "KL3WW_O58-8w"
   },
   "outputs": [],
   "source": [
    "params =[\"alpha_educ\", \"alpha_eth\", \"alpha_age\", \"gammas\", \"beta_male\", \"alpha_educ_age\", \"alpha_educ_eth\", \"alpha_male_eth\"]\n",
    "params_samples = {}\n",
    "for param in params:\n",
    "    params_samples[param] = samples[param].detach().numpy()"
   ]
  },
  {
   "cell_type": "code",
   "execution_count": 61,
   "metadata": {
    "colab": {
     "base_uri": "https://localhost:8080/",
     "height": 673
    },
    "id": "FapM6AoA8-8w",
    "outputId": "ca1bab72-2984-430a-84ed-619ef45849b8"
   },
   "outputs": [
    {
     "name": "stderr",
     "output_type": "stream",
     "text": [
      "/Users/kuba/anaconda3/lib/python3.7/site-packages/seaborn/distributions.py:2557: FutureWarning:\n",
      "\n",
      "`distplot` is a deprecated function and will be removed in a future version. Please adapt your code to use either `displot` (a figure-level function with similar flexibility) or `histplot` (an axes-level function for histograms).\n",
      "\n",
      "/Users/kuba/anaconda3/lib/python3.7/site-packages/seaborn/distributions.py:2557: FutureWarning:\n",
      "\n",
      "`distplot` is a deprecated function and will be removed in a future version. Please adapt your code to use either `displot` (a figure-level function with similar flexibility) or `histplot` (an axes-level function for histograms).\n",
      "\n",
      "/Users/kuba/anaconda3/lib/python3.7/site-packages/seaborn/distributions.py:2557: FutureWarning:\n",
      "\n",
      "`distplot` is a deprecated function and will be removed in a future version. Please adapt your code to use either `displot` (a figure-level function with similar flexibility) or `histplot` (an axes-level function for histograms).\n",
      "\n",
      "/Users/kuba/anaconda3/lib/python3.7/site-packages/seaborn/distributions.py:2557: FutureWarning:\n",
      "\n",
      "`distplot` is a deprecated function and will be removed in a future version. Please adapt your code to use either `displot` (a figure-level function with similar flexibility) or `histplot` (an axes-level function for histograms).\n",
      "\n",
      "/Users/kuba/anaconda3/lib/python3.7/site-packages/seaborn/distributions.py:2557: FutureWarning:\n",
      "\n",
      "`distplot` is a deprecated function and will be removed in a future version. Please adapt your code to use either `displot` (a figure-level function with similar flexibility) or `histplot` (an axes-level function for histograms).\n",
      "\n"
     ]
    },
    {
     "data": {
      "image/png": "[encoded data removed]",
      "text/plain": [
       "<Figure size 864x576 with 1 Axes>"
      ]
     },
     "metadata": {
      "needs_background": "light"
     },
     "output_type": "display_data"
    }
   ],
   "source": [
    "n_cat = 5\n",
    "for c in range(n_cat):\n",
    "    sns.distplot(params_samples[\"alpha_educ\"][:,c])\n",
    "plt.legend([\"alpha_educ[%d]\" % c for c in range(n_cat)])\n",
    "plt.show()"
   ]
  },
  {
   "cell_type": "code",
   "execution_count": 62,
   "metadata": {
    "colab": {
     "base_uri": "https://localhost:8080/",
     "height": 1000
    },
    "id": "9NtTg1zf8-8w",
    "outputId": "c4164969-20cf-4e46-c999-1ae297a086de"
   },
   "outputs": [],
   "source": [
    "#n_cat = 50\n",
    "#for c in range(n_cat):\n",
    "#    sns.distplot(params_samples[\"alpha_state\"][:,c])\n",
    "#plt.legend([\"alpha_state[%d]\" % c for c in range(n_cat)])\n",
    "#plt.show()"
   ]
  },
  {
   "cell_type": "code",
   "execution_count": 63,
   "metadata": {
    "colab": {
     "base_uri": "https://localhost:8080/",
     "height": 537
    },
    "id": "GB1_rY0I3C35",
    "outputId": "b8870c46-7950-4c85-e894-ea6409d998dc"
   },
   "outputs": [
    {
     "name": "stderr",
     "output_type": "stream",
     "text": [
      "/Users/kuba/anaconda3/lib/python3.7/site-packages/seaborn/distributions.py:2557: FutureWarning:\n",
      "\n",
      "`distplot` is a deprecated function and will be removed in a future version. Please adapt your code to use either `displot` (a figure-level function with similar flexibility) or `histplot` (an axes-level function for histograms).\n",
      "\n"
     ]
    },
    {
     "data": {
      "image/png": "[encoded data removed]",
      "text/plain": [
       "<Figure size 864x576 with 1 Axes>"
      ]
     },
     "metadata": {
      "needs_background": "light"
     },
     "output_type": "display_data"
    }
   ],
   "source": [
    "n_cat = 1\n",
    "for c in range(n_cat):\n",
    "    sns.distplot(params_samples[\"beta_male\"][:,c])\n",
    "plt.legend([\"beta_male[%d]\" % c for c in range(n_cat)])\n",
    "plt.show()"
   ]
  },
  {
   "cell_type": "code",
   "execution_count": 64,
   "metadata": {
    "id": "Vt1qfOGx-D2v"
   },
   "outputs": [],
   "source": [
    "# extract expected values of the parameters\n",
    "params_hat = {}\n",
    "for param in params:\n",
    "    params_hat[param] = samples[param].mean(axis=0).detach().numpy()\n",
    "#params_hat"
   ]
  },
  {
   "cell_type": "code",
   "execution_count": 65,
   "metadata": {
    "colab": {
     "base_uri": "https://localhost:8080/"
    },
    "id": "gP2XdUmd-rsH",
    "outputId": "3accc2de-360b-4b03-94d3-3156d71d43aa"
   },
   "outputs": [
    {
     "name": "stdout",
     "output_type": "stream",
     "text": [
      "predictions: [0. 1. 0. ... 0. 0. 0.]\n",
      "true values: [1. 1. 1. ... 0. 0. 0.]\n",
      "Accuracy: 0.5971075071058352\n"
     ]
    }
   ],
   "source": [
    "# make predictions for the train set\n",
    "def sigmoid_n(x):\n",
    "    x = x.numpy()\n",
    "    return 1 / (1 + np.exp(-x))\n",
    "state = X[:,0].int().tolist()\n",
    "eth = X[:,1].int().tolist()\n",
    "male = X[:,2].int().tolist()\n",
    "male_t = X[:,2].numpy()\n",
    "age = X[:,3].int().tolist()\n",
    "educ = X[:,4].int().tolist()\n",
    "y_hat = np.round(sigmoid_n(params_hat[\"gammas\"][5]+ params_hat[\"gammas\"][6]* states_x[:,0][state]+ params_hat[\"gammas\"][states_x[:,1][state].int().tolist()] +params_hat[\"alpha_educ\"][educ]+ params_hat[\"alpha_eth\"][eth] + params_hat[\"alpha_age\"][age] + params_hat[\"alpha_male_eth\"][male, eth] + params_hat[\"alpha_educ_age\"][educ, age] + params_hat[\"alpha_educ_eth\"][educ, eth] +params_hat[\"beta_male\"]*male_t))\n",
    "y_true = y.numpy()\n",
    "print(\"predictions:\", y_hat)\n",
    "print(\"true values:\", y_true)\n",
    "\n",
    "# evaluate prediction accuracy\n",
    "print(\"Accuracy:\", 1.0*np.sum(y_hat == y_true) / len(y_true))"
   ]
  },
  {
   "cell_type": "markdown",
   "metadata": {},
   "source": [
    "# MCMC Results"
   ]
  },
  {
   "cell_type": "code",
   "execution_count": 66,
   "metadata": {},
   "outputs": [],
   "source": [
    "#hmc_samples = {k: v for k, v in mcmc.get_samples().items()}\n",
    "#params_hat_2 = {}\n",
    "#for param in params:\n",
    "#    params_hat_2[param] = np.asarray(hmc_samples[param].mean(axis=0))"
   ]
  },
  {
   "cell_type": "code",
   "execution_count": 67,
   "metadata": {},
   "outputs": [
    {
     "data": {
      "text/plain": [
       "'\\nstate = X[:,0].int().tolist()\\neth = X[:,1].int().tolist()\\nmale = X[:,2].int().tolist()\\nmale_t = X[:,2].numpy()\\nage = X[:,3].int().tolist()\\neduc = X[:,4].int().tolist()\\ny_hat = np.round(sigmoid_n(params_hat_2[\"gammas\"][5]+ params_hat_2[\"gammas\"][6]* states_x[:,0][state]+ params_hat_2[\"gammas\"][states_x[:,1][state].int().tolist()] +params_hat_2[\"alpha_educ\"][educ]+ params_hat_2[\"alpha_eth\"][eth] + params_hat_2[\"alpha_age\"][age] + params_hat_2[\"alpha_male_eth\"][male, eth] + params_hat_2[\"alpha_educ_age\"][educ, age] + params_hat_2[\"alpha_educ_eth\"][educ, eth] +params_hat_2[\"beta_male\"]*male_t))\\ny_true = y.numpy()\\ny_hat = y_hat.numpy()\\nprint(\"predictions:\", y_hat)\\nprint(\"true values:\", y_true)\\n\\n# evaluate prediction accuracy\\nprint(\"Accuracy:\", 1.0*np.sum(y_hat == y_true) / len(y_true))\\n'"
      ]
     },
     "execution_count": 67,
     "metadata": {},
     "output_type": "execute_result"
    }
   ],
   "source": [
    "\"\"\"\n",
    "state = X[:,0].int().tolist()\n",
    "eth = X[:,1].int().tolist()\n",
    "male = X[:,2].int().tolist()\n",
    "male_t = X[:,2].numpy()\n",
    "age = X[:,3].int().tolist()\n",
    "educ = X[:,4].int().tolist()\n",
    "y_hat = np.round(sigmoid_n(params_hat_2[\"gammas\"][5]+ params_hat_2[\"gammas\"][6]* states_x[:,0][state]+ params_hat_2[\"gammas\"][states_x[:,1][state].int().tolist()] +params_hat_2[\"alpha_educ\"][educ]+ params_hat_2[\"alpha_eth\"][eth] + params_hat_2[\"alpha_age\"][age] + params_hat_2[\"alpha_male_eth\"][male, eth] + params_hat_2[\"alpha_educ_age\"][educ, age] + params_hat_2[\"alpha_educ_eth\"][educ, eth] +params_hat_2[\"beta_male\"]*male_t))\n",
    "y_true = y.numpy()\n",
    "y_hat = y_hat.numpy()\n",
    "print(\"predictions:\", y_hat)\n",
    "print(\"true values:\", y_true)\n",
    "\n",
    "# evaluate prediction accuracy\n",
    "print(\"Accuracy:\", 1.0*np.sum(y_hat == y_true) / len(y_true))\n",
    "\"\"\""
   ]
  },
  {
   "cell_type": "markdown",
   "metadata": {},
   "source": [
    "# Guessing zeros everywhere: (Baseline)"
   ]
  },
  {
   "cell_type": "code",
   "execution_count": 68,
   "metadata": {},
   "outputs": [
    {
     "data": {
      "text/plain": [
       "0.5658418324694867"
      ]
     },
     "execution_count": 68,
     "metadata": {},
     "output_type": "execute_result"
    }
   ],
   "source": [
    "np.sum(np.zeros(len(y_true)) == y_true)/len(y_true)"
   ]
  },
  {
   "cell_type": "markdown",
   "metadata": {},
   "source": [
    "# Logistic regression"
   ]
  },
  {
   "cell_type": "code",
   "execution_count": 69,
   "metadata": {},
   "outputs": [
    {
     "data": {
      "text/html": [
       "<div>\n",
       "<style scoped>\n",
       "    .dataframe tbody tr th:only-of-type {\n",
       "        vertical-align: middle;\n",
       "    }\n",
       "\n",
       "    .dataframe tbody tr th {\n",
       "        vertical-align: top;\n",
       "    }\n",
       "\n",
       "    .dataframe thead th {\n",
       "        text-align: right;\n",
       "    }\n",
       "</style>\n",
       "<table border=\"1\" class=\"dataframe\">\n",
       "  <thead>\n",
       "    <tr style=\"text-align: right;\">\n",
       "      <th></th>\n",
       "      <th>abortion</th>\n",
       "      <th>state</th>\n",
       "      <th>eth</th>\n",
       "      <th>male</th>\n",
       "      <th>age</th>\n",
       "      <th>educ</th>\n",
       "      <th>rep_sup</th>\n",
       "      <th>region</th>\n",
       "    </tr>\n",
       "  </thead>\n",
       "  <tbody>\n",
       "    <tr>\n",
       "      <th>0</th>\n",
       "      <td>1</td>\n",
       "      <td>MD</td>\n",
       "      <td>Other</td>\n",
       "      <td>-0.5</td>\n",
       "      <td>50-59</td>\n",
       "      <td>Some college</td>\n",
       "      <td>0.33</td>\n",
       "      <td>northeast</td>\n",
       "    </tr>\n",
       "    <tr>\n",
       "      <th>1</th>\n",
       "      <td>0</td>\n",
       "      <td>MD</td>\n",
       "      <td>White</td>\n",
       "      <td>-0.5</td>\n",
       "      <td>18-29</td>\n",
       "      <td>Some college</td>\n",
       "      <td>0.33</td>\n",
       "      <td>northeast</td>\n",
       "    </tr>\n",
       "    <tr>\n",
       "      <th>2</th>\n",
       "      <td>0</td>\n",
       "      <td>MD</td>\n",
       "      <td>White</td>\n",
       "      <td>0.5</td>\n",
       "      <td>30-39</td>\n",
       "      <td>Post-grad</td>\n",
       "      <td>0.33</td>\n",
       "      <td>northeast</td>\n",
       "    </tr>\n",
       "    <tr>\n",
       "      <th>3</th>\n",
       "      <td>1</td>\n",
       "      <td>MD</td>\n",
       "      <td>Other</td>\n",
       "      <td>-0.5</td>\n",
       "      <td>60-69</td>\n",
       "      <td>Post-grad</td>\n",
       "      <td>0.33</td>\n",
       "      <td>northeast</td>\n",
       "    </tr>\n",
       "    <tr>\n",
       "      <th>4</th>\n",
       "      <td>0</td>\n",
       "      <td>MD</td>\n",
       "      <td>White</td>\n",
       "      <td>0.5</td>\n",
       "      <td>70+</td>\n",
       "      <td>Post-grad</td>\n",
       "      <td>0.33</td>\n",
       "      <td>northeast</td>\n",
       "    </tr>\n",
       "    <tr>\n",
       "      <th>...</th>\n",
       "      <td>...</td>\n",
       "      <td>...</td>\n",
       "      <td>...</td>\n",
       "      <td>...</td>\n",
       "      <td>...</td>\n",
       "      <td>...</td>\n",
       "      <td>...</td>\n",
       "      <td>...</td>\n",
       "    </tr>\n",
       "    <tr>\n",
       "      <th>59805</th>\n",
       "      <td>1</td>\n",
       "      <td>ND</td>\n",
       "      <td>White</td>\n",
       "      <td>-0.5</td>\n",
       "      <td>50-59</td>\n",
       "      <td>HS</td>\n",
       "      <td>0.62</td>\n",
       "      <td>midwest</td>\n",
       "    </tr>\n",
       "    <tr>\n",
       "      <th>59806</th>\n",
       "      <td>1</td>\n",
       "      <td>ND</td>\n",
       "      <td>White</td>\n",
       "      <td>0.5</td>\n",
       "      <td>30-39</td>\n",
       "      <td>4-Year College</td>\n",
       "      <td>0.62</td>\n",
       "      <td>midwest</td>\n",
       "    </tr>\n",
       "    <tr>\n",
       "      <th>59807</th>\n",
       "      <td>0</td>\n",
       "      <td>ND</td>\n",
       "      <td>White</td>\n",
       "      <td>0.5</td>\n",
       "      <td>40-49</td>\n",
       "      <td>Some college</td>\n",
       "      <td>0.62</td>\n",
       "      <td>midwest</td>\n",
       "    </tr>\n",
       "    <tr>\n",
       "      <th>59808</th>\n",
       "      <td>1</td>\n",
       "      <td>ND</td>\n",
       "      <td>White</td>\n",
       "      <td>0.5</td>\n",
       "      <td>30-39</td>\n",
       "      <td>4-Year College</td>\n",
       "      <td>0.62</td>\n",
       "      <td>midwest</td>\n",
       "    </tr>\n",
       "    <tr>\n",
       "      <th>59809</th>\n",
       "      <td>1</td>\n",
       "      <td>ND</td>\n",
       "      <td>White</td>\n",
       "      <td>-0.5</td>\n",
       "      <td>18-29</td>\n",
       "      <td>4-Year College</td>\n",
       "      <td>0.62</td>\n",
       "      <td>midwest</td>\n",
       "    </tr>\n",
       "  </tbody>\n",
       "</table>\n",
       "<p>59810 rows × 8 columns</p>\n",
       "</div>"
      ],
      "text/plain": [
       "       abortion state    eth  male    age            educ  rep_sup     region\n",
       "0             1    MD  Other  -0.5  50-59    Some college     0.33  northeast\n",
       "1             0    MD  White  -0.5  18-29    Some college     0.33  northeast\n",
       "2             0    MD  White   0.5  30-39       Post-grad     0.33  northeast\n",
       "3             1    MD  Other  -0.5  60-69       Post-grad     0.33  northeast\n",
       "4             0    MD  White   0.5    70+       Post-grad     0.33  northeast\n",
       "...         ...   ...    ...   ...    ...             ...      ...        ...\n",
       "59805         1    ND  White  -0.5  50-59              HS     0.62    midwest\n",
       "59806         1    ND  White   0.5  30-39  4-Year College     0.62    midwest\n",
       "59807         0    ND  White   0.5  40-49    Some college     0.62    midwest\n",
       "59808         1    ND  White   0.5  30-39  4-Year College     0.62    midwest\n",
       "59809         1    ND  White  -0.5  18-29  4-Year College     0.62    midwest\n",
       "\n",
       "[59810 rows x 8 columns]"
      ]
     },
     "execution_count": 69,
     "metadata": {},
     "output_type": "execute_result"
    }
   ],
   "source": [
    "from sklearn.linear_model import LogisticRegression\n",
    "from sklearn.svm import SVC\n",
    "df = pd.read_csv(\"Data/cces_all_clean.csv\")\n",
    "states = pd.read_excel(\"Data/states.xlsx\")\n",
    "states = states.rename(columns={'republican support percentage':\"rep_sup\"})\n",
    "df = df.merge(states,left_on = \"state\", right_on = \"states\")\n",
    "df = df.drop(\"states\", axis = 1)\n",
    "df"
   ]
  },
  {
   "cell_type": "code",
   "execution_count": 70,
   "metadata": {},
   "outputs": [
    {
     "name": "stdout",
     "output_type": "stream",
     "text": [
      "num train: 59810\n",
      "predictions: [0 0 0 ... 0 0 0]\n",
      "true values: [0 1 0 ... 1 1 0]\n",
      "Accuracy: 0.6015549239257649\n"
     ]
    },
    {
     "name": "stderr",
     "output_type": "stream",
     "text": [
      "/Users/kuba/anaconda3/lib/python3.7/site-packages/sklearn/linear_model/_logistic.py:940: ConvergenceWarning:\n",
      "\n",
      "lbfgs failed to converge (status=1):\n",
      "STOP: TOTAL NO. of ITERATIONS REACHED LIMIT.\n",
      "\n",
      "Increase the number of iterations (max_iter) or scale the data as shown in:\n",
      "    https://scikit-learn.org/stable/modules/preprocessing.html\n",
      "Please also refer to the documentation for alternative solver options:\n",
      "    https://scikit-learn.org/stable/modules/linear_model.html#logistic-regression\n",
      "\n"
     ]
    }
   ],
   "source": [
    "category_columns = [\"state\", \"eth\", \"male\", \"age\", \"educ\", \"region\"]\n",
    "for col in category_columns:\n",
    "    df[col] = df[col].astype('category')\n",
    "df_regr = pd.get_dummies(df, columns=category_columns, drop_first=True)\n",
    "    \n",
    "train_perc = 1 #0.66 # percentage of training data\n",
    "split_point = int(train_perc*len(y))\n",
    "perm = np.random.permutation(len(y))\n",
    "ix_train = perm[:split_point]\n",
    "#ix_test = perm[split_point:]\n",
    "X_train = df_regr.iloc[:,1:].values[ix_train,:]\n",
    "#X_test = df_regr.iloc[:,1:].values[ix_test,:]\n",
    "y_train = df_regr.iloc[:,0].values[ix_train]\n",
    "#y_test = df_regr.iloc[:,0].values[ix_test]\n",
    "print(\"num train: %d\" % len(y_train))\n",
    "#print(\"num test: %d\" % len(y_test))\n",
    "\n",
    "\n",
    "\n",
    "regr = LogisticRegression()\n",
    "regr.fit(X_train, y_train)\n",
    "y_hat = regr.predict(X_train)\n",
    "\n",
    "\n",
    "print(\"predictions:\", y_hat)\n",
    "print(\"true values:\", y_train)\n",
    "\n",
    "# evaluate prediction accuracy\n",
    "print(\"Accuracy:\", 1.0*np.sum(y_hat == y_train) / len(y_train))\n"
   ]
  },
  {
   "cell_type": "code",
   "execution_count": null,
   "metadata": {},
   "outputs": [],
   "source": []
  },
  {
   "cell_type": "markdown",
   "metadata": {},
   "source": [
    "# POSTSTRATIFICATION"
   ]
  },
  {
   "cell_type": "code",
   "execution_count": 71,
   "metadata": {},
   "outputs": [
    {
     "data": {
      "text/html": [
       "<div>\n",
       "<style scoped>\n",
       "    .dataframe tbody tr th:only-of-type {\n",
       "        vertical-align: middle;\n",
       "    }\n",
       "\n",
       "    .dataframe tbody tr th {\n",
       "        vertical-align: top;\n",
       "    }\n",
       "\n",
       "    .dataframe thead th {\n",
       "        text-align: right;\n",
       "    }\n",
       "</style>\n",
       "<table border=\"1\" class=\"dataframe\">\n",
       "  <thead>\n",
       "    <tr style=\"text-align: right;\">\n",
       "      <th></th>\n",
       "      <th>state</th>\n",
       "      <th>eth</th>\n",
       "      <th>male</th>\n",
       "      <th>age</th>\n",
       "      <th>educ</th>\n",
       "      <th>n</th>\n",
       "      <th>state_cat</th>\n",
       "      <th>eth_cat</th>\n",
       "      <th>male_cat</th>\n",
       "      <th>age_cat</th>\n",
       "      <th>educ_cat</th>\n",
       "    </tr>\n",
       "  </thead>\n",
       "  <tbody>\n",
       "    <tr>\n",
       "      <th>0</th>\n",
       "      <td>AL</td>\n",
       "      <td>White</td>\n",
       "      <td>-0.5</td>\n",
       "      <td>18-29</td>\n",
       "      <td>No HS</td>\n",
       "      <td>23948</td>\n",
       "      <td>1</td>\n",
       "      <td>3</td>\n",
       "      <td>0</td>\n",
       "      <td>0</td>\n",
       "      <td>2</td>\n",
       "    </tr>\n",
       "    <tr>\n",
       "      <th>1</th>\n",
       "      <td>AL</td>\n",
       "      <td>White</td>\n",
       "      <td>-0.5</td>\n",
       "      <td>18-29</td>\n",
       "      <td>HS</td>\n",
       "      <td>59378</td>\n",
       "      <td>1</td>\n",
       "      <td>3</td>\n",
       "      <td>0</td>\n",
       "      <td>0</td>\n",
       "      <td>1</td>\n",
       "    </tr>\n",
       "    <tr>\n",
       "      <th>2</th>\n",
       "      <td>AL</td>\n",
       "      <td>White</td>\n",
       "      <td>-0.5</td>\n",
       "      <td>18-29</td>\n",
       "      <td>Some college</td>\n",
       "      <td>104855</td>\n",
       "      <td>1</td>\n",
       "      <td>3</td>\n",
       "      <td>0</td>\n",
       "      <td>0</td>\n",
       "      <td>4</td>\n",
       "    </tr>\n",
       "    <tr>\n",
       "      <th>3</th>\n",
       "      <td>AL</td>\n",
       "      <td>White</td>\n",
       "      <td>-0.5</td>\n",
       "      <td>18-29</td>\n",
       "      <td>4-Year College</td>\n",
       "      <td>37066</td>\n",
       "      <td>1</td>\n",
       "      <td>3</td>\n",
       "      <td>0</td>\n",
       "      <td>0</td>\n",
       "      <td>0</td>\n",
       "    </tr>\n",
       "    <tr>\n",
       "      <th>4</th>\n",
       "      <td>AL</td>\n",
       "      <td>White</td>\n",
       "      <td>-0.5</td>\n",
       "      <td>18-29</td>\n",
       "      <td>Post-grad</td>\n",
       "      <td>9378</td>\n",
       "      <td>1</td>\n",
       "      <td>3</td>\n",
       "      <td>0</td>\n",
       "      <td>0</td>\n",
       "      <td>3</td>\n",
       "    </tr>\n",
       "    <tr>\n",
       "      <th>...</th>\n",
       "      <td>...</td>\n",
       "      <td>...</td>\n",
       "      <td>...</td>\n",
       "      <td>...</td>\n",
       "      <td>...</td>\n",
       "      <td>...</td>\n",
       "      <td>...</td>\n",
       "      <td>...</td>\n",
       "      <td>...</td>\n",
       "      <td>...</td>\n",
       "      <td>...</td>\n",
       "    </tr>\n",
       "    <tr>\n",
       "      <th>11995</th>\n",
       "      <td>WY</td>\n",
       "      <td>Hispanic</td>\n",
       "      <td>0.5</td>\n",
       "      <td>70+</td>\n",
       "      <td>No HS</td>\n",
       "      <td>293</td>\n",
       "      <td>49</td>\n",
       "      <td>1</td>\n",
       "      <td>1</td>\n",
       "      <td>5</td>\n",
       "      <td>2</td>\n",
       "    </tr>\n",
       "    <tr>\n",
       "      <th>11996</th>\n",
       "      <td>WY</td>\n",
       "      <td>Hispanic</td>\n",
       "      <td>0.5</td>\n",
       "      <td>70+</td>\n",
       "      <td>HS</td>\n",
       "      <td>284</td>\n",
       "      <td>49</td>\n",
       "      <td>1</td>\n",
       "      <td>1</td>\n",
       "      <td>5</td>\n",
       "      <td>1</td>\n",
       "    </tr>\n",
       "    <tr>\n",
       "      <th>11997</th>\n",
       "      <td>WY</td>\n",
       "      <td>Hispanic</td>\n",
       "      <td>0.5</td>\n",
       "      <td>70+</td>\n",
       "      <td>Some college</td>\n",
       "      <td>191</td>\n",
       "      <td>49</td>\n",
       "      <td>1</td>\n",
       "      <td>1</td>\n",
       "      <td>5</td>\n",
       "      <td>4</td>\n",
       "    </tr>\n",
       "    <tr>\n",
       "      <th>11998</th>\n",
       "      <td>WY</td>\n",
       "      <td>Hispanic</td>\n",
       "      <td>0.5</td>\n",
       "      <td>70+</td>\n",
       "      <td>4-Year College</td>\n",
       "      <td>75</td>\n",
       "      <td>49</td>\n",
       "      <td>1</td>\n",
       "      <td>1</td>\n",
       "      <td>5</td>\n",
       "      <td>0</td>\n",
       "    </tr>\n",
       "    <tr>\n",
       "      <th>11999</th>\n",
       "      <td>WY</td>\n",
       "      <td>Hispanic</td>\n",
       "      <td>0.5</td>\n",
       "      <td>70+</td>\n",
       "      <td>Post-grad</td>\n",
       "      <td>0</td>\n",
       "      <td>49</td>\n",
       "      <td>1</td>\n",
       "      <td>1</td>\n",
       "      <td>5</td>\n",
       "      <td>3</td>\n",
       "    </tr>\n",
       "  </tbody>\n",
       "</table>\n",
       "<p>12000 rows × 11 columns</p>\n",
       "</div>"
      ],
      "text/plain": [
       "      state       eth  male    age            educ       n  state_cat  \\\n",
       "0        AL     White  -0.5  18-29           No HS   23948          1   \n",
       "1        AL     White  -0.5  18-29              HS   59378          1   \n",
       "2        AL     White  -0.5  18-29    Some college  104855          1   \n",
       "3        AL     White  -0.5  18-29  4-Year College   37066          1   \n",
       "4        AL     White  -0.5  18-29       Post-grad    9378          1   \n",
       "...     ...       ...   ...    ...             ...     ...        ...   \n",
       "11995    WY  Hispanic   0.5    70+           No HS     293         49   \n",
       "11996    WY  Hispanic   0.5    70+              HS     284         49   \n",
       "11997    WY  Hispanic   0.5    70+    Some college     191         49   \n",
       "11998    WY  Hispanic   0.5    70+  4-Year College      75         49   \n",
       "11999    WY  Hispanic   0.5    70+       Post-grad       0         49   \n",
       "\n",
       "       eth_cat  male_cat  age_cat  educ_cat  \n",
       "0            3         0        0         2  \n",
       "1            3         0        0         1  \n",
       "2            3         0        0         4  \n",
       "3            3         0        0         0  \n",
       "4            3         0        0         3  \n",
       "...        ...       ...      ...       ...  \n",
       "11995        1         1        5         2  \n",
       "11996        1         1        5         1  \n",
       "11997        1         1        5         4  \n",
       "11998        1         1        5         0  \n",
       "11999        1         1        5         3  \n",
       "\n",
       "[12000 rows x 11 columns]"
      ]
     },
     "execution_count": 71,
     "metadata": {},
     "output_type": "execute_result"
    }
   ],
   "source": [
    "post = pd.read_csv(\"Data/poststrat_df.csv\")\n",
    "categories = [\"state\", \"eth\", \"male\", \"age\", \"educ\"]\n",
    "for category in categories:\n",
    "    post[category+\"_cat\"] = post[category].astype('category').cat.codes\n",
    "post"
   ]
  },
  {
   "cell_type": "code",
   "execution_count": 72,
   "metadata": {},
   "outputs": [],
   "source": [
    "states_x_n = states_x.numpy()"
   ]
  },
  {
   "cell_type": "code",
   "execution_count": 73,
   "metadata": {},
   "outputs": [
    {
     "data": {
      "text/plain": [
       "array([  530671,  3671705,  2193824,  4814341, 25224084,  3980265,\n",
       "        2600641,   703561, 14721949,  7255844,  1018300,  2315443,\n",
       "        1193885,  9060244,  4876299,  2077442,  3336473,  3455197,\n",
       "        4962659,  4262675,  1060331,  7474075,  4040871,  4590068,\n",
       "        2229724,   804106,  7416861,   563184,  1358851,  1049274,\n",
       "        6120830,  1485100,  1973940, 13681813,  8799944,  2822863,\n",
       "        3006430,  9755586,   790179,  3730862,   636149,  4962991,\n",
       "       17858375,  1985017,  6096466,   495833,  5175322,  4348406,\n",
       "        1441882,   432512])"
      ]
     },
     "execution_count": 73,
     "metadata": {},
     "output_type": "execute_result"
    }
   ],
   "source": [
    "post.groupby(\"state\")[\"n\"].sum().values"
   ]
  },
  {
   "cell_type": "code",
   "execution_count": 74,
   "metadata": {},
   "outputs": [],
   "source": [
    "import math\n",
    "from tqdm.notebook import tqdm\n",
    "def sigmoid_n(x):\n",
    "    return 1 / (1 + np.exp(-x))"
   ]
  },
  {
   "cell_type": "code",
   "execution_count": 81,
   "metadata": {},
   "outputs": [
    {
     "data": {
      "text/plain": [
       "(2000,)"
      ]
     },
     "execution_count": 81,
     "metadata": {},
     "output_type": "execute_result"
    }
   ],
   "source": []
  },
  {
   "cell_type": "code",
   "execution_count": 88,
   "metadata": {},
   "outputs": [
    {
     "data": {
      "application/vnd.jupyter.widget-view+json": {
       "model_id": "50cb96d42b874f16acf7e59b39d94a2d",
       "version_major": 2,
       "version_minor": 0
      },
      "text/plain": [
       "HBox(children=(FloatProgress(value=0.0, max=50.0), HTML(value='')))"
      ]
     },
     "metadata": {},
     "output_type": "display_data"
    },
    {
     "name": "stdout",
     "output_type": "stream",
     "text": [
      "\n"
     ]
    }
   ],
   "source": [
    "gammas = params_samples[\"gammas\"]\n",
    "theta = 0\n",
    "z_state = np.zeros(50)\n",
    "for state_i in tqdm(range(50)):\n",
    "    for eth_i, eth in enumerate(params_samples[\"alpha_eth\"].T):\n",
    "        for age_i, age in enumerate(params_samples[\"alpha_age\"].T):\n",
    "            for educ_i, educ in enumerate(params_samples[\"alpha_educ\"].T):\n",
    "                for male_i in [0,1]:\n",
    "                    theta_sub = sigmoid_n(gammas[:, 5] + gammas[:,6]* states_x_n[:,0][state_i] + gammas[:,int(states_x_n[:,1][state_i])] + educ + eth + age + params_samples[\"alpha_educ_age\"][:,educ_i,age_i] + params_samples[\"alpha_educ_eth\"][:,educ_i,eth_i]+params_samples[\"beta_male\"].squeeze()*male_i)\n",
    "                    n = post[(post[\"state_cat\"] == state_i) & (post[\"age_cat\"] == age_i) & (post[\"eth_cat\"] == eth_i) & (post[\"educ_cat\"] == educ_i) & (post[\"male_cat\"] == male_i)][\"n\"].values[0]\n",
    "                    theta += theta_sub * n\n",
    "                    z_state[state_i] = z_state[state_i] + theta_sub.mean() * n\n",
    "theta = theta / post[\"n\"].sum()\n",
    "z_state = z_state / post.groupby(\"state\")[\"n\"].sum().values"
   ]
  },
  {
   "cell_type": "code",
   "execution_count": 83,
   "metadata": {},
   "outputs": [
    {
     "data": {
      "image/png": "[encoded data removed]",
      "text/plain": [
       "<Figure size 864x576 with 1 Axes>"
      ]
     },
     "metadata": {
      "needs_background": "light"
     },
     "output_type": "display_data"
    }
   ],
   "source": [
    "plt.hist(theta);\n",
    "plt.show();"
   ]
  },
  {
   "cell_type": "code",
   "execution_count": null,
   "metadata": {},
   "outputs": [],
   "source": []
  },
  {
   "cell_type": "code",
   "execution_count": 84,
   "metadata": {},
   "outputs": [
    {
     "name": "stdout",
     "output_type": "stream",
     "text": [
      "Survey mean support:  0.4341581675305133\n",
      "Survey support std:  0.002026677347449802\n",
      "Size of the Survey:   59810\n",
      "\n",
      "MRP mean support estimate:  0.43918663200114993\n",
      "MRP std:  0.0059346027636922915\n",
      "Population size:  228443347\n"
     ]
    }
   ],
   "source": [
    "print(\"Survey mean support: \", y_true.sum()/len(y_true))\n",
    "print(\"Survey support std: \", math.sqrt(y_true.mean()*(1-y_true.mean())/len(y_true)))\n",
    "print(\"Size of the Survey:  \", len(y_true))\n",
    "print(\"\")\n",
    "print(\"MRP mean support estimate: \", theta.mean())\n",
    "print(\"MRP std: \", theta.std())\n",
    "print(\"Population size: \", post[\"n\"].sum())\n",
    "\n"
   ]
  },
  {
   "cell_type": "code",
   "execution_count": 85,
   "metadata": {},
   "outputs": [],
   "source": [
    "#!pip install -q geopandas==0.3.0\n",
    "#!pip install -q pyshp==1.2.10\n",
    "#!pip install -q shapely==1.6.3\n",
    "#!pip install -q plotly-geo"
   ]
  },
  {
   "cell_type": "code",
   "execution_count": null,
   "metadata": {},
   "outputs": [],
   "source": []
  },
  {
   "cell_type": "code",
   "execution_count": null,
   "metadata": {},
   "outputs": [],
   "source": []
  },
  {
   "cell_type": "code",
   "execution_count": 91,
   "metadata": {},
   "outputs": [
    {
     "data": {
      "application/vnd.plotly.v1+json": {
       "config": {
        "plotlyServerURL": "https://plot.ly"
       },
       "data": [
        {
         "colorbar": {
          "title": {
           "text": "Support %"
          }
         },
         "colorscale": [
          [
           0,
           "rgb(247,251,255)"
          ],
          [
           0.125,
           "rgb(222,235,247)"
          ],
          [
           0.25,
           "rgb(198,219,239)"
          ],
          [
           0.375,
           "rgb(158,202,225)"
          ],
          [
           0.5,
           "rgb(107,174,214)"
          ],
          [
           0.625,
           "rgb(66,146,198)"
          ],
          [
           0.75,
           "rgb(33,113,181)"
          ],
          [
           0.875,
           "rgb(8,81,156)"
          ],
          [
           1,
           "rgb(8,48,107)"
          ]
         ],
         "locationmode": "USA-states",
         "locations": [
          "AK",
          "AL",
          "AR",
          "AZ",
          "CA",
          "CO",
          "CT",
          "DE",
          "FL",
          "GA",
          "HI",
          "IA",
          "ID",
          "IL",
          "IN",
          "KS",
          "KY",
          "LA",
          "MA",
          "MD",
          "ME",
          "MI",
          "MN",
          "MO",
          "MS",
          "MT",
          "NC",
          "ND",
          "NE",
          "NH",
          "NJ",
          "NM",
          "NV",
          "NY",
          "OH",
          "OK",
          "OR",
          "PA",
          "RI",
          "SC",
          "SD",
          "TN",
          "TX",
          "UT",
          "VA",
          "VT",
          "WA",
          "WI",
          "WV",
          "WY"
         ],
         "type": "choropleth",
         "z": [
          41.084099136337116,
          59.37906441544395,
          56.39203624306223,
          44.94385268326755,
          31.75286031318419,
          39.60552113469693,
          37.42816781650435,
          46.99004512704988,
          49.70591216759511,
          53.05751308257971,
          25.256991274764616,
          44.56130241853845,
          49.209946402865796,
          38.54164235056762,
          48.271522665331126,
          46.56401609936901,
          56.29530789058359,
          58.1252755087166,
          32.63343044559825,
          37.301795080024405,
          39.63247826541399,
          44.19580742028669,
          40.261439275249685,
          48.53902342279828,
          58.86196353284645,
          47.300485330039116,
          50.99688763619806,
          49.126466765423835,
          47.738362335686936,
          40.04669598998534,
          37.95833655766767,
          38.706639339874336,
          41.17069916173083,
          35.58155857419578,
          46.2534354593543,
          54.61708596524638,
          38.206540844993505,
          42.80989266493298,
          36.009905696044285,
          55.214624910939825,
          48.35243056586492,
          56.508749306770746,
          48.644442776783336,
          40.542887470601606,
          46.74779197339547,
          32.27938125700066,
          36.10727723502285,
          42.72553262299865,
          59.391396292388045,
          53.27164790211422
         ]
        }
       ],
       "layout": {
        "geo": {
         "scope": "usa"
        },
        "template": {
         "data": {
          "bar": [
           {
            "error_x": {
             "color": "#2a3f5f"
            },
            "error_y": {
             "color": "#2a3f5f"
            },
            "marker": {
             "line": {
              "color": "#E5ECF6",
              "width": 0.5
             }
            },
            "type": "bar"
           }
          ],
          "barpolar": [
           {
            "marker": {
             "line": {
              "color": "#E5ECF6",
              "width": 0.5
             }
            },
            "type": "barpolar"
           }
          ],
          "carpet": [
           {
            "aaxis": {
             "endlinecolor": "#2a3f5f",
             "gridcolor": "white",
             "linecolor": "white",
             "minorgridcolor": "white",
             "startlinecolor": "#2a3f5f"
            },
            "baxis": {
             "endlinecolor": "#2a3f5f",
             "gridcolor": "white",
             "linecolor": "white",
             "minorgridcolor": "white",
             "startlinecolor": "#2a3f5f"
            },
            "type": "carpet"
           }
          ],
          "choropleth": [
           {
            "colorbar": {
             "outlinewidth": 0,
             "ticks": ""
            },
            "type": "choropleth"
           }
          ],
          "contour": [
           {
            "colorbar": {
             "outlinewidth": 0,
             "ticks": ""
            },
            "colorscale": [
             [
              0,
              "#0d0887"
             ],
             [
              0.1111111111111111,
              "#46039f"
             ],
             [
              0.2222222222222222,
              "#7201a8"
             ],
             [
              0.3333333333333333,
              "#9c179e"
             ],
             [
              0.4444444444444444,
              "#bd3786"
             ],
             [
              0.5555555555555556,
              "#d8576b"
             ],
             [
              0.6666666666666666,
              "#ed7953"
             ],
             [
              0.7777777777777778,
              "#fb9f3a"
             ],
             [
              0.8888888888888888,
              "#fdca26"
             ],
             [
              1,
              "#f0f921"
             ]
            ],
            "type": "contour"
           }
          ],
          "contourcarpet": [
           {
            "colorbar": {
             "outlinewidth": 0,
             "ticks": ""
            },
            "type": "contourcarpet"
           }
          ],
          "heatmap": [
           {
            "colorbar": {
             "outlinewidth": 0,
             "ticks": ""
            },
            "colorscale": [
             [
              0,
              "#0d0887"
             ],
             [
              0.1111111111111111,
              "#46039f"
             ],
             [
              0.2222222222222222,
              "#7201a8"
             ],
             [
              0.3333333333333333,
              "#9c179e"
             ],
             [
              0.4444444444444444,
              "#bd3786"
             ],
             [
              0.5555555555555556,
              "#d8576b"
             ],
             [
              0.6666666666666666,
              "#ed7953"
             ],
             [
              0.7777777777777778,
              "#fb9f3a"
             ],
             [
              0.8888888888888888,
              "#fdca26"
             ],
             [
              1,
              "#f0f921"
             ]
            ],
            "type": "heatmap"
           }
          ],
          "heatmapgl": [
           {
            "colorbar": {
             "outlinewidth": 0,
             "ticks": ""
            },
            "colorscale": [
             [
              0,
              "#0d0887"
             ],
             [
              0.1111111111111111,
              "#46039f"
             ],
             [
              0.2222222222222222,
              "#7201a8"
             ],
             [
              0.3333333333333333,
              "#9c179e"
             ],
             [
              0.4444444444444444,
              "#bd3786"
             ],
             [
              0.5555555555555556,
              "#d8576b"
             ],
             [
              0.6666666666666666,
              "#ed7953"
             ],
             [
              0.7777777777777778,
              "#fb9f3a"
             ],
             [
              0.8888888888888888,
              "#fdca26"
             ],
             [
              1,
              "#f0f921"
             ]
            ],
            "type": "heatmapgl"
           }
          ],
          "histogram": [
           {
            "marker": {
             "colorbar": {
              "outlinewidth": 0,
              "ticks": ""
             }
            },
            "type": "histogram"
           }
          ],
          "histogram2d": [
           {
            "colorbar": {
             "outlinewidth": 0,
             "ticks": ""
            },
            "colorscale": [
             [
              0,
              "#0d0887"
             ],
             [
              0.1111111111111111,
              "#46039f"
             ],
             [
              0.2222222222222222,
              "#7201a8"
             ],
             [
              0.3333333333333333,
              "#9c179e"
             ],
             [
              0.4444444444444444,
              "#bd3786"
             ],
             [
              0.5555555555555556,
              "#d8576b"
             ],
             [
              0.6666666666666666,
              "#ed7953"
             ],
             [
              0.7777777777777778,
              "#fb9f3a"
             ],
             [
              0.8888888888888888,
              "#fdca26"
             ],
             [
              1,
              "#f0f921"
             ]
            ],
            "type": "histogram2d"
           }
          ],
          "histogram2dcontour": [
           {
            "colorbar": {
             "outlinewidth": 0,
             "ticks": ""
            },
            "colorscale": [
             [
              0,
              "#0d0887"
             ],
             [
              0.1111111111111111,
              "#46039f"
             ],
             [
              0.2222222222222222,
              "#7201a8"
             ],
             [
              0.3333333333333333,
              "#9c179e"
             ],
             [
              0.4444444444444444,
              "#bd3786"
             ],
             [
              0.5555555555555556,
              "#d8576b"
             ],
             [
              0.6666666666666666,
              "#ed7953"
             ],
             [
              0.7777777777777778,
              "#fb9f3a"
             ],
             [
              0.8888888888888888,
              "#fdca26"
             ],
             [
              1,
              "#f0f921"
             ]
            ],
            "type": "histogram2dcontour"
           }
          ],
          "mesh3d": [
           {
            "colorbar": {
             "outlinewidth": 0,
             "ticks": ""
            },
            "type": "mesh3d"
           }
          ],
          "parcoords": [
           {
            "line": {
             "colorbar": {
              "outlinewidth": 0,
              "ticks": ""
             }
            },
            "type": "parcoords"
           }
          ],
          "pie": [
           {
            "automargin": true,
            "type": "pie"
           }
          ],
          "scatter": [
           {
            "marker": {
             "colorbar": {
              "outlinewidth": 0,
              "ticks": ""
             }
            },
            "type": "scatter"
           }
          ],
          "scatter3d": [
           {
            "line": {
             "colorbar": {
              "outlinewidth": 0,
              "ticks": ""
             }
            },
            "marker": {
             "colorbar": {
              "outlinewidth": 0,
              "ticks": ""
             }
            },
            "type": "scatter3d"
           }
          ],
          "scattercarpet": [
           {
            "marker": {
             "colorbar": {
              "outlinewidth": 0,
              "ticks": ""
             }
            },
            "type": "scattercarpet"
           }
          ],
          "scattergeo": [
           {
            "marker": {
             "colorbar": {
              "outlinewidth": 0,
              "ticks": ""
             }
            },
            "type": "scattergeo"
           }
          ],
          "scattergl": [
           {
            "marker": {
             "colorbar": {
              "outlinewidth": 0,
              "ticks": ""
             }
            },
            "type": "scattergl"
           }
          ],
          "scattermapbox": [
           {
            "marker": {
             "colorbar": {
              "outlinewidth": 0,
              "ticks": ""
             }
            },
            "type": "scattermapbox"
           }
          ],
          "scatterpolar": [
           {
            "marker": {
             "colorbar": {
              "outlinewidth": 0,
              "ticks": ""
             }
            },
            "type": "scatterpolar"
           }
          ],
          "scatterpolargl": [
           {
            "marker": {
             "colorbar": {
              "outlinewidth": 0,
              "ticks": ""
             }
            },
            "type": "scatterpolargl"
           }
          ],
          "scatterternary": [
           {
            "marker": {
             "colorbar": {
              "outlinewidth": 0,
              "ticks": ""
             }
            },
            "type": "scatterternary"
           }
          ],
          "surface": [
           {
            "colorbar": {
             "outlinewidth": 0,
             "ticks": ""
            },
            "colorscale": [
             [
              0,
              "#0d0887"
             ],
             [
              0.1111111111111111,
              "#46039f"
             ],
             [
              0.2222222222222222,
              "#7201a8"
             ],
             [
              0.3333333333333333,
              "#9c179e"
             ],
             [
              0.4444444444444444,
              "#bd3786"
             ],
             [
              0.5555555555555556,
              "#d8576b"
             ],
             [
              0.6666666666666666,
              "#ed7953"
             ],
             [
              0.7777777777777778,
              "#fb9f3a"
             ],
             [
              0.8888888888888888,
              "#fdca26"
             ],
             [
              1,
              "#f0f921"
             ]
            ],
            "type": "surface"
           }
          ],
          "table": [
           {
            "cells": {
             "fill": {
              "color": "#EBF0F8"
             },
             "line": {
              "color": "white"
             }
            },
            "header": {
             "fill": {
              "color": "#C8D4E3"
             },
             "line": {
              "color": "white"
             }
            },
            "type": "table"
           }
          ]
         },
         "layout": {
          "annotationdefaults": {
           "arrowcolor": "#2a3f5f",
           "arrowhead": 0,
           "arrowwidth": 1
          },
          "autotypenumbers": "strict",
          "coloraxis": {
           "colorbar": {
            "outlinewidth": 0,
            "ticks": ""
           }
          },
          "colorscale": {
           "diverging": [
            [
             0,
             "#8e0152"
            ],
            [
             0.1,
             "#c51b7d"
            ],
            [
             0.2,
             "#de77ae"
            ],
            [
             0.3,
             "#f1b6da"
            ],
            [
             0.4,
             "#fde0ef"
            ],
            [
             0.5,
             "#f7f7f7"
            ],
            [
             0.6,
             "#e6f5d0"
            ],
            [
             0.7,
             "#b8e186"
            ],
            [
             0.8,
             "#7fbc41"
            ],
            [
             0.9,
             "#4d9221"
            ],
            [
             1,
             "#276419"
            ]
           ],
           "sequential": [
            [
             0,
             "#0d0887"
            ],
            [
             0.1111111111111111,
             "#46039f"
            ],
            [
             0.2222222222222222,
             "#7201a8"
            ],
            [
             0.3333333333333333,
             "#9c179e"
            ],
            [
             0.4444444444444444,
             "#bd3786"
            ],
            [
             0.5555555555555556,
             "#d8576b"
            ],
            [
             0.6666666666666666,
             "#ed7953"
            ],
            [
             0.7777777777777778,
             "#fb9f3a"
            ],
            [
             0.8888888888888888,
             "#fdca26"
            ],
            [
             1,
             "#f0f921"
            ]
           ],
           "sequentialminus": [
            [
             0,
             "#0d0887"
            ],
            [
             0.1111111111111111,
             "#46039f"
            ],
            [
             0.2222222222222222,
             "#7201a8"
            ],
            [
             0.3333333333333333,
             "#9c179e"
            ],
            [
             0.4444444444444444,
             "#bd3786"
            ],
            [
             0.5555555555555556,
             "#d8576b"
            ],
            [
             0.6666666666666666,
             "#ed7953"
            ],
            [
             0.7777777777777778,
             "#fb9f3a"
            ],
            [
             0.8888888888888888,
             "#fdca26"
            ],
            [
             1,
             "#f0f921"
            ]
           ]
          },
          "colorway": [
           "#636efa",
           "#EF553B",
           "#00cc96",
           "#ab63fa",
           "#FFA15A",
           "#19d3f3",
           "#FF6692",
           "#B6E880",
           "#FF97FF",
           "#FECB52"
          ],
          "font": {
           "color": "#2a3f5f"
          },
          "geo": {
           "bgcolor": "white",
           "lakecolor": "white",
           "landcolor": "#E5ECF6",
           "showlakes": true,
           "showland": true,
           "subunitcolor": "white"
          },
          "hoverlabel": {
           "align": "left"
          },
          "hovermode": "closest",
          "mapbox": {
           "style": "light"
          },
          "paper_bgcolor": "white",
          "plot_bgcolor": "#E5ECF6",
          "polar": {
           "angularaxis": {
            "gridcolor": "white",
            "linecolor": "white",
            "ticks": ""
           },
           "bgcolor": "#E5ECF6",
           "radialaxis": {
            "gridcolor": "white",
            "linecolor": "white",
            "ticks": ""
           }
          },
          "scene": {
           "xaxis": {
            "backgroundcolor": "#E5ECF6",
            "gridcolor": "white",
            "gridwidth": 2,
            "linecolor": "white",
            "showbackground": true,
            "ticks": "",
            "zerolinecolor": "white"
           },
           "yaxis": {
            "backgroundcolor": "#E5ECF6",
            "gridcolor": "white",
            "gridwidth": 2,
            "linecolor": "white",
            "showbackground": true,
            "ticks": "",
            "zerolinecolor": "white"
           },
           "zaxis": {
            "backgroundcolor": "#E5ECF6",
            "gridcolor": "white",
            "gridwidth": 2,
            "linecolor": "white",
            "showbackground": true,
            "ticks": "",
            "zerolinecolor": "white"
           }
          },
          "shapedefaults": {
           "line": {
            "color": "#2a3f5f"
           }
          },
          "ternary": {
           "aaxis": {
            "gridcolor": "white",
            "linecolor": "white",
            "ticks": ""
           },
           "baxis": {
            "gridcolor": "white",
            "linecolor": "white",
            "ticks": ""
           },
           "bgcolor": "#E5ECF6",
           "caxis": {
            "gridcolor": "white",
            "linecolor": "white",
            "ticks": ""
           }
          },
          "title": {
           "x": 0.05
          },
          "xaxis": {
           "automargin": true,
           "gridcolor": "white",
           "linecolor": "white",
           "ticks": "",
           "title": {
            "standoff": 15
           },
           "zerolinecolor": "white",
           "zerolinewidth": 2
          },
          "yaxis": {
           "automargin": true,
           "gridcolor": "white",
           "linecolor": "white",
           "ticks": "",
           "title": {
            "standoff": 15
           },
           "zerolinecolor": "white",
           "zerolinewidth": 2
          }
         }
        },
        "title": {
         "text": "Estimation on a subnational level (states)"
        }
       }
      },
      "text/html": [
       "<div>                            <div id=\"ba6f3560-1a30-43c7-9c11-368119fe52e9\" class=\"plotly-graph-div\" style=\"height:525px; width:100%;\"></div>            <script type=\"text/javascript\">                require([\"plotly\"], function(Plotly) {                    window.PLOTLYENV=window.PLOTLYENV || {};                                    if (document.getElementById(\"ba6f3560-1a30-43c7-9c11-368119fe52e9\")) {                    Plotly.newPlot(                        \"ba6f3560-1a30-43c7-9c11-368119fe52e9\",                        [{\"colorbar\": {\"title\": {\"text\": \"Support %\"}}, \"colorscale\": [[0.0, \"rgb(247,251,255)\"], [0.125, \"rgb(222,235,247)\"], [0.25, \"rgb(198,219,239)\"], [0.375, \"rgb(158,202,225)\"], [0.5, \"rgb(107,174,214)\"], [0.625, \"rgb(66,146,198)\"], [0.75, \"rgb(33,113,181)\"], [0.875, \"rgb(8,81,156)\"], [1.0, \"rgb(8,48,107)\"]], \"locationmode\": \"USA-states\", \"locations\": [\"AK\", \"AL\", \"AR\", \"AZ\", \"CA\", \"CO\", \"CT\", \"DE\", \"FL\", \"GA\", \"HI\", \"IA\", \"ID\", \"IL\", \"IN\", \"KS\", \"KY\", \"LA\", \"MA\", \"MD\", \"ME\", \"MI\", \"MN\", \"MO\", \"MS\", \"MT\", \"NC\", \"ND\", \"NE\", \"NH\", \"NJ\", \"NM\", \"NV\", \"NY\", \"OH\", \"OK\", \"OR\", \"PA\", \"RI\", \"SC\", \"SD\", \"TN\", \"TX\", \"UT\", \"VA\", \"VT\", \"WA\", \"WI\", \"WV\", \"WY\"], \"type\": \"choropleth\", \"z\": [41.084099136337116, 59.37906441544395, 56.39203624306223, 44.94385268326755, 31.75286031318419, 39.60552113469693, 37.42816781650435, 46.99004512704988, 49.70591216759511, 53.05751308257971, 25.256991274764616, 44.56130241853845, 49.209946402865796, 38.54164235056762, 48.271522665331126, 46.56401609936901, 56.29530789058359, 58.1252755087166, 32.63343044559825, 37.301795080024405, 39.63247826541399, 44.19580742028669, 40.261439275249685, 48.53902342279828, 58.86196353284645, 47.300485330039116, 50.99688763619806, 49.126466765423835, 47.738362335686936, 40.04669598998534, 37.95833655766767, 38.706639339874336, 41.17069916173083, 35.58155857419578, 46.2534354593543, 54.61708596524638, 38.206540844993505, 42.80989266493298, 36.009905696044285, 55.214624910939825, 48.35243056586492, 56.508749306770746, 48.644442776783336, 40.542887470601606, 46.74779197339547, 32.27938125700066, 36.10727723502285, 42.72553262299865, 59.391396292388045, 53.27164790211422]}],                        {\"geo\": {\"scope\": \"usa\"}, \"template\": {\"data\": {\"bar\": [{\"error_x\": {\"color\": \"#2a3f5f\"}, \"error_y\": {\"color\": \"#2a3f5f\"}, \"marker\": {\"line\": {\"color\": \"#E5ECF6\", \"width\": 0.5}}, \"type\": \"bar\"}], \"barpolar\": [{\"marker\": {\"line\": {\"color\": \"#E5ECF6\", \"width\": 0.5}}, \"type\": \"barpolar\"}], \"carpet\": [{\"aaxis\": {\"endlinecolor\": \"#2a3f5f\", \"gridcolor\": \"white\", \"linecolor\": \"white\", \"minorgridcolor\": \"white\", \"startlinecolor\": \"#2a3f5f\"}, \"baxis\": {\"endlinecolor\": \"#2a3f5f\", \"gridcolor\": \"white\", \"linecolor\": \"white\", \"minorgridcolor\": \"white\", \"startlinecolor\": \"#2a3f5f\"}, \"type\": \"carpet\"}], \"choropleth\": [{\"colorbar\": {\"outlinewidth\": 0, \"ticks\": \"\"}, \"type\": \"choropleth\"}], \"contour\": [{\"colorbar\": {\"outlinewidth\": 0, \"ticks\": \"\"}, \"colorscale\": [[0.0, \"#0d0887\"], [0.1111111111111111, \"#46039f\"], [0.2222222222222222, \"#7201a8\"], [0.3333333333333333, \"#9c179e\"], [0.4444444444444444, \"#bd3786\"], [0.5555555555555556, \"#d8576b\"], [0.6666666666666666, \"#ed7953\"], [0.7777777777777778, \"#fb9f3a\"], [0.8888888888888888, \"#fdca26\"], [1.0, \"#f0f921\"]], \"type\": \"contour\"}], \"contourcarpet\": [{\"colorbar\": {\"outlinewidth\": 0, \"ticks\": \"\"}, \"type\": \"contourcarpet\"}], \"heatmap\": [{\"colorbar\": {\"outlinewidth\": 0, \"ticks\": \"\"}, \"colorscale\": [[0.0, \"#0d0887\"], [0.1111111111111111, \"#46039f\"], [0.2222222222222222, \"#7201a8\"], [0.3333333333333333, \"#9c179e\"], [0.4444444444444444, \"#bd3786\"], [0.5555555555555556, \"#d8576b\"], [0.6666666666666666, \"#ed7953\"], [0.7777777777777778, \"#fb9f3a\"], [0.8888888888888888, \"#fdca26\"], [1.0, \"#f0f921\"]], \"type\": \"heatmap\"}], \"heatmapgl\": [{\"colorbar\": {\"outlinewidth\": 0, \"ticks\": \"\"}, \"colorscale\": [[0.0, \"#0d0887\"], [0.1111111111111111, \"#46039f\"], [0.2222222222222222, \"#7201a8\"], [0.3333333333333333, \"#9c179e\"], [0.4444444444444444, \"#bd3786\"], [0.5555555555555556, \"#d8576b\"], [0.6666666666666666, \"#ed7953\"], [0.7777777777777778, \"#fb9f3a\"], [0.8888888888888888, \"#fdca26\"], [1.0, \"#f0f921\"]], \"type\": \"heatmapgl\"}], \"histogram\": [{\"marker\": {\"colorbar\": {\"outlinewidth\": 0, \"ticks\": \"\"}}, \"type\": \"histogram\"}], \"histogram2d\": [{\"colorbar\": {\"outlinewidth\": 0, \"ticks\": \"\"}, \"colorscale\": [[0.0, \"#0d0887\"], [0.1111111111111111, \"#46039f\"], [0.2222222222222222, \"#7201a8\"], [0.3333333333333333, \"#9c179e\"], [0.4444444444444444, \"#bd3786\"], [0.5555555555555556, \"#d8576b\"], [0.6666666666666666, \"#ed7953\"], [0.7777777777777778, \"#fb9f3a\"], [0.8888888888888888, \"#fdca26\"], [1.0, \"#f0f921\"]], \"type\": \"histogram2d\"}], \"histogram2dcontour\": [{\"colorbar\": {\"outlinewidth\": 0, \"ticks\": \"\"}, \"colorscale\": [[0.0, \"#0d0887\"], [0.1111111111111111, \"#46039f\"], [0.2222222222222222, \"#7201a8\"], [0.3333333333333333, \"#9c179e\"], [0.4444444444444444, \"#bd3786\"], [0.5555555555555556, \"#d8576b\"], [0.6666666666666666, \"#ed7953\"], [0.7777777777777778, \"#fb9f3a\"], [0.8888888888888888, \"#fdca26\"], [1.0, \"#f0f921\"]], \"type\": \"histogram2dcontour\"}], \"mesh3d\": [{\"colorbar\": {\"outlinewidth\": 0, \"ticks\": \"\"}, \"type\": \"mesh3d\"}], \"parcoords\": [{\"line\": {\"colorbar\": {\"outlinewidth\": 0, \"ticks\": \"\"}}, \"type\": \"parcoords\"}], \"pie\": [{\"automargin\": true, \"type\": \"pie\"}], \"scatter\": [{\"marker\": {\"colorbar\": {\"outlinewidth\": 0, \"ticks\": \"\"}}, \"type\": \"scatter\"}], \"scatter3d\": [{\"line\": {\"colorbar\": {\"outlinewidth\": 0, \"ticks\": \"\"}}, \"marker\": {\"colorbar\": {\"outlinewidth\": 0, \"ticks\": \"\"}}, \"type\": \"scatter3d\"}], \"scattercarpet\": [{\"marker\": {\"colorbar\": {\"outlinewidth\": 0, \"ticks\": \"\"}}, \"type\": \"scattercarpet\"}], \"scattergeo\": [{\"marker\": {\"colorbar\": {\"outlinewidth\": 0, \"ticks\": \"\"}}, \"type\": \"scattergeo\"}], \"scattergl\": [{\"marker\": {\"colorbar\": {\"outlinewidth\": 0, \"ticks\": \"\"}}, \"type\": \"scattergl\"}], \"scattermapbox\": [{\"marker\": {\"colorbar\": {\"outlinewidth\": 0, \"ticks\": \"\"}}, \"type\": \"scattermapbox\"}], \"scatterpolar\": [{\"marker\": {\"colorbar\": {\"outlinewidth\": 0, \"ticks\": \"\"}}, \"type\": \"scatterpolar\"}], \"scatterpolargl\": [{\"marker\": {\"colorbar\": {\"outlinewidth\": 0, \"ticks\": \"\"}}, \"type\": \"scatterpolargl\"}], \"scatterternary\": [{\"marker\": {\"colorbar\": {\"outlinewidth\": 0, \"ticks\": \"\"}}, \"type\": \"scatterternary\"}], \"surface\": [{\"colorbar\": {\"outlinewidth\": 0, \"ticks\": \"\"}, \"colorscale\": [[0.0, \"#0d0887\"], [0.1111111111111111, \"#46039f\"], [0.2222222222222222, \"#7201a8\"], [0.3333333333333333, \"#9c179e\"], [0.4444444444444444, \"#bd3786\"], [0.5555555555555556, \"#d8576b\"], [0.6666666666666666, \"#ed7953\"], [0.7777777777777778, \"#fb9f3a\"], [0.8888888888888888, \"#fdca26\"], [1.0, \"#f0f921\"]], \"type\": \"surface\"}], \"table\": [{\"cells\": {\"fill\": {\"color\": \"#EBF0F8\"}, \"line\": {\"color\": \"white\"}}, \"header\": {\"fill\": {\"color\": \"#C8D4E3\"}, \"line\": {\"color\": \"white\"}}, \"type\": \"table\"}]}, \"layout\": {\"annotationdefaults\": {\"arrowcolor\": \"#2a3f5f\", \"arrowhead\": 0, \"arrowwidth\": 1}, \"autotypenumbers\": \"strict\", \"coloraxis\": {\"colorbar\": {\"outlinewidth\": 0, \"ticks\": \"\"}}, \"colorscale\": {\"diverging\": [[0, \"#8e0152\"], [0.1, \"#c51b7d\"], [0.2, \"#de77ae\"], [0.3, \"#f1b6da\"], [0.4, \"#fde0ef\"], [0.5, \"#f7f7f7\"], [0.6, \"#e6f5d0\"], [0.7, \"#b8e186\"], [0.8, \"#7fbc41\"], [0.9, \"#4d9221\"], [1, \"#276419\"]], \"sequential\": [[0.0, \"#0d0887\"], [0.1111111111111111, \"#46039f\"], [0.2222222222222222, \"#7201a8\"], [0.3333333333333333, \"#9c179e\"], [0.4444444444444444, \"#bd3786\"], [0.5555555555555556, \"#d8576b\"], [0.6666666666666666, \"#ed7953\"], [0.7777777777777778, \"#fb9f3a\"], [0.8888888888888888, \"#fdca26\"], [1.0, \"#f0f921\"]], \"sequentialminus\": [[0.0, \"#0d0887\"], [0.1111111111111111, \"#46039f\"], [0.2222222222222222, \"#7201a8\"], [0.3333333333333333, \"#9c179e\"], [0.4444444444444444, \"#bd3786\"], [0.5555555555555556, \"#d8576b\"], [0.6666666666666666, \"#ed7953\"], [0.7777777777777778, \"#fb9f3a\"], [0.8888888888888888, \"#fdca26\"], [1.0, \"#f0f921\"]]}, \"colorway\": [\"#636efa\", \"#EF553B\", \"#00cc96\", \"#ab63fa\", \"#FFA15A\", \"#19d3f3\", \"#FF6692\", \"#B6E880\", \"#FF97FF\", \"#FECB52\"], \"font\": {\"color\": \"#2a3f5f\"}, \"geo\": {\"bgcolor\": \"white\", \"lakecolor\": \"white\", \"landcolor\": \"#E5ECF6\", \"showlakes\": true, \"showland\": true, \"subunitcolor\": \"white\"}, \"hoverlabel\": {\"align\": \"left\"}, \"hovermode\": \"closest\", \"mapbox\": {\"style\": \"light\"}, \"paper_bgcolor\": \"white\", \"plot_bgcolor\": \"#E5ECF6\", \"polar\": {\"angularaxis\": {\"gridcolor\": \"white\", \"linecolor\": \"white\", \"ticks\": \"\"}, \"bgcolor\": \"#E5ECF6\", \"radialaxis\": {\"gridcolor\": \"white\", \"linecolor\": \"white\", \"ticks\": \"\"}}, \"scene\": {\"xaxis\": {\"backgroundcolor\": \"#E5ECF6\", \"gridcolor\": \"white\", \"gridwidth\": 2, \"linecolor\": \"white\", \"showbackground\": true, \"ticks\": \"\", \"zerolinecolor\": \"white\"}, \"yaxis\": {\"backgroundcolor\": \"#E5ECF6\", \"gridcolor\": \"white\", \"gridwidth\": 2, \"linecolor\": \"white\", \"showbackground\": true, \"ticks\": \"\", \"zerolinecolor\": \"white\"}, \"zaxis\": {\"backgroundcolor\": \"#E5ECF6\", \"gridcolor\": \"white\", \"gridwidth\": 2, \"linecolor\": \"white\", \"showbackground\": true, \"ticks\": \"\", \"zerolinecolor\": \"white\"}}, \"shapedefaults\": {\"line\": {\"color\": \"#2a3f5f\"}}, \"ternary\": {\"aaxis\": {\"gridcolor\": \"white\", \"linecolor\": \"white\", \"ticks\": \"\"}, \"baxis\": {\"gridcolor\": \"white\", \"linecolor\": \"white\", \"ticks\": \"\"}, \"bgcolor\": \"#E5ECF6\", \"caxis\": {\"gridcolor\": \"white\", \"linecolor\": \"white\", \"ticks\": \"\"}}, \"title\": {\"x\": 0.05}, \"xaxis\": {\"automargin\": true, \"gridcolor\": \"white\", \"linecolor\": \"white\", \"ticks\": \"\", \"title\": {\"standoff\": 15}, \"zerolinecolor\": \"white\", \"zerolinewidth\": 2}, \"yaxis\": {\"automargin\": true, \"gridcolor\": \"white\", \"linecolor\": \"white\", \"ticks\": \"\", \"title\": {\"standoff\": 15}, \"zerolinecolor\": \"white\", \"zerolinewidth\": 2}}}, \"title\": {\"text\": \"Estimation on a subnational level (states)\"}},                        {\"responsive\": true}                    ).then(function(){\n",
       "                            \n",
       "var gd = document.getElementById('ba6f3560-1a30-43c7-9c11-368119fe52e9');\n",
       "var x = new MutationObserver(function (mutations, observer) {{\n",
       "        var display = window.getComputedStyle(gd).display;\n",
       "        if (!display || display === 'none') {{\n",
       "            console.log([gd, 'removed!']);\n",
       "            Plotly.purge(gd);\n",
       "            observer.disconnect();\n",
       "        }}\n",
       "}});\n",
       "\n",
       "// Listen for the removal of the full notebook cells\n",
       "var notebookContainer = gd.closest('#notebook-container');\n",
       "if (notebookContainer) {{\n",
       "    x.observe(notebookContainer, {childList: true});\n",
       "}}\n",
       "\n",
       "// Listen for the clearing of the current output cell\n",
       "var outputEl = gd.closest('.output');\n",
       "if (outputEl) {{\n",
       "    x.observe(outputEl, {childList: true});\n",
       "}}\n",
       "\n",
       "                        })                };                });            </script>        </div>"
      ]
     },
     "metadata": {},
     "output_type": "display_data"
    }
   ],
   "source": [
    "import plotly.graph_objects as go\n",
    "\n",
    "import pandas as pd\n",
    "\n",
    "fig = go.Figure(data=go.Choropleth(\n",
    "    locations=states[\"states\"], # Spatial coordinates\n",
    "    z = z_state.astype(float) * 100, # Data to be color-coded\n",
    "    locationmode = 'USA-states', # set of locations match entries in `locations`\n",
    "    colorscale = 'Blues',\n",
    "    colorbar_title = \"Support %\",\n",
    "))\n",
    "\n",
    "fig.update_layout(\n",
    "    title_text = 'Estimation on a subnational level (states)',\n",
    "    geo_scope='usa', # limite map scope to USA\n",
    ")\n",
    "\n",
    "fig.show()"
   ]
  },
  {
   "cell_type": "code",
   "execution_count": null,
   "metadata": {},
   "outputs": [],
   "source": [
    "# COMPARE THIS MAP WITH THE MAP GENERATED FROM THE SURVEY"
   ]
  },
  {
   "cell_type": "code",
   "execution_count": null,
   "metadata": {},
   "outputs": [],
   "source": [
    "# NON REPRESENTATIVE SURVEY"
   ]
  },
  {
   "cell_type": "code",
   "execution_count": null,
   "metadata": {},
   "outputs": [],
   "source": []
  }
 ],
 "metadata": {
  "accelerator": "GPU",
  "colab": {
   "name": "model.ipynb",
   "provenance": []
  },
  "kernelspec": {
   "display_name": "Python 3",
   "language": "python",
   "name": "python3"
  },
  "language_info": {
   "codemirror_mode": {
    "name": "ipython",
    "version": 3
   },
   "file_extension": ".py",
   "mimetype": "text/x-python",
   "name": "python",
   "nbconvert_exporter": "python",
   "pygments_lexer": "ipython3",
   "version": "3.7.6"
  }
 },
 "nbformat": 4,
 "nbformat_minor": 1
}
