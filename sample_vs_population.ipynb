{
 "cells": [
  {
   "cell_type": "code",
   "execution_count": 146,
   "id": "instrumental-pasta",
   "metadata": {},
   "outputs": [],
   "source": [
    "import pandas as pd\n",
    "import numpy as np\n",
    "from plotly.subplots import make_subplots\n",
    "import plotly.graph_objects as go"
   ]
  },
  {
   "cell_type": "code",
   "execution_count": 147,
   "id": "suburban-billy",
   "metadata": {},
   "outputs": [],
   "source": [
    "sample_df = pd.read_csv(\"D:/DTU/Year3/Sem2/42186 Model-Based ML/misterP/Data/cces_all_clean.csv\")\n",
    "small_sample = sample_df.sample(5000, random_state=1)\n",
    "poststrat_df = pd.read_csv(\"D:/DTU/Year3/Sem2/42186 Model-Based ML/misterP/Data/poststrat_df.csv\")"
   ]
  },
  {
   "cell_type": "code",
   "execution_count": 148,
   "id": "confirmed-banner",
   "metadata": {},
   "outputs": [
    {
     "data": {
      "text/html": [
       "<div>\n",
       "<style scoped>\n",
       "    .dataframe tbody tr th:only-of-type {\n",
       "        vertical-align: middle;\n",
       "    }\n",
       "\n",
       "    .dataframe tbody tr th {\n",
       "        vertical-align: top;\n",
       "    }\n",
       "\n",
       "    .dataframe thead th {\n",
       "        text-align: right;\n",
       "    }\n",
       "</style>\n",
       "<table border=\"1\" class=\"dataframe\">\n",
       "  <thead>\n",
       "    <tr style=\"text-align: right;\">\n",
       "      <th></th>\n",
       "      <th>abortion</th>\n",
       "      <th>state</th>\n",
       "      <th>eth</th>\n",
       "      <th>male</th>\n",
       "      <th>age</th>\n",
       "      <th>educ</th>\n",
       "    </tr>\n",
       "  </thead>\n",
       "  <tbody>\n",
       "    <tr>\n",
       "      <th>11159</th>\n",
       "      <td>0</td>\n",
       "      <td>VA</td>\n",
       "      <td>White</td>\n",
       "      <td>0.5</td>\n",
       "      <td>50-59</td>\n",
       "      <td>Post-grad</td>\n",
       "    </tr>\n",
       "    <tr>\n",
       "      <th>36809</th>\n",
       "      <td>1</td>\n",
       "      <td>FL</td>\n",
       "      <td>White</td>\n",
       "      <td>-0.5</td>\n",
       "      <td>70+</td>\n",
       "      <td>HS</td>\n",
       "    </tr>\n",
       "    <tr>\n",
       "      <th>6633</th>\n",
       "      <td>0</td>\n",
       "      <td>CA</td>\n",
       "      <td>White</td>\n",
       "      <td>-0.5</td>\n",
       "      <td>70+</td>\n",
       "      <td>Some college</td>\n",
       "    </tr>\n",
       "    <tr>\n",
       "      <th>53044</th>\n",
       "      <td>1</td>\n",
       "      <td>DE</td>\n",
       "      <td>White</td>\n",
       "      <td>0.5</td>\n",
       "      <td>60-69</td>\n",
       "      <td>4-Year College</td>\n",
       "    </tr>\n",
       "    <tr>\n",
       "      <th>33525</th>\n",
       "      <td>0</td>\n",
       "      <td>MA</td>\n",
       "      <td>White</td>\n",
       "      <td>-0.5</td>\n",
       "      <td>18-29</td>\n",
       "      <td>HS</td>\n",
       "    </tr>\n",
       "  </tbody>\n",
       "</table>\n",
       "</div>"
      ],
      "text/plain": [
       "       abortion state    eth  male    age            educ\n",
       "11159         0    VA  White   0.5  50-59       Post-grad\n",
       "36809         1    FL  White  -0.5    70+              HS\n",
       "6633          0    CA  White  -0.5    70+    Some college\n",
       "53044         1    DE  White   0.5  60-69  4-Year College\n",
       "33525         0    MA  White  -0.5  18-29              HS"
      ]
     },
     "execution_count": 148,
     "metadata": {},
     "output_type": "execute_result"
    }
   ],
   "source": [
    "small_sample.head()"
   ]
  },
  {
   "cell_type": "code",
   "execution_count": 149,
   "id": "universal-instruction",
   "metadata": {},
   "outputs": [
    {
     "data": {
      "text/plain": [
       "50"
      ]
     },
     "execution_count": 149,
     "metadata": {},
     "output_type": "execute_result"
    }
   ],
   "source": [
    "states_s = list(np.unique(small_sample.state))\n",
    "len(states_s)"
   ]
  },
  {
   "cell_type": "code",
   "execution_count": 150,
   "id": "boolean-telescope",
   "metadata": {},
   "outputs": [
    {
     "data": {
      "text/html": [
       "<div>\n",
       "<style scoped>\n",
       "    .dataframe tbody tr th:only-of-type {\n",
       "        vertical-align: middle;\n",
       "    }\n",
       "\n",
       "    .dataframe tbody tr th {\n",
       "        vertical-align: top;\n",
       "    }\n",
       "\n",
       "    .dataframe thead th {\n",
       "        text-align: right;\n",
       "    }\n",
       "</style>\n",
       "<table border=\"1\" class=\"dataframe\">\n",
       "  <thead>\n",
       "    <tr style=\"text-align: right;\">\n",
       "      <th></th>\n",
       "      <th>state</th>\n",
       "      <th>eth</th>\n",
       "      <th>male</th>\n",
       "      <th>age</th>\n",
       "      <th>educ</th>\n",
       "      <th>n</th>\n",
       "    </tr>\n",
       "  </thead>\n",
       "  <tbody>\n",
       "    <tr>\n",
       "      <th>0</th>\n",
       "      <td>AL</td>\n",
       "      <td>White</td>\n",
       "      <td>-0.5</td>\n",
       "      <td>18-29</td>\n",
       "      <td>No HS</td>\n",
       "      <td>23948</td>\n",
       "    </tr>\n",
       "    <tr>\n",
       "      <th>1</th>\n",
       "      <td>AL</td>\n",
       "      <td>White</td>\n",
       "      <td>-0.5</td>\n",
       "      <td>18-29</td>\n",
       "      <td>HS</td>\n",
       "      <td>59378</td>\n",
       "    </tr>\n",
       "    <tr>\n",
       "      <th>2</th>\n",
       "      <td>AL</td>\n",
       "      <td>White</td>\n",
       "      <td>-0.5</td>\n",
       "      <td>18-29</td>\n",
       "      <td>Some college</td>\n",
       "      <td>104855</td>\n",
       "    </tr>\n",
       "    <tr>\n",
       "      <th>3</th>\n",
       "      <td>AL</td>\n",
       "      <td>White</td>\n",
       "      <td>-0.5</td>\n",
       "      <td>18-29</td>\n",
       "      <td>4-Year College</td>\n",
       "      <td>37066</td>\n",
       "    </tr>\n",
       "    <tr>\n",
       "      <th>4</th>\n",
       "      <td>AL</td>\n",
       "      <td>White</td>\n",
       "      <td>-0.5</td>\n",
       "      <td>18-29</td>\n",
       "      <td>Post-grad</td>\n",
       "      <td>9378</td>\n",
       "    </tr>\n",
       "  </tbody>\n",
       "</table>\n",
       "</div>"
      ],
      "text/plain": [
       "  state    eth  male    age            educ       n\n",
       "0    AL  White  -0.5  18-29           No HS   23948\n",
       "1    AL  White  -0.5  18-29              HS   59378\n",
       "2    AL  White  -0.5  18-29    Some college  104855\n",
       "3    AL  White  -0.5  18-29  4-Year College   37066\n",
       "4    AL  White  -0.5  18-29       Post-grad    9378"
      ]
     },
     "execution_count": 150,
     "metadata": {},
     "output_type": "execute_result"
    }
   ],
   "source": [
    "poststrat_df.head()"
   ]
  },
  {
   "cell_type": "code",
   "execution_count": 151,
   "id": "impossible-newton",
   "metadata": {},
   "outputs": [],
   "source": [
    "a_p = []\n",
    "a_p.append(poststrat_df.loc[poststrat_df['age'] == \"18-29\", 'n'].sum()/(poststrat_df[\"n\"].sum()))\n",
    "a_p.append(poststrat_df.loc[poststrat_df['age'] == \"30-39\", 'n'].sum()/(poststrat_df[\"n\"].sum()))\n",
    "a_p.append(poststrat_df.loc[poststrat_df['age'] == \"40-49\", 'n'].sum()/(poststrat_df[\"n\"].sum()))\n",
    "a_p.append(poststrat_df.loc[poststrat_df['age'] == \"50-59\", 'n'].sum()/(poststrat_df[\"n\"].sum()))\n",
    "a_p.append(poststrat_df.loc[poststrat_df['age'] == \"60-69\", 'n'].sum()/(poststrat_df[\"n\"].sum()))\n",
    "a_p.append(poststrat_df.loc[poststrat_df['age'] == \"70+\", 'n'].sum()/(poststrat_df[\"n\"].sum()))\n",
    "#a_p"
   ]
  },
  {
   "cell_type": "code",
   "execution_count": 152,
   "id": "blank-picnic",
   "metadata": {},
   "outputs": [],
   "source": [
    "age = small_sample.groupby([\"age\"]).size()\n",
    "age = age.to_frame('count')\n",
    "age[\"Sample\"] = age[\"count\"].div(age[\"count\"].sum(), axis=0)\n",
    "age[\"Population\"] = a_p\n",
    "age = age.reset_index()"
   ]
  },
  {
   "cell_type": "code",
   "execution_count": 153,
   "id": "significant-aggregate",
   "metadata": {},
   "outputs": [],
   "source": [
    "g_p = []\n",
    "g_p.append(poststrat_df.loc[poststrat_df['male'] == -0.5, 'n'].sum()/(poststrat_df[\"n\"].sum()))\n",
    "g_p.append(poststrat_df.loc[poststrat_df['male'] == 0.5, 'n'].sum()/(poststrat_df[\"n\"].sum()))"
   ]
  },
  {
   "cell_type": "code",
   "execution_count": 154,
   "id": "patent-cylinder",
   "metadata": {},
   "outputs": [
    {
     "data": {
      "text/html": [
       "<div>\n",
       "<style scoped>\n",
       "    .dataframe tbody tr th:only-of-type {\n",
       "        vertical-align: middle;\n",
       "    }\n",
       "\n",
       "    .dataframe tbody tr th {\n",
       "        vertical-align: top;\n",
       "    }\n",
       "\n",
       "    .dataframe thead th {\n",
       "        text-align: right;\n",
       "    }\n",
       "</style>\n",
       "<table border=\"1\" class=\"dataframe\">\n",
       "  <thead>\n",
       "    <tr style=\"text-align: right;\">\n",
       "      <th></th>\n",
       "      <th>sex</th>\n",
       "      <th>count</th>\n",
       "      <th>Sample</th>\n",
       "      <th>Population</th>\n",
       "    </tr>\n",
       "  </thead>\n",
       "  <tbody>\n",
       "    <tr>\n",
       "      <th>0</th>\n",
       "      <td>Female</td>\n",
       "      <td>2826</td>\n",
       "      <td>0.5652</td>\n",
       "      <td>0.51522</td>\n",
       "    </tr>\n",
       "    <tr>\n",
       "      <th>1</th>\n",
       "      <td>Male</td>\n",
       "      <td>2174</td>\n",
       "      <td>0.4348</td>\n",
       "      <td>0.48478</td>\n",
       "    </tr>\n",
       "  </tbody>\n",
       "</table>\n",
       "</div>"
      ],
      "text/plain": [
       "      sex  count  Sample  Population\n",
       "0  Female   2826  0.5652     0.51522\n",
       "1    Male   2174  0.4348     0.48478"
      ]
     },
     "execution_count": 154,
     "metadata": {},
     "output_type": "execute_result"
    }
   ],
   "source": [
    "gender = small_sample.groupby([\"male\"]).size()\n",
    "gender = gender.to_frame('count')\n",
    "gender[\"Sample\"] = gender[\"count\"].div(gender[\"count\"].sum(), axis=0)\n",
    "gender[\"Population\"] = g_p\n",
    "gender = gender.reset_index()\n",
    "gender = gender.rename(columns={\"male\": \"sex\"})\n",
    "gender.sex = gender.sex.replace([-0.5, 0.5], [\"Female\", \"Male\"])\n",
    "gender"
   ]
  },
  {
   "cell_type": "code",
   "execution_count": 155,
   "id": "residential-sending",
   "metadata": {},
   "outputs": [],
   "source": [
    "e_p = []\n",
    "e_p.append(poststrat_df.loc[poststrat_df['eth'] == \"Black\", 'n'].sum()/(poststrat_df[\"n\"].sum()))\n",
    "e_p.append(poststrat_df.loc[poststrat_df['eth'] == \"Hispanic\", 'n'].sum()/(poststrat_df[\"n\"].sum()))\n",
    "e_p.append(poststrat_df.loc[poststrat_df['eth'] == \"Other\", 'n'].sum()/(poststrat_df[\"n\"].sum()))\n",
    "e_p.append(poststrat_df.loc[poststrat_df['eth'] == \"White\", 'n'].sum()/(poststrat_df[\"n\"].sum()))"
   ]
  },
  {
   "cell_type": "code",
   "execution_count": 156,
   "id": "sporting-desperate",
   "metadata": {},
   "outputs": [
    {
     "data": {
      "text/html": [
       "<div>\n",
       "<style scoped>\n",
       "    .dataframe tbody tr th:only-of-type {\n",
       "        vertical-align: middle;\n",
       "    }\n",
       "\n",
       "    .dataframe tbody tr th {\n",
       "        vertical-align: top;\n",
       "    }\n",
       "\n",
       "    .dataframe thead th {\n",
       "        text-align: right;\n",
       "    }\n",
       "</style>\n",
       "<table border=\"1\" class=\"dataframe\">\n",
       "  <thead>\n",
       "    <tr style=\"text-align: right;\">\n",
       "      <th></th>\n",
       "      <th>eth</th>\n",
       "      <th>count</th>\n",
       "      <th>Sample</th>\n",
       "      <th>Population</th>\n",
       "    </tr>\n",
       "  </thead>\n",
       "  <tbody>\n",
       "    <tr>\n",
       "      <th>0</th>\n",
       "      <td>Black</td>\n",
       "      <td>425</td>\n",
       "      <td>0.0850</td>\n",
       "      <td>0.126362</td>\n",
       "    </tr>\n",
       "    <tr>\n",
       "      <th>1</th>\n",
       "      <td>Hispanic</td>\n",
       "      <td>437</td>\n",
       "      <td>0.0874</td>\n",
       "      <td>0.081622</td>\n",
       "    </tr>\n",
       "    <tr>\n",
       "      <th>2</th>\n",
       "      <td>Other</td>\n",
       "      <td>362</td>\n",
       "      <td>0.0724</td>\n",
       "      <td>0.105669</td>\n",
       "    </tr>\n",
       "    <tr>\n",
       "      <th>3</th>\n",
       "      <td>White</td>\n",
       "      <td>3776</td>\n",
       "      <td>0.7552</td>\n",
       "      <td>0.686347</td>\n",
       "    </tr>\n",
       "  </tbody>\n",
       "</table>\n",
       "</div>"
      ],
      "text/plain": [
       "        eth  count  Sample  Population\n",
       "0     Black    425  0.0850    0.126362\n",
       "1  Hispanic    437  0.0874    0.081622\n",
       "2     Other    362  0.0724    0.105669\n",
       "3     White   3776  0.7552    0.686347"
      ]
     },
     "execution_count": 156,
     "metadata": {},
     "output_type": "execute_result"
    }
   ],
   "source": [
    "ethnicity = small_sample.groupby([\"eth\"]).size()\n",
    "ethnicity = ethnicity.to_frame('count')\n",
    "ethnicity[\"Sample\"] = ethnicity[\"count\"].div(ethnicity[\"count\"].sum(), axis=0)\n",
    "ethnicity[\"Population\"] = e_p\n",
    "ethnicity = ethnicity.reset_index()\n",
    "ethnicity"
   ]
  },
  {
   "cell_type": "code",
   "execution_count": 157,
   "id": "governing-symposium",
   "metadata": {},
   "outputs": [],
   "source": [
    "ed_p = []\n",
    "ed_p.append(poststrat_df.loc[poststrat_df['educ'] == \"4-Year College\", 'n'].sum()/(poststrat_df[\"n\"].sum()))\n",
    "ed_p.append(poststrat_df.loc[poststrat_df['educ'] == \"HS\", 'n'].sum()/(poststrat_df[\"n\"].sum()))\n",
    "ed_p.append(poststrat_df.loc[poststrat_df['educ'] == \"No HS\", 'n'].sum()/(poststrat_df[\"n\"].sum()))\n",
    "ed_p.append(poststrat_df.loc[poststrat_df['educ'] == \"Post-grad\", 'n'].sum()/(poststrat_df[\"n\"].sum()))\n",
    "ed_p.append(poststrat_df.loc[poststrat_df['educ'] == \"Some college\", 'n'].sum()/(poststrat_df[\"n\"].sum()))"
   ]
  },
  {
   "cell_type": "code",
   "execution_count": 158,
   "id": "printable-coaching",
   "metadata": {},
   "outputs": [
    {
     "data": {
      "text/html": [
       "<div>\n",
       "<style scoped>\n",
       "    .dataframe tbody tr th:only-of-type {\n",
       "        vertical-align: middle;\n",
       "    }\n",
       "\n",
       "    .dataframe tbody tr th {\n",
       "        vertical-align: top;\n",
       "    }\n",
       "\n",
       "    .dataframe thead th {\n",
       "        text-align: right;\n",
       "    }\n",
       "</style>\n",
       "<table border=\"1\" class=\"dataframe\">\n",
       "  <thead>\n",
       "    <tr style=\"text-align: right;\">\n",
       "      <th></th>\n",
       "      <th>educ</th>\n",
       "      <th>count</th>\n",
       "      <th>Sample</th>\n",
       "      <th>Population</th>\n",
       "    </tr>\n",
       "  </thead>\n",
       "  <tbody>\n",
       "    <tr>\n",
       "      <th>0</th>\n",
       "      <td>4-Year College</td>\n",
       "      <td>1147</td>\n",
       "      <td>0.2294</td>\n",
       "      <td>0.186496</td>\n",
       "    </tr>\n",
       "    <tr>\n",
       "      <th>1</th>\n",
       "      <td>HS</td>\n",
       "      <td>1347</td>\n",
       "      <td>0.2694</td>\n",
       "      <td>0.280342</td>\n",
       "    </tr>\n",
       "    <tr>\n",
       "      <th>2</th>\n",
       "      <td>No HS</td>\n",
       "      <td>188</td>\n",
       "      <td>0.0376</td>\n",
       "      <td>0.103478</td>\n",
       "    </tr>\n",
       "    <tr>\n",
       "      <th>3</th>\n",
       "      <td>Post-grad</td>\n",
       "      <td>698</td>\n",
       "      <td>0.1396</td>\n",
       "      <td>0.106437</td>\n",
       "    </tr>\n",
       "    <tr>\n",
       "      <th>4</th>\n",
       "      <td>Some college</td>\n",
       "      <td>1620</td>\n",
       "      <td>0.3240</td>\n",
       "      <td>0.323247</td>\n",
       "    </tr>\n",
       "  </tbody>\n",
       "</table>\n",
       "</div>"
      ],
      "text/plain": [
       "             educ  count  Sample  Population\n",
       "0  4-Year College   1147  0.2294    0.186496\n",
       "1              HS   1347  0.2694    0.280342\n",
       "2           No HS    188  0.0376    0.103478\n",
       "3       Post-grad    698  0.1396    0.106437\n",
       "4    Some college   1620  0.3240    0.323247"
      ]
     },
     "execution_count": 158,
     "metadata": {},
     "output_type": "execute_result"
    }
   ],
   "source": [
    "educ = small_sample.groupby([\"educ\"]).size()\n",
    "educ = educ.to_frame('count')\n",
    "educ[\"Sample\"] = educ[\"count\"].div(educ[\"count\"].sum(), axis=0)\n",
    "educ[\"Population\"] = ed_p\n",
    "educ = educ.reset_index()\n",
    "educ"
   ]
  },
  {
   "cell_type": "code",
   "execution_count": 159,
   "id": "wired-sitting",
   "metadata": {},
   "outputs": [],
   "source": [
    "st_p = []\n",
    "for i in states:\n",
    "    st_p.append(poststrat_df.loc[poststrat_df['state'] == i, 'n'].sum()/(poststrat_df[\"n\"].sum()))"
   ]
  },
  {
   "cell_type": "code",
   "execution_count": 160,
   "id": "alone-portal",
   "metadata": {},
   "outputs": [],
   "source": [
    "state = small_sample.groupby([\"state\"]).size()\n",
    "\n",
    "state = state.to_frame('count')\n",
    "state[\"Sample\"] = state[\"count\"].div(state[\"count\"].sum(), axis=0)\n",
    "\n",
    "state[\"Population\"] = st_p\n",
    "\n",
    "state = state.reset_index()\n",
    "#state"
   ]
  },
  {
   "cell_type": "code",
   "execution_count": 161,
   "id": "brazilian-secretary",
   "metadata": {},
   "outputs": [
    {
     "data": {
      "application/vnd.plotly.v1+json": {
       "config": {
        "plotlyServerURL": "https://plot.ly"
       },
       "data": [
        {
         "marker": {
          "color": "blue"
         },
         "mode": "markers",
         "name": "Sample",
         "type": "scatter",
         "x": [
          "18-29",
          "30-39",
          "40-49",
          "50-59",
          "60-69",
          "70+"
         ],
         "xaxis": "x",
         "y": [
          0.2048,
          0.1606,
          0.153,
          0.1692,
          0.164,
          0.1484
         ],
         "yaxis": "y"
        },
        {
         "marker": {
          "color": "red"
         },
         "mode": "markers",
         "name": "Population",
         "type": "scatter",
         "x": [
          "18-29",
          "30-39",
          "40-49",
          "50-59",
          "60-69",
          "70+"
         ],
         "xaxis": "x",
         "y": [
          0.21447796420177648,
          0.1604942034052758,
          0.15826325640378575,
          0.17674189478584376,
          0.15116919557302758,
          0.13885348563029065
         ],
         "yaxis": "y"
        },
        {
         "marker": {
          "color": "blue"
         },
         "mode": "markers",
         "showlegend": false,
         "type": "scatter",
         "x": [
          "Female",
          "Male"
         ],
         "xaxis": "x2",
         "y": [
          0.5652,
          0.4348
         ],
         "yaxis": "y2"
        },
        {
         "marker": {
          "color": "red"
         },
         "mode": "markers",
         "showlegend": false,
         "type": "scatter",
         "x": [
          "Female",
          "Male"
         ],
         "xaxis": "x2",
         "y": [
          0.5152195261786284,
          0.48478047382137157
         ],
         "yaxis": "y2"
        },
        {
         "marker": {
          "color": "blue"
         },
         "mode": "markers",
         "showlegend": false,
         "type": "scatter",
         "x": [
          "Black",
          "Hispanic",
          "Other",
          "White"
         ],
         "xaxis": "x3",
         "y": [
          0.085,
          0.0874,
          0.0724,
          0.7552
         ],
         "yaxis": "y3"
        },
        {
         "marker": {
          "color": "red"
         },
         "mode": "markers",
         "showlegend": false,
         "type": "scatter",
         "x": [
          "Black",
          "Hispanic",
          "Other",
          "White"
         ],
         "xaxis": "x3",
         "y": [
          0.1263615788294329,
          0.08162243394201364,
          0.10566909615450522,
          0.6863468910740482
         ],
         "yaxis": "y3"
        },
        {
         "marker": {
          "color": "blue"
         },
         "mode": "markers",
         "showlegend": false,
         "type": "scatter",
         "x": [
          "4-Year College",
          "HS",
          "No HS",
          "Post-grad",
          "Some college"
         ],
         "xaxis": "x4",
         "y": [
          0.2294,
          0.2694,
          0.0376,
          0.1396,
          0.324
         ],
         "yaxis": "y4"
        },
        {
         "marker": {
          "color": "red"
         },
         "mode": "markers",
         "showlegend": false,
         "type": "scatter",
         "x": [
          "4-Year College",
          "HS",
          "No HS",
          "Post-grad",
          "Some college"
         ],
         "xaxis": "x4",
         "y": [
          0.1864962038049635,
          0.2803424211780613,
          0.10347787891586092,
          0.1064365118061416,
          0.32324698429497273
         ],
         "yaxis": "y4"
        },
        {
         "marker": {
          "color": "blue"
         },
         "mode": "markers",
         "showlegend": false,
         "type": "scatter",
         "x": [
          "AK",
          "AL",
          "AR",
          "AZ",
          "CA",
          "CO",
          "CT",
          "DE",
          "FL",
          "GA",
          "HI",
          "IA",
          "ID",
          "IL",
          "IN",
          "KS",
          "KY",
          "LA",
          "MA",
          "MD",
          "ME",
          "MI",
          "MN",
          "MO",
          "MS",
          "MT",
          "NC",
          "ND",
          "NE",
          "NH",
          "NJ",
          "NM",
          "NV",
          "NY",
          "OH",
          "OK",
          "OR",
          "PA",
          "RI",
          "SC",
          "SD",
          "TN",
          "TX",
          "UT",
          "VA",
          "VT",
          "WA",
          "WI",
          "WV",
          "WY"
         ],
         "xaxis": "x5",
         "y": [
          0.0012,
          0.0122,
          0.0094,
          0.0248,
          0.0944,
          0.018,
          0.0102,
          0.0032,
          0.0726,
          0.035,
          0.004,
          0.0114,
          0.0064,
          0.0404,
          0.0206,
          0.0064,
          0.016,
          0.0124,
          0.0164,
          0.0156,
          0.007,
          0.0302,
          0.0176,
          0.0264,
          0.0076,
          0.0046,
          0.0332,
          0.0038,
          0.0052,
          0.005,
          0.0304,
          0.0072,
          0.011,
          0.0596,
          0.0466,
          0.0094,
          0.0126,
          0.0484,
          0.0018,
          0.016,
          0.003,
          0.0212,
          0.071,
          0.0066,
          0.028,
          0.0024,
          0.0246,
          0.0188,
          0.0088,
          0.0014
         ],
         "yaxis": "y5"
        },
        {
         "marker": {
          "color": "red"
         },
         "mode": "markers",
         "showlegend": false,
         "type": "scatter",
         "x": [
          "AK",
          "AL",
          "AR",
          "AZ",
          "CA",
          "CO",
          "CT",
          "DE",
          "FL",
          "GA",
          "HI",
          "IA",
          "ID",
          "IL",
          "IN",
          "KS",
          "KY",
          "LA",
          "MA",
          "MD",
          "ME",
          "MI",
          "MN",
          "MO",
          "MS",
          "MT",
          "NC",
          "ND",
          "NE",
          "NH",
          "NJ",
          "NM",
          "NV",
          "NY",
          "OH",
          "OK",
          "OR",
          "PA",
          "RI",
          "SC",
          "SD",
          "TN",
          "TX",
          "UT",
          "VA",
          "VT",
          "WA",
          "WI",
          "WV",
          "WY"
         ],
         "xaxis": "x5",
         "y": [
          0.002322987326919177,
          0.01607271583181628,
          0.009603361309532906,
          0.021074551144621426,
          0.11041724055986625,
          0.017423422709701413,
          0.011384183580535615,
          0.003079805164997867,
          0.06444463887144851,
          0.03176211561985213,
          0.004457560324573602,
          0.010135742758137754,
          0.005226175398314401,
          0.03966079169729552,
          0.021345769373620673,
          0.009093904581953091,
          0.01460525352922622,
          0.015124962251581789,
          0.021723806209160472,
          0.01865965919331413,
          0.0046415490489202125,
          0.03271741155149509,
          0.017688722622331392,
          0.02009280664234008,
          0.009760511869929834,
          0.003519936170432663,
          0.0324669599592235,
          0.0024653114542223897,
          0.005948306299329435,
          0.004593147551808546,
          0.026793645253324012,
          0.006500955355027258,
          0.008640829448186994,
          0.05989149248456774,
          0.038521340698094396,
          0.012356949926845539,
          0.013160505829920273,
          0.04270461857661366,
          0.0034589713833951138,
          0.016331672815142216,
          0.002784712307686509,
          0.021725259523535174,
          0.07817419607321723,
          0.008689318494357378,
          0.02668699298999502,
          0.0021704856215401186,
          0.02265472848285663,
          0.01903494261095728,
          0.0063117705940457965,
          0.0018933009241893133
         ],
         "yaxis": "y5"
        }
       ],
       "layout": {
        "annotations": [
         {
          "font": {
           "size": 16
          },
          "showarrow": false,
          "text": "Age",
          "x": 0.15015,
          "xanchor": "center",
          "xref": "paper",
          "y": 0.9999999999999999,
          "yanchor": "bottom",
          "yref": "paper"
         },
         {
          "font": {
           "size": 16
          },
          "showarrow": false,
          "text": "Gender",
          "x": 0.3758,
          "xanchor": "center",
          "xref": "paper",
          "y": 0.9999999999999999,
          "yanchor": "bottom",
          "yref": "paper"
         },
         {
          "font": {
           "size": 16
          },
          "showarrow": false,
          "text": "Ethnicity",
          "x": 0.580975,
          "xanchor": "center",
          "xref": "paper",
          "y": 0.9999999999999999,
          "yanchor": "bottom",
          "yref": "paper"
         },
         {
          "font": {
           "size": 16
          },
          "showarrow": false,
          "text": "Education",
          "x": 0.8703249999999999,
          "xanchor": "center",
          "xref": "paper",
          "y": 0.9999999999999999,
          "yanchor": "bottom",
          "yref": "paper"
         },
         {
          "font": {
           "size": 16
          },
          "showarrow": false,
          "text": "States",
          "x": 0.49999999999999994,
          "xanchor": "center",
          "xref": "paper",
          "y": 0.46499999999999997,
          "yanchor": "bottom",
          "yref": "paper"
         }
        ],
        "height": 800,
        "template": {
         "data": {
          "bar": [
           {
            "error_x": {
             "color": "#2a3f5f"
            },
            "error_y": {
             "color": "#2a3f5f"
            },
            "marker": {
             "line": {
              "color": "#E5ECF6",
              "width": 0.5
             }
            },
            "type": "bar"
           }
          ],
          "barpolar": [
           {
            "marker": {
             "line": {
              "color": "#E5ECF6",
              "width": 0.5
             }
            },
            "type": "barpolar"
           }
          ],
          "carpet": [
           {
            "aaxis": {
             "endlinecolor": "#2a3f5f",
             "gridcolor": "white",
             "linecolor": "white",
             "minorgridcolor": "white",
             "startlinecolor": "#2a3f5f"
            },
            "baxis": {
             "endlinecolor": "#2a3f5f",
             "gridcolor": "white",
             "linecolor": "white",
             "minorgridcolor": "white",
             "startlinecolor": "#2a3f5f"
            },
            "type": "carpet"
           }
          ],
          "choropleth": [
           {
            "colorbar": {
             "outlinewidth": 0,
             "ticks": ""
            },
            "type": "choropleth"
           }
          ],
          "contour": [
           {
            "colorbar": {
             "outlinewidth": 0,
             "ticks": ""
            },
            "colorscale": [
             [
              0,
              "#0d0887"
             ],
             [
              0.1111111111111111,
              "#46039f"
             ],
             [
              0.2222222222222222,
              "#7201a8"
             ],
             [
              0.3333333333333333,
              "#9c179e"
             ],
             [
              0.4444444444444444,
              "#bd3786"
             ],
             [
              0.5555555555555556,
              "#d8576b"
             ],
             [
              0.6666666666666666,
              "#ed7953"
             ],
             [
              0.7777777777777778,
              "#fb9f3a"
             ],
             [
              0.8888888888888888,
              "#fdca26"
             ],
             [
              1,
              "#f0f921"
             ]
            ],
            "type": "contour"
           }
          ],
          "contourcarpet": [
           {
            "colorbar": {
             "outlinewidth": 0,
             "ticks": ""
            },
            "type": "contourcarpet"
           }
          ],
          "heatmap": [
           {
            "colorbar": {
             "outlinewidth": 0,
             "ticks": ""
            },
            "colorscale": [
             [
              0,
              "#0d0887"
             ],
             [
              0.1111111111111111,
              "#46039f"
             ],
             [
              0.2222222222222222,
              "#7201a8"
             ],
             [
              0.3333333333333333,
              "#9c179e"
             ],
             [
              0.4444444444444444,
              "#bd3786"
             ],
             [
              0.5555555555555556,
              "#d8576b"
             ],
             [
              0.6666666666666666,
              "#ed7953"
             ],
             [
              0.7777777777777778,
              "#fb9f3a"
             ],
             [
              0.8888888888888888,
              "#fdca26"
             ],
             [
              1,
              "#f0f921"
             ]
            ],
            "type": "heatmap"
           }
          ],
          "heatmapgl": [
           {
            "colorbar": {
             "outlinewidth": 0,
             "ticks": ""
            },
            "colorscale": [
             [
              0,
              "#0d0887"
             ],
             [
              0.1111111111111111,
              "#46039f"
             ],
             [
              0.2222222222222222,
              "#7201a8"
             ],
             [
              0.3333333333333333,
              "#9c179e"
             ],
             [
              0.4444444444444444,
              "#bd3786"
             ],
             [
              0.5555555555555556,
              "#d8576b"
             ],
             [
              0.6666666666666666,
              "#ed7953"
             ],
             [
              0.7777777777777778,
              "#fb9f3a"
             ],
             [
              0.8888888888888888,
              "#fdca26"
             ],
             [
              1,
              "#f0f921"
             ]
            ],
            "type": "heatmapgl"
           }
          ],
          "histogram": [
           {
            "marker": {
             "colorbar": {
              "outlinewidth": 0,
              "ticks": ""
             }
            },
            "type": "histogram"
           }
          ],
          "histogram2d": [
           {
            "colorbar": {
             "outlinewidth": 0,
             "ticks": ""
            },
            "colorscale": [
             [
              0,
              "#0d0887"
             ],
             [
              0.1111111111111111,
              "#46039f"
             ],
             [
              0.2222222222222222,
              "#7201a8"
             ],
             [
              0.3333333333333333,
              "#9c179e"
             ],
             [
              0.4444444444444444,
              "#bd3786"
             ],
             [
              0.5555555555555556,
              "#d8576b"
             ],
             [
              0.6666666666666666,
              "#ed7953"
             ],
             [
              0.7777777777777778,
              "#fb9f3a"
             ],
             [
              0.8888888888888888,
              "#fdca26"
             ],
             [
              1,
              "#f0f921"
             ]
            ],
            "type": "histogram2d"
           }
          ],
          "histogram2dcontour": [
           {
            "colorbar": {
             "outlinewidth": 0,
             "ticks": ""
            },
            "colorscale": [
             [
              0,
              "#0d0887"
             ],
             [
              0.1111111111111111,
              "#46039f"
             ],
             [
              0.2222222222222222,
              "#7201a8"
             ],
             [
              0.3333333333333333,
              "#9c179e"
             ],
             [
              0.4444444444444444,
              "#bd3786"
             ],
             [
              0.5555555555555556,
              "#d8576b"
             ],
             [
              0.6666666666666666,
              "#ed7953"
             ],
             [
              0.7777777777777778,
              "#fb9f3a"
             ],
             [
              0.8888888888888888,
              "#fdca26"
             ],
             [
              1,
              "#f0f921"
             ]
            ],
            "type": "histogram2dcontour"
           }
          ],
          "mesh3d": [
           {
            "colorbar": {
             "outlinewidth": 0,
             "ticks": ""
            },
            "type": "mesh3d"
           }
          ],
          "parcoords": [
           {
            "line": {
             "colorbar": {
              "outlinewidth": 0,
              "ticks": ""
             }
            },
            "type": "parcoords"
           }
          ],
          "pie": [
           {
            "automargin": true,
            "type": "pie"
           }
          ],
          "scatter": [
           {
            "marker": {
             "colorbar": {
              "outlinewidth": 0,
              "ticks": ""
             }
            },
            "type": "scatter"
           }
          ],
          "scatter3d": [
           {
            "line": {
             "colorbar": {
              "outlinewidth": 0,
              "ticks": ""
             }
            },
            "marker": {
             "colorbar": {
              "outlinewidth": 0,
              "ticks": ""
             }
            },
            "type": "scatter3d"
           }
          ],
          "scattercarpet": [
           {
            "marker": {
             "colorbar": {
              "outlinewidth": 0,
              "ticks": ""
             }
            },
            "type": "scattercarpet"
           }
          ],
          "scattergeo": [
           {
            "marker": {
             "colorbar": {
              "outlinewidth": 0,
              "ticks": ""
             }
            },
            "type": "scattergeo"
           }
          ],
          "scattergl": [
           {
            "marker": {
             "colorbar": {
              "outlinewidth": 0,
              "ticks": ""
             }
            },
            "type": "scattergl"
           }
          ],
          "scattermapbox": [
           {
            "marker": {
             "colorbar": {
              "outlinewidth": 0,
              "ticks": ""
             }
            },
            "type": "scattermapbox"
           }
          ],
          "scatterpolar": [
           {
            "marker": {
             "colorbar": {
              "outlinewidth": 0,
              "ticks": ""
             }
            },
            "type": "scatterpolar"
           }
          ],
          "scatterpolargl": [
           {
            "marker": {
             "colorbar": {
              "outlinewidth": 0,
              "ticks": ""
             }
            },
            "type": "scatterpolargl"
           }
          ],
          "scatterternary": [
           {
            "marker": {
             "colorbar": {
              "outlinewidth": 0,
              "ticks": ""
             }
            },
            "type": "scatterternary"
           }
          ],
          "surface": [
           {
            "colorbar": {
             "outlinewidth": 0,
             "ticks": ""
            },
            "colorscale": [
             [
              0,
              "#0d0887"
             ],
             [
              0.1111111111111111,
              "#46039f"
             ],
             [
              0.2222222222222222,
              "#7201a8"
             ],
             [
              0.3333333333333333,
              "#9c179e"
             ],
             [
              0.4444444444444444,
              "#bd3786"
             ],
             [
              0.5555555555555556,
              "#d8576b"
             ],
             [
              0.6666666666666666,
              "#ed7953"
             ],
             [
              0.7777777777777778,
              "#fb9f3a"
             ],
             [
              0.8888888888888888,
              "#fdca26"
             ],
             [
              1,
              "#f0f921"
             ]
            ],
            "type": "surface"
           }
          ],
          "table": [
           {
            "cells": {
             "fill": {
              "color": "#EBF0F8"
             },
             "line": {
              "color": "white"
             }
            },
            "header": {
             "fill": {
              "color": "#C8D4E3"
             },
             "line": {
              "color": "white"
             }
            },
            "type": "table"
           }
          ]
         },
         "layout": {
          "annotationdefaults": {
           "arrowcolor": "#2a3f5f",
           "arrowhead": 0,
           "arrowwidth": 1
          },
          "autotypenumbers": "strict",
          "coloraxis": {
           "colorbar": {
            "outlinewidth": 0,
            "ticks": ""
           }
          },
          "colorscale": {
           "diverging": [
            [
             0,
             "#8e0152"
            ],
            [
             0.1,
             "#c51b7d"
            ],
            [
             0.2,
             "#de77ae"
            ],
            [
             0.3,
             "#f1b6da"
            ],
            [
             0.4,
             "#fde0ef"
            ],
            [
             0.5,
             "#f7f7f7"
            ],
            [
             0.6,
             "#e6f5d0"
            ],
            [
             0.7,
             "#b8e186"
            ],
            [
             0.8,
             "#7fbc41"
            ],
            [
             0.9,
             "#4d9221"
            ],
            [
             1,
             "#276419"
            ]
           ],
           "sequential": [
            [
             0,
             "#0d0887"
            ],
            [
             0.1111111111111111,
             "#46039f"
            ],
            [
             0.2222222222222222,
             "#7201a8"
            ],
            [
             0.3333333333333333,
             "#9c179e"
            ],
            [
             0.4444444444444444,
             "#bd3786"
            ],
            [
             0.5555555555555556,
             "#d8576b"
            ],
            [
             0.6666666666666666,
             "#ed7953"
            ],
            [
             0.7777777777777778,
             "#fb9f3a"
            ],
            [
             0.8888888888888888,
             "#fdca26"
            ],
            [
             1,
             "#f0f921"
            ]
           ],
           "sequentialminus": [
            [
             0,
             "#0d0887"
            ],
            [
             0.1111111111111111,
             "#46039f"
            ],
            [
             0.2222222222222222,
             "#7201a8"
            ],
            [
             0.3333333333333333,
             "#9c179e"
            ],
            [
             0.4444444444444444,
             "#bd3786"
            ],
            [
             0.5555555555555556,
             "#d8576b"
            ],
            [
             0.6666666666666666,
             "#ed7953"
            ],
            [
             0.7777777777777778,
             "#fb9f3a"
            ],
            [
             0.8888888888888888,
             "#fdca26"
            ],
            [
             1,
             "#f0f921"
            ]
           ]
          },
          "colorway": [
           "#636efa",
           "#EF553B",
           "#00cc96",
           "#ab63fa",
           "#FFA15A",
           "#19d3f3",
           "#FF6692",
           "#B6E880",
           "#FF97FF",
           "#FECB52"
          ],
          "font": {
           "color": "#2a3f5f"
          },
          "geo": {
           "bgcolor": "white",
           "lakecolor": "white",
           "landcolor": "#E5ECF6",
           "showlakes": true,
           "showland": true,
           "subunitcolor": "white"
          },
          "hoverlabel": {
           "align": "left"
          },
          "hovermode": "closest",
          "mapbox": {
           "style": "light"
          },
          "paper_bgcolor": "white",
          "plot_bgcolor": "#E5ECF6",
          "polar": {
           "angularaxis": {
            "gridcolor": "white",
            "linecolor": "white",
            "ticks": ""
           },
           "bgcolor": "#E5ECF6",
           "radialaxis": {
            "gridcolor": "white",
            "linecolor": "white",
            "ticks": ""
           }
          },
          "scene": {
           "xaxis": {
            "backgroundcolor": "#E5ECF6",
            "gridcolor": "white",
            "gridwidth": 2,
            "linecolor": "white",
            "showbackground": true,
            "ticks": "",
            "zerolinecolor": "white"
           },
           "yaxis": {
            "backgroundcolor": "#E5ECF6",
            "gridcolor": "white",
            "gridwidth": 2,
            "linecolor": "white",
            "showbackground": true,
            "ticks": "",
            "zerolinecolor": "white"
           },
           "zaxis": {
            "backgroundcolor": "#E5ECF6",
            "gridcolor": "white",
            "gridwidth": 2,
            "linecolor": "white",
            "showbackground": true,
            "ticks": "",
            "zerolinecolor": "white"
           }
          },
          "shapedefaults": {
           "line": {
            "color": "#2a3f5f"
           }
          },
          "ternary": {
           "aaxis": {
            "gridcolor": "white",
            "linecolor": "white",
            "ticks": ""
           },
           "baxis": {
            "gridcolor": "white",
            "linecolor": "white",
            "ticks": ""
           },
           "bgcolor": "#E5ECF6",
           "caxis": {
            "gridcolor": "white",
            "linecolor": "white",
            "ticks": ""
           }
          },
          "title": {
           "x": 0.05
          },
          "xaxis": {
           "automargin": true,
           "gridcolor": "white",
           "linecolor": "white",
           "ticks": "",
           "title": {
            "standoff": 15
           },
           "zerolinecolor": "white",
           "zerolinewidth": 2
          },
          "yaxis": {
           "automargin": true,
           "gridcolor": "white",
           "linecolor": "white",
           "ticks": "",
           "title": {
            "standoff": 15
           },
           "zerolinecolor": "white",
           "zerolinewidth": 2
          }
         }
        },
        "title": {
         "text": "Sample vs Population Proportions"
        },
        "width": 1900,
        "xaxis": {
         "anchor": "y",
         "domain": [
          0,
          0.3003
         ]
        },
        "xaxis2": {
         "anchor": "y2",
         "domain": [
          0.33030000000000004,
          0.42130000000000006
         ]
        },
        "xaxis3": {
         "anchor": "y3",
         "domain": [
          0.45130000000000003,
          0.71065
         ]
        },
        "xaxis4": {
         "anchor": "y4",
         "domain": [
          0.7406499999999999,
          0.9999999999999999
         ]
        },
        "xaxis5": {
         "anchor": "y5",
         "domain": [
          0,
          0.9999999999999999
         ]
        },
        "yaxis": {
         "anchor": "x",
         "domain": [
          0.5349999999999999,
          0.9999999999999999
         ],
         "title": {
          "text": "Proportion"
         }
        },
        "yaxis2": {
         "anchor": "x2",
         "domain": [
          0.5349999999999999,
          0.9999999999999999
         ]
        },
        "yaxis3": {
         "anchor": "x3",
         "domain": [
          0.5349999999999999,
          0.9999999999999999
         ]
        },
        "yaxis4": {
         "anchor": "x4",
         "domain": [
          0.5349999999999999,
          0.9999999999999999
         ]
        },
        "yaxis5": {
         "anchor": "x5",
         "domain": [
          0,
          0.46499999999999997
         ],
         "title": {
          "text": "Proportion"
         }
        }
       }
      },
      "text/html": [
       "<div>                            <div id=\"62755076-dded-45ac-ae03-553ef04691d5\" class=\"plotly-graph-div\" style=\"height:800px; width:1900px;\"></div>            <script type=\"text/javascript\">                require([\"plotly\"], function(Plotly) {                    window.PLOTLYENV=window.PLOTLYENV || {};                                    if (document.getElementById(\"62755076-dded-45ac-ae03-553ef04691d5\")) {                    Plotly.newPlot(                        \"62755076-dded-45ac-ae03-553ef04691d5\",                        [{\"marker\": {\"color\": \"blue\"}, \"mode\": \"markers\", \"name\": \"Sample\", \"type\": \"scatter\", \"x\": [\"18-29\", \"30-39\", \"40-49\", \"50-59\", \"60-69\", \"70+\"], \"xaxis\": \"x\", \"y\": [0.2048, 0.1606, 0.153, 0.1692, 0.164, 0.1484], \"yaxis\": \"y\"}, {\"marker\": {\"color\": \"red\"}, \"mode\": \"markers\", \"name\": \"Population\", \"type\": \"scatter\", \"x\": [\"18-29\", \"30-39\", \"40-49\", \"50-59\", \"60-69\", \"70+\"], \"xaxis\": \"x\", \"y\": [0.21447796420177648, 0.1604942034052758, 0.15826325640378575, 0.17674189478584376, 0.15116919557302758, 0.13885348563029065], \"yaxis\": \"y\"}, {\"marker\": {\"color\": \"blue\"}, \"mode\": \"markers\", \"showlegend\": false, \"type\": \"scatter\", \"x\": [\"Female\", \"Male\"], \"xaxis\": \"x2\", \"y\": [0.5652, 0.4348], \"yaxis\": \"y2\"}, {\"marker\": {\"color\": \"red\"}, \"mode\": \"markers\", \"showlegend\": false, \"type\": \"scatter\", \"x\": [\"Female\", \"Male\"], \"xaxis\": \"x2\", \"y\": [0.5152195261786284, 0.48478047382137157], \"yaxis\": \"y2\"}, {\"marker\": {\"color\": \"blue\"}, \"mode\": \"markers\", \"showlegend\": false, \"type\": \"scatter\", \"x\": [\"Black\", \"Hispanic\", \"Other\", \"White\"], \"xaxis\": \"x3\", \"y\": [0.085, 0.0874, 0.0724, 0.7552], \"yaxis\": \"y3\"}, {\"marker\": {\"color\": \"red\"}, \"mode\": \"markers\", \"showlegend\": false, \"type\": \"scatter\", \"x\": [\"Black\", \"Hispanic\", \"Other\", \"White\"], \"xaxis\": \"x3\", \"y\": [0.1263615788294329, 0.08162243394201364, 0.10566909615450522, 0.6863468910740482], \"yaxis\": \"y3\"}, {\"marker\": {\"color\": \"blue\"}, \"mode\": \"markers\", \"showlegend\": false, \"type\": \"scatter\", \"x\": [\"4-Year College\", \"HS\", \"No HS\", \"Post-grad\", \"Some college\"], \"xaxis\": \"x4\", \"y\": [0.2294, 0.2694, 0.0376, 0.1396, 0.324], \"yaxis\": \"y4\"}, {\"marker\": {\"color\": \"red\"}, \"mode\": \"markers\", \"showlegend\": false, \"type\": \"scatter\", \"x\": [\"4-Year College\", \"HS\", \"No HS\", \"Post-grad\", \"Some college\"], \"xaxis\": \"x4\", \"y\": [0.1864962038049635, 0.2803424211780613, 0.10347787891586092, 0.1064365118061416, 0.32324698429497273], \"yaxis\": \"y4\"}, {\"marker\": {\"color\": \"blue\"}, \"mode\": \"markers\", \"showlegend\": false, \"type\": \"scatter\", \"x\": [\"AK\", \"AL\", \"AR\", \"AZ\", \"CA\", \"CO\", \"CT\", \"DE\", \"FL\", \"GA\", \"HI\", \"IA\", \"ID\", \"IL\", \"IN\", \"KS\", \"KY\", \"LA\", \"MA\", \"MD\", \"ME\", \"MI\", \"MN\", \"MO\", \"MS\", \"MT\", \"NC\", \"ND\", \"NE\", \"NH\", \"NJ\", \"NM\", \"NV\", \"NY\", \"OH\", \"OK\", \"OR\", \"PA\", \"RI\", \"SC\", \"SD\", \"TN\", \"TX\", \"UT\", \"VA\", \"VT\", \"WA\", \"WI\", \"WV\", \"WY\"], \"xaxis\": \"x5\", \"y\": [0.0012, 0.0122, 0.0094, 0.0248, 0.0944, 0.018, 0.0102, 0.0032, 0.0726, 0.035, 0.004, 0.0114, 0.0064, 0.0404, 0.0206, 0.0064, 0.016, 0.0124, 0.0164, 0.0156, 0.007, 0.0302, 0.0176, 0.0264, 0.0076, 0.0046, 0.0332, 0.0038, 0.0052, 0.005, 0.0304, 0.0072, 0.011, 0.0596, 0.0466, 0.0094, 0.0126, 0.0484, 0.0018, 0.016, 0.003, 0.0212, 0.071, 0.0066, 0.028, 0.0024, 0.0246, 0.0188, 0.0088, 0.0014], \"yaxis\": \"y5\"}, {\"marker\": {\"color\": \"red\"}, \"mode\": \"markers\", \"showlegend\": false, \"type\": \"scatter\", \"x\": [\"AK\", \"AL\", \"AR\", \"AZ\", \"CA\", \"CO\", \"CT\", \"DE\", \"FL\", \"GA\", \"HI\", \"IA\", \"ID\", \"IL\", \"IN\", \"KS\", \"KY\", \"LA\", \"MA\", \"MD\", \"ME\", \"MI\", \"MN\", \"MO\", \"MS\", \"MT\", \"NC\", \"ND\", \"NE\", \"NH\", \"NJ\", \"NM\", \"NV\", \"NY\", \"OH\", \"OK\", \"OR\", \"PA\", \"RI\", \"SC\", \"SD\", \"TN\", \"TX\", \"UT\", \"VA\", \"VT\", \"WA\", \"WI\", \"WV\", \"WY\"], \"xaxis\": \"x5\", \"y\": [0.002322987326919177, 0.01607271583181628, 0.009603361309532906, 0.021074551144621426, 0.11041724055986625, 0.017423422709701413, 0.011384183580535615, 0.003079805164997867, 0.06444463887144851, 0.03176211561985213, 0.004457560324573602, 0.010135742758137754, 0.005226175398314401, 0.03966079169729552, 0.021345769373620673, 0.009093904581953091, 0.01460525352922622, 0.015124962251581789, 0.021723806209160472, 0.01865965919331413, 0.0046415490489202125, 0.03271741155149509, 0.017688722622331392, 0.02009280664234008, 0.009760511869929834, 0.003519936170432663, 0.0324669599592235, 0.0024653114542223897, 0.005948306299329435, 0.004593147551808546, 0.026793645253324012, 0.006500955355027258, 0.008640829448186994, 0.05989149248456774, 0.038521340698094396, 0.012356949926845539, 0.013160505829920273, 0.04270461857661366, 0.0034589713833951138, 0.016331672815142216, 0.002784712307686509, 0.021725259523535174, 0.07817419607321723, 0.008689318494357378, 0.02668699298999502, 0.0021704856215401186, 0.02265472848285663, 0.01903494261095728, 0.0063117705940457965, 0.0018933009241893133], \"yaxis\": \"y5\"}],                        {\"annotations\": [{\"font\": {\"size\": 16}, \"showarrow\": false, \"text\": \"Age\", \"x\": 0.15015, \"xanchor\": \"center\", \"xref\": \"paper\", \"y\": 0.9999999999999999, \"yanchor\": \"bottom\", \"yref\": \"paper\"}, {\"font\": {\"size\": 16}, \"showarrow\": false, \"text\": \"Gender\", \"x\": 0.3758, \"xanchor\": \"center\", \"xref\": \"paper\", \"y\": 0.9999999999999999, \"yanchor\": \"bottom\", \"yref\": \"paper\"}, {\"font\": {\"size\": 16}, \"showarrow\": false, \"text\": \"Ethnicity\", \"x\": 0.580975, \"xanchor\": \"center\", \"xref\": \"paper\", \"y\": 0.9999999999999999, \"yanchor\": \"bottom\", \"yref\": \"paper\"}, {\"font\": {\"size\": 16}, \"showarrow\": false, \"text\": \"Education\", \"x\": 0.8703249999999999, \"xanchor\": \"center\", \"xref\": \"paper\", \"y\": 0.9999999999999999, \"yanchor\": \"bottom\", \"yref\": \"paper\"}, {\"font\": {\"size\": 16}, \"showarrow\": false, \"text\": \"States\", \"x\": 0.49999999999999994, \"xanchor\": \"center\", \"xref\": \"paper\", \"y\": 0.46499999999999997, \"yanchor\": \"bottom\", \"yref\": \"paper\"}], \"height\": 800, \"template\": {\"data\": {\"bar\": [{\"error_x\": {\"color\": \"#2a3f5f\"}, \"error_y\": {\"color\": \"#2a3f5f\"}, \"marker\": {\"line\": {\"color\": \"#E5ECF6\", \"width\": 0.5}}, \"type\": \"bar\"}], \"barpolar\": [{\"marker\": {\"line\": {\"color\": \"#E5ECF6\", \"width\": 0.5}}, \"type\": \"barpolar\"}], \"carpet\": [{\"aaxis\": {\"endlinecolor\": \"#2a3f5f\", \"gridcolor\": \"white\", \"linecolor\": \"white\", \"minorgridcolor\": \"white\", \"startlinecolor\": \"#2a3f5f\"}, \"baxis\": {\"endlinecolor\": \"#2a3f5f\", \"gridcolor\": \"white\", \"linecolor\": \"white\", \"minorgridcolor\": \"white\", \"startlinecolor\": \"#2a3f5f\"}, \"type\": \"carpet\"}], \"choropleth\": [{\"colorbar\": {\"outlinewidth\": 0, \"ticks\": \"\"}, \"type\": \"choropleth\"}], \"contour\": [{\"colorbar\": {\"outlinewidth\": 0, \"ticks\": \"\"}, \"colorscale\": [[0.0, \"#0d0887\"], [0.1111111111111111, \"#46039f\"], [0.2222222222222222, \"#7201a8\"], [0.3333333333333333, \"#9c179e\"], [0.4444444444444444, \"#bd3786\"], [0.5555555555555556, \"#d8576b\"], [0.6666666666666666, \"#ed7953\"], [0.7777777777777778, \"#fb9f3a\"], [0.8888888888888888, \"#fdca26\"], [1.0, \"#f0f921\"]], \"type\": \"contour\"}], \"contourcarpet\": [{\"colorbar\": {\"outlinewidth\": 0, \"ticks\": \"\"}, \"type\": \"contourcarpet\"}], \"heatmap\": [{\"colorbar\": {\"outlinewidth\": 0, \"ticks\": \"\"}, \"colorscale\": [[0.0, \"#0d0887\"], [0.1111111111111111, \"#46039f\"], [0.2222222222222222, \"#7201a8\"], [0.3333333333333333, \"#9c179e\"], [0.4444444444444444, \"#bd3786\"], [0.5555555555555556, \"#d8576b\"], [0.6666666666666666, \"#ed7953\"], [0.7777777777777778, \"#fb9f3a\"], [0.8888888888888888, \"#fdca26\"], [1.0, \"#f0f921\"]], \"type\": \"heatmap\"}], \"heatmapgl\": [{\"colorbar\": {\"outlinewidth\": 0, \"ticks\": \"\"}, \"colorscale\": [[0.0, \"#0d0887\"], [0.1111111111111111, \"#46039f\"], [0.2222222222222222, \"#7201a8\"], [0.3333333333333333, \"#9c179e\"], [0.4444444444444444, \"#bd3786\"], [0.5555555555555556, \"#d8576b\"], [0.6666666666666666, \"#ed7953\"], [0.7777777777777778, \"#fb9f3a\"], [0.8888888888888888, \"#fdca26\"], [1.0, \"#f0f921\"]], \"type\": \"heatmapgl\"}], \"histogram\": [{\"marker\": {\"colorbar\": {\"outlinewidth\": 0, \"ticks\": \"\"}}, \"type\": \"histogram\"}], \"histogram2d\": [{\"colorbar\": {\"outlinewidth\": 0, \"ticks\": \"\"}, \"colorscale\": [[0.0, \"#0d0887\"], [0.1111111111111111, \"#46039f\"], [0.2222222222222222, \"#7201a8\"], [0.3333333333333333, \"#9c179e\"], [0.4444444444444444, \"#bd3786\"], [0.5555555555555556, \"#d8576b\"], [0.6666666666666666, \"#ed7953\"], [0.7777777777777778, \"#fb9f3a\"], [0.8888888888888888, \"#fdca26\"], [1.0, \"#f0f921\"]], \"type\": \"histogram2d\"}], \"histogram2dcontour\": [{\"colorbar\": {\"outlinewidth\": 0, \"ticks\": \"\"}, \"colorscale\": [[0.0, \"#0d0887\"], [0.1111111111111111, \"#46039f\"], [0.2222222222222222, \"#7201a8\"], [0.3333333333333333, \"#9c179e\"], [0.4444444444444444, \"#bd3786\"], [0.5555555555555556, \"#d8576b\"], [0.6666666666666666, \"#ed7953\"], [0.7777777777777778, \"#fb9f3a\"], [0.8888888888888888, \"#fdca26\"], [1.0, \"#f0f921\"]], \"type\": \"histogram2dcontour\"}], \"mesh3d\": [{\"colorbar\": {\"outlinewidth\": 0, \"ticks\": \"\"}, \"type\": \"mesh3d\"}], \"parcoords\": [{\"line\": {\"colorbar\": {\"outlinewidth\": 0, \"ticks\": \"\"}}, \"type\": \"parcoords\"}], \"pie\": [{\"automargin\": true, \"type\": \"pie\"}], \"scatter\": [{\"marker\": {\"colorbar\": {\"outlinewidth\": 0, \"ticks\": \"\"}}, \"type\": \"scatter\"}], \"scatter3d\": [{\"line\": {\"colorbar\": {\"outlinewidth\": 0, \"ticks\": \"\"}}, \"marker\": {\"colorbar\": {\"outlinewidth\": 0, \"ticks\": \"\"}}, \"type\": \"scatter3d\"}], \"scattercarpet\": [{\"marker\": {\"colorbar\": {\"outlinewidth\": 0, \"ticks\": \"\"}}, \"type\": \"scattercarpet\"}], \"scattergeo\": [{\"marker\": {\"colorbar\": {\"outlinewidth\": 0, \"ticks\": \"\"}}, \"type\": \"scattergeo\"}], \"scattergl\": [{\"marker\": {\"colorbar\": {\"outlinewidth\": 0, \"ticks\": \"\"}}, \"type\": \"scattergl\"}], \"scattermapbox\": [{\"marker\": {\"colorbar\": {\"outlinewidth\": 0, \"ticks\": \"\"}}, \"type\": \"scattermapbox\"}], \"scatterpolar\": [{\"marker\": {\"colorbar\": {\"outlinewidth\": 0, \"ticks\": \"\"}}, \"type\": \"scatterpolar\"}], \"scatterpolargl\": [{\"marker\": {\"colorbar\": {\"outlinewidth\": 0, \"ticks\": \"\"}}, \"type\": \"scatterpolargl\"}], \"scatterternary\": [{\"marker\": {\"colorbar\": {\"outlinewidth\": 0, \"ticks\": \"\"}}, \"type\": \"scatterternary\"}], \"surface\": [{\"colorbar\": {\"outlinewidth\": 0, \"ticks\": \"\"}, \"colorscale\": [[0.0, \"#0d0887\"], [0.1111111111111111, \"#46039f\"], [0.2222222222222222, \"#7201a8\"], [0.3333333333333333, \"#9c179e\"], [0.4444444444444444, \"#bd3786\"], [0.5555555555555556, \"#d8576b\"], [0.6666666666666666, \"#ed7953\"], [0.7777777777777778, \"#fb9f3a\"], [0.8888888888888888, \"#fdca26\"], [1.0, \"#f0f921\"]], \"type\": \"surface\"}], \"table\": [{\"cells\": {\"fill\": {\"color\": \"#EBF0F8\"}, \"line\": {\"color\": \"white\"}}, \"header\": {\"fill\": {\"color\": \"#C8D4E3\"}, \"line\": {\"color\": \"white\"}}, \"type\": \"table\"}]}, \"layout\": {\"annotationdefaults\": {\"arrowcolor\": \"#2a3f5f\", \"arrowhead\": 0, \"arrowwidth\": 1}, \"autotypenumbers\": \"strict\", \"coloraxis\": {\"colorbar\": {\"outlinewidth\": 0, \"ticks\": \"\"}}, \"colorscale\": {\"diverging\": [[0, \"#8e0152\"], [0.1, \"#c51b7d\"], [0.2, \"#de77ae\"], [0.3, \"#f1b6da\"], [0.4, \"#fde0ef\"], [0.5, \"#f7f7f7\"], [0.6, \"#e6f5d0\"], [0.7, \"#b8e186\"], [0.8, \"#7fbc41\"], [0.9, \"#4d9221\"], [1, \"#276419\"]], \"sequential\": [[0.0, \"#0d0887\"], [0.1111111111111111, \"#46039f\"], [0.2222222222222222, \"#7201a8\"], [0.3333333333333333, \"#9c179e\"], [0.4444444444444444, \"#bd3786\"], [0.5555555555555556, \"#d8576b\"], [0.6666666666666666, \"#ed7953\"], [0.7777777777777778, \"#fb9f3a\"], [0.8888888888888888, \"#fdca26\"], [1.0, \"#f0f921\"]], \"sequentialminus\": [[0.0, \"#0d0887\"], [0.1111111111111111, \"#46039f\"], [0.2222222222222222, \"#7201a8\"], [0.3333333333333333, \"#9c179e\"], [0.4444444444444444, \"#bd3786\"], [0.5555555555555556, \"#d8576b\"], [0.6666666666666666, \"#ed7953\"], [0.7777777777777778, \"#fb9f3a\"], [0.8888888888888888, \"#fdca26\"], [1.0, \"#f0f921\"]]}, \"colorway\": [\"#636efa\", \"#EF553B\", \"#00cc96\", \"#ab63fa\", \"#FFA15A\", \"#19d3f3\", \"#FF6692\", \"#B6E880\", \"#FF97FF\", \"#FECB52\"], \"font\": {\"color\": \"#2a3f5f\"}, \"geo\": {\"bgcolor\": \"white\", \"lakecolor\": \"white\", \"landcolor\": \"#E5ECF6\", \"showlakes\": true, \"showland\": true, \"subunitcolor\": \"white\"}, \"hoverlabel\": {\"align\": \"left\"}, \"hovermode\": \"closest\", \"mapbox\": {\"style\": \"light\"}, \"paper_bgcolor\": \"white\", \"plot_bgcolor\": \"#E5ECF6\", \"polar\": {\"angularaxis\": {\"gridcolor\": \"white\", \"linecolor\": \"white\", \"ticks\": \"\"}, \"bgcolor\": \"#E5ECF6\", \"radialaxis\": {\"gridcolor\": \"white\", \"linecolor\": \"white\", \"ticks\": \"\"}}, \"scene\": {\"xaxis\": {\"backgroundcolor\": \"#E5ECF6\", \"gridcolor\": \"white\", \"gridwidth\": 2, \"linecolor\": \"white\", \"showbackground\": true, \"ticks\": \"\", \"zerolinecolor\": \"white\"}, \"yaxis\": {\"backgroundcolor\": \"#E5ECF6\", \"gridcolor\": \"white\", \"gridwidth\": 2, \"linecolor\": \"white\", \"showbackground\": true, \"ticks\": \"\", \"zerolinecolor\": \"white\"}, \"zaxis\": {\"backgroundcolor\": \"#E5ECF6\", \"gridcolor\": \"white\", \"gridwidth\": 2, \"linecolor\": \"white\", \"showbackground\": true, \"ticks\": \"\", \"zerolinecolor\": \"white\"}}, \"shapedefaults\": {\"line\": {\"color\": \"#2a3f5f\"}}, \"ternary\": {\"aaxis\": {\"gridcolor\": \"white\", \"linecolor\": \"white\", \"ticks\": \"\"}, \"baxis\": {\"gridcolor\": \"white\", \"linecolor\": \"white\", \"ticks\": \"\"}, \"bgcolor\": \"#E5ECF6\", \"caxis\": {\"gridcolor\": \"white\", \"linecolor\": \"white\", \"ticks\": \"\"}}, \"title\": {\"x\": 0.05}, \"xaxis\": {\"automargin\": true, \"gridcolor\": \"white\", \"linecolor\": \"white\", \"ticks\": \"\", \"title\": {\"standoff\": 15}, \"zerolinecolor\": \"white\", \"zerolinewidth\": 2}, \"yaxis\": {\"automargin\": true, \"gridcolor\": \"white\", \"linecolor\": \"white\", \"ticks\": \"\", \"title\": {\"standoff\": 15}, \"zerolinecolor\": \"white\", \"zerolinewidth\": 2}}}, \"title\": {\"text\": \"Sample vs Population Proportions\"}, \"width\": 1900, \"xaxis\": {\"anchor\": \"y\", \"domain\": [0.0, 0.3003]}, \"xaxis2\": {\"anchor\": \"y2\", \"domain\": [0.33030000000000004, 0.42130000000000006]}, \"xaxis3\": {\"anchor\": \"y3\", \"domain\": [0.45130000000000003, 0.71065]}, \"xaxis4\": {\"anchor\": \"y4\", \"domain\": [0.7406499999999999, 0.9999999999999999]}, \"xaxis5\": {\"anchor\": \"y5\", \"domain\": [0.0, 0.9999999999999999]}, \"yaxis\": {\"anchor\": \"x\", \"domain\": [0.5349999999999999, 0.9999999999999999], \"title\": {\"text\": \"Proportion\"}}, \"yaxis2\": {\"anchor\": \"x2\", \"domain\": [0.5349999999999999, 0.9999999999999999]}, \"yaxis3\": {\"anchor\": \"x3\", \"domain\": [0.5349999999999999, 0.9999999999999999]}, \"yaxis4\": {\"anchor\": \"x4\", \"domain\": [0.5349999999999999, 0.9999999999999999]}, \"yaxis5\": {\"anchor\": \"x5\", \"domain\": [0.0, 0.46499999999999997], \"title\": {\"text\": \"Proportion\"}}},                        {\"responsive\": true}                    ).then(function(){\n",
       "                            \n",
       "var gd = document.getElementById('62755076-dded-45ac-ae03-553ef04691d5');\n",
       "var x = new MutationObserver(function (mutations, observer) {{\n",
       "        var display = window.getComputedStyle(gd).display;\n",
       "        if (!display || display === 'none') {{\n",
       "            console.log([gd, 'removed!']);\n",
       "            Plotly.purge(gd);\n",
       "            observer.disconnect();\n",
       "        }}\n",
       "}});\n",
       "\n",
       "// Listen for the removal of the full notebook cells\n",
       "var notebookContainer = gd.closest('#notebook-container');\n",
       "if (notebookContainer) {{\n",
       "    x.observe(notebookContainer, {childList: true});\n",
       "}}\n",
       "\n",
       "// Listen for the clearing of the current output cell\n",
       "var outputEl = gd.closest('.output');\n",
       "if (outputEl) {{\n",
       "    x.observe(outputEl, {childList: true});\n",
       "}}\n",
       "\n",
       "                        })                };                });            </script>        </div>"
      ]
     },
     "metadata": {},
     "output_type": "display_data"
    }
   ],
   "source": [
    "# Initialize figure with subplots\n",
    "fig = make_subplots(rows=2, cols=4, subplot_titles=(\"Age\", \"Gender\", \"Ethnicity\", \"Education\", \"States\"), \n",
    "                    column_widths=[0.33, 0.1, 0.285, 0.285], specs=[[{}, {}, {},{}],\n",
    "           [{\"colspan\": 4}, None, None, None]], horizontal_spacing = 0.03, vertical_spacing = 0.07)\n",
    "\n",
    "fig.add_trace(go.Scatter(name=\"Sample\", x= age.age, y=age.Sample, mode=\"markers\",\n",
    "                         marker_color = \"blue\"), row=1, col=1)\n",
    "fig.add_trace(go.Scatter(name = \"Population\", x= age.age, y=age.Population, mode=\"markers\",\n",
    "                         marker_color = \"red\"), row=1, col=1)\n",
    "fig.add_trace(go.Scatter(x= gender.sex, y=gender.Sample, mode=\"markers\", \n",
    "                         marker_color = \"blue\", showlegend=False), row=1, col=2)\n",
    "fig.add_trace(go.Scatter(x= gender.sex, y=gender.Population, mode=\"markers\", \n",
    "                         marker_color = \"red\", showlegend=False), row=1, col=2)\n",
    "fig.add_trace(go.Scatter(x= ethnicity.eth, y=ethnicity.Sample, mode=\"markers\", \n",
    "                         marker_color = \"blue\", showlegend=False), row=1, col=3)\n",
    "fig.add_trace(go.Scatter(x= ethnicity.eth, y=ethnicity.Population, mode=\"markers\", \n",
    "                         marker_color = \"red\", showlegend=False), row=1, col=3)\n",
    "fig.add_trace(go.Scatter(x= educ.educ, y=educ.Sample, mode=\"markers\", \n",
    "                         marker_color = \"blue\", showlegend=False), row=1, col=4)\n",
    "fig.add_trace(go.Scatter(x= educ.educ, y=educ.Population, mode=\"markers\", \n",
    "                         marker_color = \"red\", showlegend=False), row=1, col=4)\n",
    "fig.add_trace(go.Scatter(x= state.state, y=state.Sample, mode=\"markers\", \n",
    "                         marker_color = \"blue\", showlegend=False), row=2, col=1)\n",
    "fig.add_trace(go.Scatter(x= state.state, y=state.Population, mode=\"markers\", \n",
    "                         marker_color = \"red\", showlegend=False), row=2, col=1)\n",
    "\n",
    "fig.update_yaxes(title_text=\"Proportion\", row=1, col=1)\n",
    "fig.update_yaxes(title_text=\"Proportion\", row=2, col=1)\n",
    "fig.update_layout(title_text=\"Sample vs Population Proportions\", width = 1900, height=800)\n",
    "fig.show()"
   ]
  },
  {
   "cell_type": "code",
   "execution_count": null,
   "id": "tracked-blade",
   "metadata": {},
   "outputs": [],
   "source": []
  },
  {
   "cell_type": "code",
   "execution_count": null,
   "id": "subject-utility",
   "metadata": {},
   "outputs": [],
   "source": []
  }
 ],
 "metadata": {
  "kernelspec": {
   "display_name": "Python 3",
   "language": "python",
   "name": "python3"
  },
  "language_info": {
   "codemirror_mode": {
    "name": "ipython",
    "version": 3
   },
   "file_extension": ".py",
   "mimetype": "text/x-python",
   "name": "python",
   "nbconvert_exporter": "python",
   "pygments_lexer": "ipython3",
   "version": "3.8.5"
  }
 },
 "nbformat": 4,
 "nbformat_minor": 5
}
